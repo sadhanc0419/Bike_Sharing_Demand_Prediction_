{
  "nbformat": 4,
  "nbformat_minor": 0,
  "metadata": {
    "kernelspec": {
      "display_name": "Python 3",
      "language": "python",
      "name": "python3"
    },
    "language_info": {
      "codemirror_mode": {
        "name": "ipython",
        "version": 3
      },
      "file_extension": ".py",
      "mimetype": "text/x-python",
      "name": "python",
      "nbconvert_exporter": "python",
      "pygments_lexer": "ipython3",
      "version": "3.6.6"
    },
    "colab": {
      "provenance": [],
      "collapsed_sections": [],
      "include_colab_link": true
    }
  },
  "cells": [
    {
      "cell_type": "markdown",
      "metadata": {
        "id": "view-in-github",
        "colab_type": "text"
      },
      "source": [
        "<a href=\"https://colab.research.google.com/github/sadhanc0419/Netflix_data_investigation/blob/main/Bike_Sharing_Demand_Prediction_Capstone_Project.ipynb\" target=\"_parent\"><img src=\"https://colab.research.google.com/assets/colab-badge.svg\" alt=\"Open In Colab\"/></a>"
      ]
    },
    {
      "cell_type": "markdown",
      "metadata": {
        "id": "tOGC-qoyhJeX"
      },
      "source": [
        "# <b><u> Project Title : Seoul Bike Sharing Demand Prediction </u></b>"
      ]
    },
    {
      "cell_type": "markdown",
      "metadata": {
        "id": "Y06xIdG26kRF"
      },
      "source": [
        "## <b> Problem Description </b>\n",
        "\n",
        "### Currently Rental bikes are introduced in many urban cities for the enhancement of mobility comfort. It is important to make the rental bike available and accessible to the public at the right time as it lessens the waiting time. Eventually, providing the city with a stable supply of rental bikes becomes a major concern. The crucial part is the prediction of bike count required at each hour for the stable supply of rental bikes.\n"
      ]
    },
    {
      "cell_type": "markdown",
      "metadata": {
        "id": "AlLxAtlziMbP"
      },
      "source": [
        "## <b> Data Description </b>\n",
        "\n",
        "### <b> The dataset contains weather information (Temperature, Humidity, Windspeed, Visibility, Dewpoint, Solar radiation, Snowfall, Rainfall), the number of bikes rented per hour and date information.</b>\n",
        "\n",
        "\n",
        "### <b>Attribute Information: </b>\n",
        "\n",
        "* ### Date : year-month-day\n",
        "* ### Rented Bike count - Count of bikes rented at each hour\n",
        "* ### Hour - Hour of he day\n",
        "* ### Temperature-Temperature in Celsius\n",
        "* ### Humidity - %\n",
        "* ### Windspeed - m/s\n",
        "* ### Visibility - 10m\n",
        "* ### Dew point temperature - Celsius\n",
        "* ### Solar radiation - MJ/m2\n",
        "* ### Rainfall - mm\n",
        "* ### Snowfall - cm\n",
        "* ### Seasons - Winter, Spring, Summer, Autumn\n",
        "* ### Holiday - Holiday/No holiday\n",
        "* ### Functional Day - NoFunc(Non Functional Hours), Fun(Functional hours)"
      ]
    },
    {
      "cell_type": "markdown",
      "source": [
        "About Dataset \n",
        "\n",
        "Data Summary\n",
        "\n",
        "Feature Engineering\n",
        "\n",
        "Missing Value Analysis\n",
        "\n",
        "Outlier Analysis\n",
        "\n",
        "Correlation Analysis\n",
        "\n",
        "Visualizing Distribution Of Data\n",
        "\n",
        "Visualizing Count Vs (Month,Season,Hour,Weekday,Usertype)\n",
        "\n",
        "Filling 0's In Windspeed Using Random Forest\n",
        "\n",
        "Linear Regression Model\n",
        "\n",
        "Regularization Models\n",
        "\n",
        "Ensemble Models\n",
        "\n",
        "\n",
        "\n",
        "\n"
      ],
      "metadata": {
        "id": "96COr_lbFNHw"
      }
    },
    {
      "cell_type": "code",
      "metadata": {
        "id": "dByMsuzT8Tnw"
      },
      "source": [
        "# Importing the libraries\n",
        "import numpy as np\n",
        "import pandas as pd\n",
        "from numpy import math\n",
        "import seaborn as sns\n",
        "\n",
        "from sklearn.preprocessing import MinMaxScaler\n",
        "from sklearn.model_selection import train_test_split\n",
        "from sklearn.linear_model import LinearRegression\n",
        "from sklearn.metrics import r2_score\n",
        "from sklearn.metrics import mean_squared_error\n",
        "from datetime import datetime\n",
        "import datetime as dt\n",
        "\n",
        "import matplotlib.pyplot as plt\n",
        "\n",
        "# Importing the libraries\n",
        "import numpy as np\n",
        "import pandas as pd\n",
        "from numpy import math\n",
        "\n",
        "from sklearn.preprocessing import MinMaxScaler\n",
        "from sklearn.model_selection import train_test_split\n",
        "from sklearn.linear_model import LinearRegression\n",
        "from sklearn.metrics import r2_score\n",
        "from sklearn.metrics import mean_squared_error\n",
        "import seaborn as sns\n",
        "import matplotlib.pyplot as plt\n",
        "import warnings\n",
        "warnings.filterwarnings('ignore')"
      ],
      "execution_count": null,
      "outputs": []
    },
    {
      "cell_type": "markdown",
      "source": [
        "# Mounting Drive"
      ],
      "metadata": {
        "id": "2tTLuCpzz27z"
      }
    },
    {
      "cell_type": "code",
      "source": [
        "from google.colab import drive\n",
        "drive.mount('/content/drive')"
      ],
      "metadata": {
        "colab": {
          "base_uri": "https://localhost:8080/"
        },
        "id": "c4MEwuHzukdc",
        "outputId": "4b912e7c-f0b6-42d8-c757-7a539e328e48"
      },
      "execution_count": null,
      "outputs": [
        {
          "output_type": "stream",
          "name": "stdout",
          "text": [
            "Mounted at /content/drive\n"
          ]
        }
      ]
    },
    {
      "cell_type": "markdown",
      "source": [
        "# Importing Dataset"
      ],
      "metadata": {
        "id": "3B6y9fugz-c_"
      }
    },
    {
      "cell_type": "code",
      "source": [
        "# Importing the dataset\n",
        "df = pd.read_csv('/content/SeoulBikeData (1).csv', encoding = 'latin1')"
      ],
      "metadata": {
        "id": "OP025hZ0vTj3"
      },
      "execution_count": null,
      "outputs": []
    },
    {
      "cell_type": "markdown",
      "source": [
        "# Exploring Data"
      ],
      "metadata": {
        "id": "Fs4Y1BCw0KJ4"
      }
    },
    {
      "cell_type": "code",
      "source": [
        "df.head().T"
      ],
      "metadata": {
        "colab": {
          "base_uri": "https://localhost:8080/",
          "height": 488
        },
        "id": "Q4Bxsf50yODE",
        "outputId": "7dfbf3c4-ee7f-40b6-c492-c19f9d4d5a39"
      },
      "execution_count": null,
      "outputs": [
        {
          "output_type": "execute_result",
          "data": {
            "text/plain": [
              "                                    0           1           2           3  \\\n",
              "Date                       01/12/2017  01/12/2017  01/12/2017  01/12/2017   \n",
              "Rented Bike Count                 254         204         173         107   \n",
              "Hour                                0           1           2           3   \n",
              "Temperature(°C)                  -5.2        -5.5        -6.0        -6.2   \n",
              "Humidity(%)                        37          38          39          40   \n",
              "Wind speed (m/s)                  2.2         0.8         1.0         0.9   \n",
              "Visibility (10m)                 2000        2000        2000        2000   \n",
              "Dew point temperature(°C)       -17.6       -17.6       -17.7       -17.6   \n",
              "Solar Radiation (MJ/m2)           0.0         0.0         0.0         0.0   \n",
              "Rainfall(mm)                      0.0         0.0         0.0         0.0   \n",
              "Snowfall (cm)                     0.0         0.0         0.0         0.0   \n",
              "Seasons                        Winter      Winter      Winter      Winter   \n",
              "Holiday                    No Holiday  No Holiday  No Holiday  No Holiday   \n",
              "Functioning Day                   Yes         Yes         Yes         Yes   \n",
              "\n",
              "                                    4  \n",
              "Date                       01/12/2017  \n",
              "Rented Bike Count                  78  \n",
              "Hour                                4  \n",
              "Temperature(°C)                  -6.0  \n",
              "Humidity(%)                        36  \n",
              "Wind speed (m/s)                  2.3  \n",
              "Visibility (10m)                 2000  \n",
              "Dew point temperature(°C)       -18.6  \n",
              "Solar Radiation (MJ/m2)           0.0  \n",
              "Rainfall(mm)                      0.0  \n",
              "Snowfall (cm)                     0.0  \n",
              "Seasons                        Winter  \n",
              "Holiday                    No Holiday  \n",
              "Functioning Day                   Yes  "
            ],
            "text/html": [
              "\n",
              "  <div id=\"df-561af95e-5c29-4775-8364-51647b2d9e8d\">\n",
              "    <div class=\"colab-df-container\">\n",
              "      <div>\n",
              "<style scoped>\n",
              "    .dataframe tbody tr th:only-of-type {\n",
              "        vertical-align: middle;\n",
              "    }\n",
              "\n",
              "    .dataframe tbody tr th {\n",
              "        vertical-align: top;\n",
              "    }\n",
              "\n",
              "    .dataframe thead th {\n",
              "        text-align: right;\n",
              "    }\n",
              "</style>\n",
              "<table border=\"1\" class=\"dataframe\">\n",
              "  <thead>\n",
              "    <tr style=\"text-align: right;\">\n",
              "      <th></th>\n",
              "      <th>0</th>\n",
              "      <th>1</th>\n",
              "      <th>2</th>\n",
              "      <th>3</th>\n",
              "      <th>4</th>\n",
              "    </tr>\n",
              "  </thead>\n",
              "  <tbody>\n",
              "    <tr>\n",
              "      <th>Date</th>\n",
              "      <td>01/12/2017</td>\n",
              "      <td>01/12/2017</td>\n",
              "      <td>01/12/2017</td>\n",
              "      <td>01/12/2017</td>\n",
              "      <td>01/12/2017</td>\n",
              "    </tr>\n",
              "    <tr>\n",
              "      <th>Rented Bike Count</th>\n",
              "      <td>254</td>\n",
              "      <td>204</td>\n",
              "      <td>173</td>\n",
              "      <td>107</td>\n",
              "      <td>78</td>\n",
              "    </tr>\n",
              "    <tr>\n",
              "      <th>Hour</th>\n",
              "      <td>0</td>\n",
              "      <td>1</td>\n",
              "      <td>2</td>\n",
              "      <td>3</td>\n",
              "      <td>4</td>\n",
              "    </tr>\n",
              "    <tr>\n",
              "      <th>Temperature(°C)</th>\n",
              "      <td>-5.2</td>\n",
              "      <td>-5.5</td>\n",
              "      <td>-6.0</td>\n",
              "      <td>-6.2</td>\n",
              "      <td>-6.0</td>\n",
              "    </tr>\n",
              "    <tr>\n",
              "      <th>Humidity(%)</th>\n",
              "      <td>37</td>\n",
              "      <td>38</td>\n",
              "      <td>39</td>\n",
              "      <td>40</td>\n",
              "      <td>36</td>\n",
              "    </tr>\n",
              "    <tr>\n",
              "      <th>Wind speed (m/s)</th>\n",
              "      <td>2.2</td>\n",
              "      <td>0.8</td>\n",
              "      <td>1.0</td>\n",
              "      <td>0.9</td>\n",
              "      <td>2.3</td>\n",
              "    </tr>\n",
              "    <tr>\n",
              "      <th>Visibility (10m)</th>\n",
              "      <td>2000</td>\n",
              "      <td>2000</td>\n",
              "      <td>2000</td>\n",
              "      <td>2000</td>\n",
              "      <td>2000</td>\n",
              "    </tr>\n",
              "    <tr>\n",
              "      <th>Dew point temperature(°C)</th>\n",
              "      <td>-17.6</td>\n",
              "      <td>-17.6</td>\n",
              "      <td>-17.7</td>\n",
              "      <td>-17.6</td>\n",
              "      <td>-18.6</td>\n",
              "    </tr>\n",
              "    <tr>\n",
              "      <th>Solar Radiation (MJ/m2)</th>\n",
              "      <td>0.0</td>\n",
              "      <td>0.0</td>\n",
              "      <td>0.0</td>\n",
              "      <td>0.0</td>\n",
              "      <td>0.0</td>\n",
              "    </tr>\n",
              "    <tr>\n",
              "      <th>Rainfall(mm)</th>\n",
              "      <td>0.0</td>\n",
              "      <td>0.0</td>\n",
              "      <td>0.0</td>\n",
              "      <td>0.0</td>\n",
              "      <td>0.0</td>\n",
              "    </tr>\n",
              "    <tr>\n",
              "      <th>Snowfall (cm)</th>\n",
              "      <td>0.0</td>\n",
              "      <td>0.0</td>\n",
              "      <td>0.0</td>\n",
              "      <td>0.0</td>\n",
              "      <td>0.0</td>\n",
              "    </tr>\n",
              "    <tr>\n",
              "      <th>Seasons</th>\n",
              "      <td>Winter</td>\n",
              "      <td>Winter</td>\n",
              "      <td>Winter</td>\n",
              "      <td>Winter</td>\n",
              "      <td>Winter</td>\n",
              "    </tr>\n",
              "    <tr>\n",
              "      <th>Holiday</th>\n",
              "      <td>No Holiday</td>\n",
              "      <td>No Holiday</td>\n",
              "      <td>No Holiday</td>\n",
              "      <td>No Holiday</td>\n",
              "      <td>No Holiday</td>\n",
              "    </tr>\n",
              "    <tr>\n",
              "      <th>Functioning Day</th>\n",
              "      <td>Yes</td>\n",
              "      <td>Yes</td>\n",
              "      <td>Yes</td>\n",
              "      <td>Yes</td>\n",
              "      <td>Yes</td>\n",
              "    </tr>\n",
              "  </tbody>\n",
              "</table>\n",
              "</div>\n",
              "      <button class=\"colab-df-convert\" onclick=\"convertToInteractive('df-561af95e-5c29-4775-8364-51647b2d9e8d')\"\n",
              "              title=\"Convert this dataframe to an interactive table.\"\n",
              "              style=\"display:none;\">\n",
              "        \n",
              "  <svg xmlns=\"http://www.w3.org/2000/svg\" height=\"24px\"viewBox=\"0 0 24 24\"\n",
              "       width=\"24px\">\n",
              "    <path d=\"M0 0h24v24H0V0z\" fill=\"none\"/>\n",
              "    <path d=\"M18.56 5.44l.94 2.06.94-2.06 2.06-.94-2.06-.94-.94-2.06-.94 2.06-2.06.94zm-11 1L8.5 8.5l.94-2.06 2.06-.94-2.06-.94L8.5 2.5l-.94 2.06-2.06.94zm10 10l.94 2.06.94-2.06 2.06-.94-2.06-.94-.94-2.06-.94 2.06-2.06.94z\"/><path d=\"M17.41 7.96l-1.37-1.37c-.4-.4-.92-.59-1.43-.59-.52 0-1.04.2-1.43.59L10.3 9.45l-7.72 7.72c-.78.78-.78 2.05 0 2.83L4 21.41c.39.39.9.59 1.41.59.51 0 1.02-.2 1.41-.59l7.78-7.78 2.81-2.81c.8-.78.8-2.07 0-2.86zM5.41 20L4 18.59l7.72-7.72 1.47 1.35L5.41 20z\"/>\n",
              "  </svg>\n",
              "      </button>\n",
              "      \n",
              "  <style>\n",
              "    .colab-df-container {\n",
              "      display:flex;\n",
              "      flex-wrap:wrap;\n",
              "      gap: 12px;\n",
              "    }\n",
              "\n",
              "    .colab-df-convert {\n",
              "      background-color: #E8F0FE;\n",
              "      border: none;\n",
              "      border-radius: 50%;\n",
              "      cursor: pointer;\n",
              "      display: none;\n",
              "      fill: #1967D2;\n",
              "      height: 32px;\n",
              "      padding: 0 0 0 0;\n",
              "      width: 32px;\n",
              "    }\n",
              "\n",
              "    .colab-df-convert:hover {\n",
              "      background-color: #E2EBFA;\n",
              "      box-shadow: 0px 1px 2px rgba(60, 64, 67, 0.3), 0px 1px 3px 1px rgba(60, 64, 67, 0.15);\n",
              "      fill: #174EA6;\n",
              "    }\n",
              "\n",
              "    [theme=dark] .colab-df-convert {\n",
              "      background-color: #3B4455;\n",
              "      fill: #D2E3FC;\n",
              "    }\n",
              "\n",
              "    [theme=dark] .colab-df-convert:hover {\n",
              "      background-color: #434B5C;\n",
              "      box-shadow: 0px 1px 3px 1px rgba(0, 0, 0, 0.15);\n",
              "      filter: drop-shadow(0px 1px 2px rgba(0, 0, 0, 0.3));\n",
              "      fill: #FFFFFF;\n",
              "    }\n",
              "  </style>\n",
              "\n",
              "      <script>\n",
              "        const buttonEl =\n",
              "          document.querySelector('#df-561af95e-5c29-4775-8364-51647b2d9e8d button.colab-df-convert');\n",
              "        buttonEl.style.display =\n",
              "          google.colab.kernel.accessAllowed ? 'block' : 'none';\n",
              "\n",
              "        async function convertToInteractive(key) {\n",
              "          const element = document.querySelector('#df-561af95e-5c29-4775-8364-51647b2d9e8d');\n",
              "          const dataTable =\n",
              "            await google.colab.kernel.invokeFunction('convertToInteractive',\n",
              "                                                     [key], {});\n",
              "          if (!dataTable) return;\n",
              "\n",
              "          const docLinkHtml = 'Like what you see? Visit the ' +\n",
              "            '<a target=\"_blank\" href=https://colab.research.google.com/notebooks/data_table.ipynb>data table notebook</a>'\n",
              "            + ' to learn more about interactive tables.';\n",
              "          element.innerHTML = '';\n",
              "          dataTable['output_type'] = 'display_data';\n",
              "          await google.colab.output.renderOutput(dataTable, element);\n",
              "          const docLink = document.createElement('div');\n",
              "          docLink.innerHTML = docLinkHtml;\n",
              "          element.appendChild(docLink);\n",
              "        }\n",
              "      </script>\n",
              "    </div>\n",
              "  </div>\n",
              "  "
            ]
          },
          "metadata": {},
          "execution_count": 5
        }
      ]
    },
    {
      "cell_type": "code",
      "source": [
        "  df.isnull().T"
      ],
      "metadata": {
        "colab": {
          "base_uri": "https://localhost:8080/",
          "height": 669
        },
        "id": "3wcRnx7_yj6e",
        "outputId": "e90ea208-0d14-465b-a45e-9589e24656db"
      },
      "execution_count": null,
      "outputs": [
        {
          "output_type": "execute_result",
          "data": {
            "text/plain": [
              "                            0      1      2      3      4      5      6     \\\n",
              "Date                       False  False  False  False  False  False  False   \n",
              "Rented Bike Count          False  False  False  False  False  False  False   \n",
              "Hour                       False  False  False  False  False  False  False   \n",
              "Temperature(°C)            False  False  False  False  False  False  False   \n",
              "Humidity(%)                False  False  False  False  False  False  False   \n",
              "Wind speed (m/s)           False  False  False  False  False  False  False   \n",
              "Visibility (10m)           False  False  False  False  False  False  False   \n",
              "Dew point temperature(°C)  False  False  False  False  False  False  False   \n",
              "Solar Radiation (MJ/m2)    False  False  False  False  False  False  False   \n",
              "Rainfall(mm)               False  False  False  False  False  False  False   \n",
              "Snowfall (cm)              False  False  False  False  False  False  False   \n",
              "Seasons                    False  False  False  False  False  False  False   \n",
              "Holiday                    False  False  False  False  False  False  False   \n",
              "Functioning Day            False  False  False  False  False  False  False   \n",
              "\n",
              "                            7      8      9     ...   8750   8751   8752  \\\n",
              "Date                       False  False  False  ...  False  False  False   \n",
              "Rented Bike Count          False  False  False  ...  False  False  False   \n",
              "Hour                       False  False  False  ...  False  False  False   \n",
              "Temperature(°C)            False  False  False  ...  False  False  False   \n",
              "Humidity(%)                False  False  False  ...  False  False  False   \n",
              "Wind speed (m/s)           False  False  False  ...  False  False  False   \n",
              "Visibility (10m)           False  False  False  ...  False  False  False   \n",
              "Dew point temperature(°C)  False  False  False  ...  False  False  False   \n",
              "Solar Radiation (MJ/m2)    False  False  False  ...  False  False  False   \n",
              "Rainfall(mm)               False  False  False  ...  False  False  False   \n",
              "Snowfall (cm)              False  False  False  ...  False  False  False   \n",
              "Seasons                    False  False  False  ...  False  False  False   \n",
              "Holiday                    False  False  False  ...  False  False  False   \n",
              "Functioning Day            False  False  False  ...  False  False  False   \n",
              "\n",
              "                            8753   8754   8755   8756   8757   8758   8759  \n",
              "Date                       False  False  False  False  False  False  False  \n",
              "Rented Bike Count          False  False  False  False  False  False  False  \n",
              "Hour                       False  False  False  False  False  False  False  \n",
              "Temperature(°C)            False  False  False  False  False  False  False  \n",
              "Humidity(%)                False  False  False  False  False  False  False  \n",
              "Wind speed (m/s)           False  False  False  False  False  False  False  \n",
              "Visibility (10m)           False  False  False  False  False  False  False  \n",
              "Dew point temperature(°C)  False  False  False  False  False  False  False  \n",
              "Solar Radiation (MJ/m2)    False  False  False  False  False  False  False  \n",
              "Rainfall(mm)               False  False  False  False  False  False  False  \n",
              "Snowfall (cm)              False  False  False  False  False  False  False  \n",
              "Seasons                    False  False  False  False  False  False  False  \n",
              "Holiday                    False  False  False  False  False  False  False  \n",
              "Functioning Day            False  False  False  False  False  False  False  \n",
              "\n",
              "[14 rows x 8760 columns]"
            ],
            "text/html": [
              "\n",
              "  <div id=\"df-5e64166a-c92a-4364-950e-2c0334a12eb7\">\n",
              "    <div class=\"colab-df-container\">\n",
              "      <div>\n",
              "<style scoped>\n",
              "    .dataframe tbody tr th:only-of-type {\n",
              "        vertical-align: middle;\n",
              "    }\n",
              "\n",
              "    .dataframe tbody tr th {\n",
              "        vertical-align: top;\n",
              "    }\n",
              "\n",
              "    .dataframe thead th {\n",
              "        text-align: right;\n",
              "    }\n",
              "</style>\n",
              "<table border=\"1\" class=\"dataframe\">\n",
              "  <thead>\n",
              "    <tr style=\"text-align: right;\">\n",
              "      <th></th>\n",
              "      <th>0</th>\n",
              "      <th>1</th>\n",
              "      <th>2</th>\n",
              "      <th>3</th>\n",
              "      <th>4</th>\n",
              "      <th>5</th>\n",
              "      <th>6</th>\n",
              "      <th>7</th>\n",
              "      <th>8</th>\n",
              "      <th>9</th>\n",
              "      <th>...</th>\n",
              "      <th>8750</th>\n",
              "      <th>8751</th>\n",
              "      <th>8752</th>\n",
              "      <th>8753</th>\n",
              "      <th>8754</th>\n",
              "      <th>8755</th>\n",
              "      <th>8756</th>\n",
              "      <th>8757</th>\n",
              "      <th>8758</th>\n",
              "      <th>8759</th>\n",
              "    </tr>\n",
              "  </thead>\n",
              "  <tbody>\n",
              "    <tr>\n",
              "      <th>Date</th>\n",
              "      <td>False</td>\n",
              "      <td>False</td>\n",
              "      <td>False</td>\n",
              "      <td>False</td>\n",
              "      <td>False</td>\n",
              "      <td>False</td>\n",
              "      <td>False</td>\n",
              "      <td>False</td>\n",
              "      <td>False</td>\n",
              "      <td>False</td>\n",
              "      <td>...</td>\n",
              "      <td>False</td>\n",
              "      <td>False</td>\n",
              "      <td>False</td>\n",
              "      <td>False</td>\n",
              "      <td>False</td>\n",
              "      <td>False</td>\n",
              "      <td>False</td>\n",
              "      <td>False</td>\n",
              "      <td>False</td>\n",
              "      <td>False</td>\n",
              "    </tr>\n",
              "    <tr>\n",
              "      <th>Rented Bike Count</th>\n",
              "      <td>False</td>\n",
              "      <td>False</td>\n",
              "      <td>False</td>\n",
              "      <td>False</td>\n",
              "      <td>False</td>\n",
              "      <td>False</td>\n",
              "      <td>False</td>\n",
              "      <td>False</td>\n",
              "      <td>False</td>\n",
              "      <td>False</td>\n",
              "      <td>...</td>\n",
              "      <td>False</td>\n",
              "      <td>False</td>\n",
              "      <td>False</td>\n",
              "      <td>False</td>\n",
              "      <td>False</td>\n",
              "      <td>False</td>\n",
              "      <td>False</td>\n",
              "      <td>False</td>\n",
              "      <td>False</td>\n",
              "      <td>False</td>\n",
              "    </tr>\n",
              "    <tr>\n",
              "      <th>Hour</th>\n",
              "      <td>False</td>\n",
              "      <td>False</td>\n",
              "      <td>False</td>\n",
              "      <td>False</td>\n",
              "      <td>False</td>\n",
              "      <td>False</td>\n",
              "      <td>False</td>\n",
              "      <td>False</td>\n",
              "      <td>False</td>\n",
              "      <td>False</td>\n",
              "      <td>...</td>\n",
              "      <td>False</td>\n",
              "      <td>False</td>\n",
              "      <td>False</td>\n",
              "      <td>False</td>\n",
              "      <td>False</td>\n",
              "      <td>False</td>\n",
              "      <td>False</td>\n",
              "      <td>False</td>\n",
              "      <td>False</td>\n",
              "      <td>False</td>\n",
              "    </tr>\n",
              "    <tr>\n",
              "      <th>Temperature(°C)</th>\n",
              "      <td>False</td>\n",
              "      <td>False</td>\n",
              "      <td>False</td>\n",
              "      <td>False</td>\n",
              "      <td>False</td>\n",
              "      <td>False</td>\n",
              "      <td>False</td>\n",
              "      <td>False</td>\n",
              "      <td>False</td>\n",
              "      <td>False</td>\n",
              "      <td>...</td>\n",
              "      <td>False</td>\n",
              "      <td>False</td>\n",
              "      <td>False</td>\n",
              "      <td>False</td>\n",
              "      <td>False</td>\n",
              "      <td>False</td>\n",
              "      <td>False</td>\n",
              "      <td>False</td>\n",
              "      <td>False</td>\n",
              "      <td>False</td>\n",
              "    </tr>\n",
              "    <tr>\n",
              "      <th>Humidity(%)</th>\n",
              "      <td>False</td>\n",
              "      <td>False</td>\n",
              "      <td>False</td>\n",
              "      <td>False</td>\n",
              "      <td>False</td>\n",
              "      <td>False</td>\n",
              "      <td>False</td>\n",
              "      <td>False</td>\n",
              "      <td>False</td>\n",
              "      <td>False</td>\n",
              "      <td>...</td>\n",
              "      <td>False</td>\n",
              "      <td>False</td>\n",
              "      <td>False</td>\n",
              "      <td>False</td>\n",
              "      <td>False</td>\n",
              "      <td>False</td>\n",
              "      <td>False</td>\n",
              "      <td>False</td>\n",
              "      <td>False</td>\n",
              "      <td>False</td>\n",
              "    </tr>\n",
              "    <tr>\n",
              "      <th>Wind speed (m/s)</th>\n",
              "      <td>False</td>\n",
              "      <td>False</td>\n",
              "      <td>False</td>\n",
              "      <td>False</td>\n",
              "      <td>False</td>\n",
              "      <td>False</td>\n",
              "      <td>False</td>\n",
              "      <td>False</td>\n",
              "      <td>False</td>\n",
              "      <td>False</td>\n",
              "      <td>...</td>\n",
              "      <td>False</td>\n",
              "      <td>False</td>\n",
              "      <td>False</td>\n",
              "      <td>False</td>\n",
              "      <td>False</td>\n",
              "      <td>False</td>\n",
              "      <td>False</td>\n",
              "      <td>False</td>\n",
              "      <td>False</td>\n",
              "      <td>False</td>\n",
              "    </tr>\n",
              "    <tr>\n",
              "      <th>Visibility (10m)</th>\n",
              "      <td>False</td>\n",
              "      <td>False</td>\n",
              "      <td>False</td>\n",
              "      <td>False</td>\n",
              "      <td>False</td>\n",
              "      <td>False</td>\n",
              "      <td>False</td>\n",
              "      <td>False</td>\n",
              "      <td>False</td>\n",
              "      <td>False</td>\n",
              "      <td>...</td>\n",
              "      <td>False</td>\n",
              "      <td>False</td>\n",
              "      <td>False</td>\n",
              "      <td>False</td>\n",
              "      <td>False</td>\n",
              "      <td>False</td>\n",
              "      <td>False</td>\n",
              "      <td>False</td>\n",
              "      <td>False</td>\n",
              "      <td>False</td>\n",
              "    </tr>\n",
              "    <tr>\n",
              "      <th>Dew point temperature(°C)</th>\n",
              "      <td>False</td>\n",
              "      <td>False</td>\n",
              "      <td>False</td>\n",
              "      <td>False</td>\n",
              "      <td>False</td>\n",
              "      <td>False</td>\n",
              "      <td>False</td>\n",
              "      <td>False</td>\n",
              "      <td>False</td>\n",
              "      <td>False</td>\n",
              "      <td>...</td>\n",
              "      <td>False</td>\n",
              "      <td>False</td>\n",
              "      <td>False</td>\n",
              "      <td>False</td>\n",
              "      <td>False</td>\n",
              "      <td>False</td>\n",
              "      <td>False</td>\n",
              "      <td>False</td>\n",
              "      <td>False</td>\n",
              "      <td>False</td>\n",
              "    </tr>\n",
              "    <tr>\n",
              "      <th>Solar Radiation (MJ/m2)</th>\n",
              "      <td>False</td>\n",
              "      <td>False</td>\n",
              "      <td>False</td>\n",
              "      <td>False</td>\n",
              "      <td>False</td>\n",
              "      <td>False</td>\n",
              "      <td>False</td>\n",
              "      <td>False</td>\n",
              "      <td>False</td>\n",
              "      <td>False</td>\n",
              "      <td>...</td>\n",
              "      <td>False</td>\n",
              "      <td>False</td>\n",
              "      <td>False</td>\n",
              "      <td>False</td>\n",
              "      <td>False</td>\n",
              "      <td>False</td>\n",
              "      <td>False</td>\n",
              "      <td>False</td>\n",
              "      <td>False</td>\n",
              "      <td>False</td>\n",
              "    </tr>\n",
              "    <tr>\n",
              "      <th>Rainfall(mm)</th>\n",
              "      <td>False</td>\n",
              "      <td>False</td>\n",
              "      <td>False</td>\n",
              "      <td>False</td>\n",
              "      <td>False</td>\n",
              "      <td>False</td>\n",
              "      <td>False</td>\n",
              "      <td>False</td>\n",
              "      <td>False</td>\n",
              "      <td>False</td>\n",
              "      <td>...</td>\n",
              "      <td>False</td>\n",
              "      <td>False</td>\n",
              "      <td>False</td>\n",
              "      <td>False</td>\n",
              "      <td>False</td>\n",
              "      <td>False</td>\n",
              "      <td>False</td>\n",
              "      <td>False</td>\n",
              "      <td>False</td>\n",
              "      <td>False</td>\n",
              "    </tr>\n",
              "    <tr>\n",
              "      <th>Snowfall (cm)</th>\n",
              "      <td>False</td>\n",
              "      <td>False</td>\n",
              "      <td>False</td>\n",
              "      <td>False</td>\n",
              "      <td>False</td>\n",
              "      <td>False</td>\n",
              "      <td>False</td>\n",
              "      <td>False</td>\n",
              "      <td>False</td>\n",
              "      <td>False</td>\n",
              "      <td>...</td>\n",
              "      <td>False</td>\n",
              "      <td>False</td>\n",
              "      <td>False</td>\n",
              "      <td>False</td>\n",
              "      <td>False</td>\n",
              "      <td>False</td>\n",
              "      <td>False</td>\n",
              "      <td>False</td>\n",
              "      <td>False</td>\n",
              "      <td>False</td>\n",
              "    </tr>\n",
              "    <tr>\n",
              "      <th>Seasons</th>\n",
              "      <td>False</td>\n",
              "      <td>False</td>\n",
              "      <td>False</td>\n",
              "      <td>False</td>\n",
              "      <td>False</td>\n",
              "      <td>False</td>\n",
              "      <td>False</td>\n",
              "      <td>False</td>\n",
              "      <td>False</td>\n",
              "      <td>False</td>\n",
              "      <td>...</td>\n",
              "      <td>False</td>\n",
              "      <td>False</td>\n",
              "      <td>False</td>\n",
              "      <td>False</td>\n",
              "      <td>False</td>\n",
              "      <td>False</td>\n",
              "      <td>False</td>\n",
              "      <td>False</td>\n",
              "      <td>False</td>\n",
              "      <td>False</td>\n",
              "    </tr>\n",
              "    <tr>\n",
              "      <th>Holiday</th>\n",
              "      <td>False</td>\n",
              "      <td>False</td>\n",
              "      <td>False</td>\n",
              "      <td>False</td>\n",
              "      <td>False</td>\n",
              "      <td>False</td>\n",
              "      <td>False</td>\n",
              "      <td>False</td>\n",
              "      <td>False</td>\n",
              "      <td>False</td>\n",
              "      <td>...</td>\n",
              "      <td>False</td>\n",
              "      <td>False</td>\n",
              "      <td>False</td>\n",
              "      <td>False</td>\n",
              "      <td>False</td>\n",
              "      <td>False</td>\n",
              "      <td>False</td>\n",
              "      <td>False</td>\n",
              "      <td>False</td>\n",
              "      <td>False</td>\n",
              "    </tr>\n",
              "    <tr>\n",
              "      <th>Functioning Day</th>\n",
              "      <td>False</td>\n",
              "      <td>False</td>\n",
              "      <td>False</td>\n",
              "      <td>False</td>\n",
              "      <td>False</td>\n",
              "      <td>False</td>\n",
              "      <td>False</td>\n",
              "      <td>False</td>\n",
              "      <td>False</td>\n",
              "      <td>False</td>\n",
              "      <td>...</td>\n",
              "      <td>False</td>\n",
              "      <td>False</td>\n",
              "      <td>False</td>\n",
              "      <td>False</td>\n",
              "      <td>False</td>\n",
              "      <td>False</td>\n",
              "      <td>False</td>\n",
              "      <td>False</td>\n",
              "      <td>False</td>\n",
              "      <td>False</td>\n",
              "    </tr>\n",
              "  </tbody>\n",
              "</table>\n",
              "<p>14 rows × 8760 columns</p>\n",
              "</div>\n",
              "      <button class=\"colab-df-convert\" onclick=\"convertToInteractive('df-5e64166a-c92a-4364-950e-2c0334a12eb7')\"\n",
              "              title=\"Convert this dataframe to an interactive table.\"\n",
              "              style=\"display:none;\">\n",
              "        \n",
              "  <svg xmlns=\"http://www.w3.org/2000/svg\" height=\"24px\"viewBox=\"0 0 24 24\"\n",
              "       width=\"24px\">\n",
              "    <path d=\"M0 0h24v24H0V0z\" fill=\"none\"/>\n",
              "    <path d=\"M18.56 5.44l.94 2.06.94-2.06 2.06-.94-2.06-.94-.94-2.06-.94 2.06-2.06.94zm-11 1L8.5 8.5l.94-2.06 2.06-.94-2.06-.94L8.5 2.5l-.94 2.06-2.06.94zm10 10l.94 2.06.94-2.06 2.06-.94-2.06-.94-.94-2.06-.94 2.06-2.06.94z\"/><path d=\"M17.41 7.96l-1.37-1.37c-.4-.4-.92-.59-1.43-.59-.52 0-1.04.2-1.43.59L10.3 9.45l-7.72 7.72c-.78.78-.78 2.05 0 2.83L4 21.41c.39.39.9.59 1.41.59.51 0 1.02-.2 1.41-.59l7.78-7.78 2.81-2.81c.8-.78.8-2.07 0-2.86zM5.41 20L4 18.59l7.72-7.72 1.47 1.35L5.41 20z\"/>\n",
              "  </svg>\n",
              "      </button>\n",
              "      \n",
              "  <style>\n",
              "    .colab-df-container {\n",
              "      display:flex;\n",
              "      flex-wrap:wrap;\n",
              "      gap: 12px;\n",
              "    }\n",
              "\n",
              "    .colab-df-convert {\n",
              "      background-color: #E8F0FE;\n",
              "      border: none;\n",
              "      border-radius: 50%;\n",
              "      cursor: pointer;\n",
              "      display: none;\n",
              "      fill: #1967D2;\n",
              "      height: 32px;\n",
              "      padding: 0 0 0 0;\n",
              "      width: 32px;\n",
              "    }\n",
              "\n",
              "    .colab-df-convert:hover {\n",
              "      background-color: #E2EBFA;\n",
              "      box-shadow: 0px 1px 2px rgba(60, 64, 67, 0.3), 0px 1px 3px 1px rgba(60, 64, 67, 0.15);\n",
              "      fill: #174EA6;\n",
              "    }\n",
              "\n",
              "    [theme=dark] .colab-df-convert {\n",
              "      background-color: #3B4455;\n",
              "      fill: #D2E3FC;\n",
              "    }\n",
              "\n",
              "    [theme=dark] .colab-df-convert:hover {\n",
              "      background-color: #434B5C;\n",
              "      box-shadow: 0px 1px 3px 1px rgba(0, 0, 0, 0.15);\n",
              "      filter: drop-shadow(0px 1px 2px rgba(0, 0, 0, 0.3));\n",
              "      fill: #FFFFFF;\n",
              "    }\n",
              "  </style>\n",
              "\n",
              "      <script>\n",
              "        const buttonEl =\n",
              "          document.querySelector('#df-5e64166a-c92a-4364-950e-2c0334a12eb7 button.colab-df-convert');\n",
              "        buttonEl.style.display =\n",
              "          google.colab.kernel.accessAllowed ? 'block' : 'none';\n",
              "\n",
              "        async function convertToInteractive(key) {\n",
              "          const element = document.querySelector('#df-5e64166a-c92a-4364-950e-2c0334a12eb7');\n",
              "          const dataTable =\n",
              "            await google.colab.kernel.invokeFunction('convertToInteractive',\n",
              "                                                     [key], {});\n",
              "          if (!dataTable) return;\n",
              "\n",
              "          const docLinkHtml = 'Like what you see? Visit the ' +\n",
              "            '<a target=\"_blank\" href=https://colab.research.google.com/notebooks/data_table.ipynb>data table notebook</a>'\n",
              "            + ' to learn more about interactive tables.';\n",
              "          element.innerHTML = '';\n",
              "          dataTable['output_type'] = 'display_data';\n",
              "          await google.colab.output.renderOutput(dataTable, element);\n",
              "          const docLink = document.createElement('div');\n",
              "          docLink.innerHTML = docLinkHtml;\n",
              "          element.appendChild(docLink);\n",
              "        }\n",
              "      </script>\n",
              "    </div>\n",
              "  </div>\n",
              "  "
            ]
          },
          "metadata": {},
          "execution_count": 6
        }
      ]
    },
    {
      "cell_type": "code",
      "source": [
        "df.describe(include='all').T.fillna(' ')"
      ],
      "metadata": {
        "colab": {
          "base_uri": "https://localhost:8080/",
          "height": 488
        },
        "id": "INLrqw9sy8G1",
        "outputId": "49e3c85e-2267-4938-cc7f-c23c909c1688"
      },
      "execution_count": null,
      "outputs": [
        {
          "output_type": "execute_result",
          "data": {
            "text/plain": [
              "                            count unique         top  freq         mean  \\\n",
              "Date                       8760.0    365  01/12/2017    24                \n",
              "Rented Bike Count          8760.0                            704.602055   \n",
              "Hour                       8760.0                                  11.5   \n",
              "Temperature(°C)            8760.0                             12.882922   \n",
              "Humidity(%)                8760.0                             58.226256   \n",
              "Wind speed (m/s)           8760.0                              1.724909   \n",
              "Visibility (10m)           8760.0                           1436.825799   \n",
              "Dew point temperature(°C)  8760.0                              4.073813   \n",
              "Solar Radiation (MJ/m2)    8760.0                              0.569111   \n",
              "Rainfall(mm)               8760.0                              0.148687   \n",
              "Snowfall (cm)              8760.0                              0.075068   \n",
              "Seasons                    8760.0      4      Spring  2208                \n",
              "Holiday                    8760.0      2  No Holiday  8328                \n",
              "Functioning Day            8760.0      2         Yes  8465                \n",
              "\n",
              "                                  std   min    25%     50%      75%     max  \n",
              "Date                                                                         \n",
              "Rented Bike Count          644.997468   0.0  191.0   504.5  1065.25  3556.0  \n",
              "Hour                         6.922582   0.0   5.75    11.5    17.25    23.0  \n",
              "Temperature(°C)             11.944825 -17.8    3.5    13.7     22.5    39.4  \n",
              "Humidity(%)                 20.362413   0.0   42.0    57.0     74.0    98.0  \n",
              "Wind speed (m/s)               1.0363   0.0    0.9     1.5      2.3     7.4  \n",
              "Visibility (10m)           608.298712  27.0  940.0  1698.0   2000.0  2000.0  \n",
              "Dew point temperature(°C)   13.060369 -30.6   -4.7     5.1     14.8    27.2  \n",
              "Solar Radiation (MJ/m2)      0.868746   0.0    0.0    0.01     0.93    3.52  \n",
              "Rainfall(mm)                 1.128193   0.0    0.0     0.0      0.0    35.0  \n",
              "Snowfall (cm)                0.436746   0.0    0.0     0.0      0.0     8.8  \n",
              "Seasons                                                                      \n",
              "Holiday                                                                      \n",
              "Functioning Day                                                              "
            ],
            "text/html": [
              "\n",
              "  <div id=\"df-be1ac47b-4d7a-404c-ade0-18951060890e\">\n",
              "    <div class=\"colab-df-container\">\n",
              "      <div>\n",
              "<style scoped>\n",
              "    .dataframe tbody tr th:only-of-type {\n",
              "        vertical-align: middle;\n",
              "    }\n",
              "\n",
              "    .dataframe tbody tr th {\n",
              "        vertical-align: top;\n",
              "    }\n",
              "\n",
              "    .dataframe thead th {\n",
              "        text-align: right;\n",
              "    }\n",
              "</style>\n",
              "<table border=\"1\" class=\"dataframe\">\n",
              "  <thead>\n",
              "    <tr style=\"text-align: right;\">\n",
              "      <th></th>\n",
              "      <th>count</th>\n",
              "      <th>unique</th>\n",
              "      <th>top</th>\n",
              "      <th>freq</th>\n",
              "      <th>mean</th>\n",
              "      <th>std</th>\n",
              "      <th>min</th>\n",
              "      <th>25%</th>\n",
              "      <th>50%</th>\n",
              "      <th>75%</th>\n",
              "      <th>max</th>\n",
              "    </tr>\n",
              "  </thead>\n",
              "  <tbody>\n",
              "    <tr>\n",
              "      <th>Date</th>\n",
              "      <td>8760.0</td>\n",
              "      <td>365</td>\n",
              "      <td>01/12/2017</td>\n",
              "      <td>24</td>\n",
              "      <td></td>\n",
              "      <td></td>\n",
              "      <td></td>\n",
              "      <td></td>\n",
              "      <td></td>\n",
              "      <td></td>\n",
              "      <td></td>\n",
              "    </tr>\n",
              "    <tr>\n",
              "      <th>Rented Bike Count</th>\n",
              "      <td>8760.0</td>\n",
              "      <td></td>\n",
              "      <td></td>\n",
              "      <td></td>\n",
              "      <td>704.602055</td>\n",
              "      <td>644.997468</td>\n",
              "      <td>0.0</td>\n",
              "      <td>191.0</td>\n",
              "      <td>504.5</td>\n",
              "      <td>1065.25</td>\n",
              "      <td>3556.0</td>\n",
              "    </tr>\n",
              "    <tr>\n",
              "      <th>Hour</th>\n",
              "      <td>8760.0</td>\n",
              "      <td></td>\n",
              "      <td></td>\n",
              "      <td></td>\n",
              "      <td>11.5</td>\n",
              "      <td>6.922582</td>\n",
              "      <td>0.0</td>\n",
              "      <td>5.75</td>\n",
              "      <td>11.5</td>\n",
              "      <td>17.25</td>\n",
              "      <td>23.0</td>\n",
              "    </tr>\n",
              "    <tr>\n",
              "      <th>Temperature(°C)</th>\n",
              "      <td>8760.0</td>\n",
              "      <td></td>\n",
              "      <td></td>\n",
              "      <td></td>\n",
              "      <td>12.882922</td>\n",
              "      <td>11.944825</td>\n",
              "      <td>-17.8</td>\n",
              "      <td>3.5</td>\n",
              "      <td>13.7</td>\n",
              "      <td>22.5</td>\n",
              "      <td>39.4</td>\n",
              "    </tr>\n",
              "    <tr>\n",
              "      <th>Humidity(%)</th>\n",
              "      <td>8760.0</td>\n",
              "      <td></td>\n",
              "      <td></td>\n",
              "      <td></td>\n",
              "      <td>58.226256</td>\n",
              "      <td>20.362413</td>\n",
              "      <td>0.0</td>\n",
              "      <td>42.0</td>\n",
              "      <td>57.0</td>\n",
              "      <td>74.0</td>\n",
              "      <td>98.0</td>\n",
              "    </tr>\n",
              "    <tr>\n",
              "      <th>Wind speed (m/s)</th>\n",
              "      <td>8760.0</td>\n",
              "      <td></td>\n",
              "      <td></td>\n",
              "      <td></td>\n",
              "      <td>1.724909</td>\n",
              "      <td>1.0363</td>\n",
              "      <td>0.0</td>\n",
              "      <td>0.9</td>\n",
              "      <td>1.5</td>\n",
              "      <td>2.3</td>\n",
              "      <td>7.4</td>\n",
              "    </tr>\n",
              "    <tr>\n",
              "      <th>Visibility (10m)</th>\n",
              "      <td>8760.0</td>\n",
              "      <td></td>\n",
              "      <td></td>\n",
              "      <td></td>\n",
              "      <td>1436.825799</td>\n",
              "      <td>608.298712</td>\n",
              "      <td>27.0</td>\n",
              "      <td>940.0</td>\n",
              "      <td>1698.0</td>\n",
              "      <td>2000.0</td>\n",
              "      <td>2000.0</td>\n",
              "    </tr>\n",
              "    <tr>\n",
              "      <th>Dew point temperature(°C)</th>\n",
              "      <td>8760.0</td>\n",
              "      <td></td>\n",
              "      <td></td>\n",
              "      <td></td>\n",
              "      <td>4.073813</td>\n",
              "      <td>13.060369</td>\n",
              "      <td>-30.6</td>\n",
              "      <td>-4.7</td>\n",
              "      <td>5.1</td>\n",
              "      <td>14.8</td>\n",
              "      <td>27.2</td>\n",
              "    </tr>\n",
              "    <tr>\n",
              "      <th>Solar Radiation (MJ/m2)</th>\n",
              "      <td>8760.0</td>\n",
              "      <td></td>\n",
              "      <td></td>\n",
              "      <td></td>\n",
              "      <td>0.569111</td>\n",
              "      <td>0.868746</td>\n",
              "      <td>0.0</td>\n",
              "      <td>0.0</td>\n",
              "      <td>0.01</td>\n",
              "      <td>0.93</td>\n",
              "      <td>3.52</td>\n",
              "    </tr>\n",
              "    <tr>\n",
              "      <th>Rainfall(mm)</th>\n",
              "      <td>8760.0</td>\n",
              "      <td></td>\n",
              "      <td></td>\n",
              "      <td></td>\n",
              "      <td>0.148687</td>\n",
              "      <td>1.128193</td>\n",
              "      <td>0.0</td>\n",
              "      <td>0.0</td>\n",
              "      <td>0.0</td>\n",
              "      <td>0.0</td>\n",
              "      <td>35.0</td>\n",
              "    </tr>\n",
              "    <tr>\n",
              "      <th>Snowfall (cm)</th>\n",
              "      <td>8760.0</td>\n",
              "      <td></td>\n",
              "      <td></td>\n",
              "      <td></td>\n",
              "      <td>0.075068</td>\n",
              "      <td>0.436746</td>\n",
              "      <td>0.0</td>\n",
              "      <td>0.0</td>\n",
              "      <td>0.0</td>\n",
              "      <td>0.0</td>\n",
              "      <td>8.8</td>\n",
              "    </tr>\n",
              "    <tr>\n",
              "      <th>Seasons</th>\n",
              "      <td>8760.0</td>\n",
              "      <td>4</td>\n",
              "      <td>Spring</td>\n",
              "      <td>2208</td>\n",
              "      <td></td>\n",
              "      <td></td>\n",
              "      <td></td>\n",
              "      <td></td>\n",
              "      <td></td>\n",
              "      <td></td>\n",
              "      <td></td>\n",
              "    </tr>\n",
              "    <tr>\n",
              "      <th>Holiday</th>\n",
              "      <td>8760.0</td>\n",
              "      <td>2</td>\n",
              "      <td>No Holiday</td>\n",
              "      <td>8328</td>\n",
              "      <td></td>\n",
              "      <td></td>\n",
              "      <td></td>\n",
              "      <td></td>\n",
              "      <td></td>\n",
              "      <td></td>\n",
              "      <td></td>\n",
              "    </tr>\n",
              "    <tr>\n",
              "      <th>Functioning Day</th>\n",
              "      <td>8760.0</td>\n",
              "      <td>2</td>\n",
              "      <td>Yes</td>\n",
              "      <td>8465</td>\n",
              "      <td></td>\n",
              "      <td></td>\n",
              "      <td></td>\n",
              "      <td></td>\n",
              "      <td></td>\n",
              "      <td></td>\n",
              "      <td></td>\n",
              "    </tr>\n",
              "  </tbody>\n",
              "</table>\n",
              "</div>\n",
              "      <button class=\"colab-df-convert\" onclick=\"convertToInteractive('df-be1ac47b-4d7a-404c-ade0-18951060890e')\"\n",
              "              title=\"Convert this dataframe to an interactive table.\"\n",
              "              style=\"display:none;\">\n",
              "        \n",
              "  <svg xmlns=\"http://www.w3.org/2000/svg\" height=\"24px\"viewBox=\"0 0 24 24\"\n",
              "       width=\"24px\">\n",
              "    <path d=\"M0 0h24v24H0V0z\" fill=\"none\"/>\n",
              "    <path d=\"M18.56 5.44l.94 2.06.94-2.06 2.06-.94-2.06-.94-.94-2.06-.94 2.06-2.06.94zm-11 1L8.5 8.5l.94-2.06 2.06-.94-2.06-.94L8.5 2.5l-.94 2.06-2.06.94zm10 10l.94 2.06.94-2.06 2.06-.94-2.06-.94-.94-2.06-.94 2.06-2.06.94z\"/><path d=\"M17.41 7.96l-1.37-1.37c-.4-.4-.92-.59-1.43-.59-.52 0-1.04.2-1.43.59L10.3 9.45l-7.72 7.72c-.78.78-.78 2.05 0 2.83L4 21.41c.39.39.9.59 1.41.59.51 0 1.02-.2 1.41-.59l7.78-7.78 2.81-2.81c.8-.78.8-2.07 0-2.86zM5.41 20L4 18.59l7.72-7.72 1.47 1.35L5.41 20z\"/>\n",
              "  </svg>\n",
              "      </button>\n",
              "      \n",
              "  <style>\n",
              "    .colab-df-container {\n",
              "      display:flex;\n",
              "      flex-wrap:wrap;\n",
              "      gap: 12px;\n",
              "    }\n",
              "\n",
              "    .colab-df-convert {\n",
              "      background-color: #E8F0FE;\n",
              "      border: none;\n",
              "      border-radius: 50%;\n",
              "      cursor: pointer;\n",
              "      display: none;\n",
              "      fill: #1967D2;\n",
              "      height: 32px;\n",
              "      padding: 0 0 0 0;\n",
              "      width: 32px;\n",
              "    }\n",
              "\n",
              "    .colab-df-convert:hover {\n",
              "      background-color: #E2EBFA;\n",
              "      box-shadow: 0px 1px 2px rgba(60, 64, 67, 0.3), 0px 1px 3px 1px rgba(60, 64, 67, 0.15);\n",
              "      fill: #174EA6;\n",
              "    }\n",
              "\n",
              "    [theme=dark] .colab-df-convert {\n",
              "      background-color: #3B4455;\n",
              "      fill: #D2E3FC;\n",
              "    }\n",
              "\n",
              "    [theme=dark] .colab-df-convert:hover {\n",
              "      background-color: #434B5C;\n",
              "      box-shadow: 0px 1px 3px 1px rgba(0, 0, 0, 0.15);\n",
              "      filter: drop-shadow(0px 1px 2px rgba(0, 0, 0, 0.3));\n",
              "      fill: #FFFFFF;\n",
              "    }\n",
              "  </style>\n",
              "\n",
              "      <script>\n",
              "        const buttonEl =\n",
              "          document.querySelector('#df-be1ac47b-4d7a-404c-ade0-18951060890e button.colab-df-convert');\n",
              "        buttonEl.style.display =\n",
              "          google.colab.kernel.accessAllowed ? 'block' : 'none';\n",
              "\n",
              "        async function convertToInteractive(key) {\n",
              "          const element = document.querySelector('#df-be1ac47b-4d7a-404c-ade0-18951060890e');\n",
              "          const dataTable =\n",
              "            await google.colab.kernel.invokeFunction('convertToInteractive',\n",
              "                                                     [key], {});\n",
              "          if (!dataTable) return;\n",
              "\n",
              "          const docLinkHtml = 'Like what you see? Visit the ' +\n",
              "            '<a target=\"_blank\" href=https://colab.research.google.com/notebooks/data_table.ipynb>data table notebook</a>'\n",
              "            + ' to learn more about interactive tables.';\n",
              "          element.innerHTML = '';\n",
              "          dataTable['output_type'] = 'display_data';\n",
              "          await google.colab.output.renderOutput(dataTable, element);\n",
              "          const docLink = document.createElement('div');\n",
              "          docLink.innerHTML = docLinkHtml;\n",
              "          element.appendChild(docLink);\n",
              "        }\n",
              "      </script>\n",
              "    </div>\n",
              "  </div>\n",
              "  "
            ]
          },
          "metadata": {},
          "execution_count": 7
        }
      ]
    },
    {
      "cell_type": "code",
      "source": [
        "df.info()"
      ],
      "metadata": {
        "colab": {
          "base_uri": "https://localhost:8080/"
        },
        "id": "beH7kANvzHI-",
        "outputId": "d7591508-b2eb-4e34-bd10-d2a3c871a261"
      },
      "execution_count": null,
      "outputs": [
        {
          "output_type": "stream",
          "name": "stdout",
          "text": [
            "<class 'pandas.core.frame.DataFrame'>\n",
            "RangeIndex: 8760 entries, 0 to 8759\n",
            "Data columns (total 14 columns):\n",
            " #   Column                     Non-Null Count  Dtype  \n",
            "---  ------                     --------------  -----  \n",
            " 0   Date                       8760 non-null   object \n",
            " 1   Rented Bike Count          8760 non-null   int64  \n",
            " 2   Hour                       8760 non-null   int64  \n",
            " 3   Temperature(°C)            8760 non-null   float64\n",
            " 4   Humidity(%)                8760 non-null   int64  \n",
            " 5   Wind speed (m/s)           8760 non-null   float64\n",
            " 6   Visibility (10m)           8760 non-null   int64  \n",
            " 7   Dew point temperature(°C)  8760 non-null   float64\n",
            " 8   Solar Radiation (MJ/m2)    8760 non-null   float64\n",
            " 9   Rainfall(mm)               8760 non-null   float64\n",
            " 10  Snowfall (cm)              8760 non-null   float64\n",
            " 11  Seasons                    8760 non-null   object \n",
            " 12  Holiday                    8760 non-null   object \n",
            " 13  Functioning Day            8760 non-null   object \n",
            "dtypes: float64(6), int64(4), object(4)\n",
            "memory usage: 958.2+ KB\n"
          ]
        }
      ]
    },
    {
      "cell_type": "code",
      "source": [
        "df.nunique()"
      ],
      "metadata": {
        "colab": {
          "base_uri": "https://localhost:8080/"
        },
        "id": "dv_JRBYu0PTi",
        "outputId": "85d209ea-5f89-448c-e84f-d4c71a9e0502"
      },
      "execution_count": null,
      "outputs": [
        {
          "output_type": "execute_result",
          "data": {
            "text/plain": [
              "Date                          365\n",
              "Rented Bike Count            2166\n",
              "Hour                           24\n",
              "Temperature(°C)               546\n",
              "Humidity(%)                    90\n",
              "Wind speed (m/s)               65\n",
              "Visibility (10m)             1789\n",
              "Dew point temperature(°C)     556\n",
              "Solar Radiation (MJ/m2)       345\n",
              "Rainfall(mm)                   61\n",
              "Snowfall (cm)                  51\n",
              "Seasons                         4\n",
              "Holiday                         2\n",
              "Functioning Day                 2\n",
              "dtype: int64"
            ]
          },
          "metadata": {},
          "execution_count": 9
        }
      ]
    },
    {
      "cell_type": "code",
      "source": [
        "print(f' The given dataset have {df.shape[0]} rows and {df.shape[1]} columns.')"
      ],
      "metadata": {
        "colab": {
          "base_uri": "https://localhost:8080/"
        },
        "id": "0Qb0CqE20Y6a",
        "outputId": "efdd9c5a-ab2f-4826-f26f-2fe8a8807b9a"
      },
      "execution_count": null,
      "outputs": [
        {
          "output_type": "stream",
          "name": "stdout",
          "text": [
            " The given dataset have 8760 rows and 14 columns.\n"
          ]
        }
      ]
    },
    {
      "cell_type": "code",
      "source": [
        "print('ZZZZZZZZZZZZ')"
      ],
      "metadata": {
        "id": "wnV4YALo3XMj",
        "colab": {
          "base_uri": "https://localhost:8080/"
        },
        "outputId": "976bac33-106b-48f2-955a-53da40f037d0"
      },
      "execution_count": null,
      "outputs": [
        {
          "output_type": "stream",
          "name": "stdout",
          "text": [
            "ZZZZZZZZZZZZ\n"
          ]
        }
      ]
    },
    {
      "cell_type": "code",
      "source": [
        "df1=df.copy()"
      ],
      "metadata": {
        "id": "07lme-r-5iHk"
      },
      "execution_count": null,
      "outputs": []
    },
    {
      "cell_type": "code",
      "source": [
        "df1.nunique()"
      ],
      "metadata": {
        "colab": {
          "base_uri": "https://localhost:8080/"
        },
        "id": "kTlxxGj-Q1fV",
        "outputId": "0a667b12-d088-46bd-b894-4f00b8026cf3"
      },
      "execution_count": null,
      "outputs": [
        {
          "output_type": "execute_result",
          "data": {
            "text/plain": [
              "Date                          365\n",
              "Rented Bike Count            2166\n",
              "Hour                           24\n",
              "Temperature(°C)               546\n",
              "Humidity(%)                    90\n",
              "Wind speed (m/s)               65\n",
              "Visibility (10m)             1789\n",
              "Dew point temperature(°C)     556\n",
              "Solar Radiation (MJ/m2)       345\n",
              "Rainfall(mm)                   61\n",
              "Snowfall (cm)                  51\n",
              "Seasons                         4\n",
              "Holiday                         2\n",
              "Functioning Day                 2\n",
              "dtype: int64"
            ]
          },
          "metadata": {},
          "execution_count": 12
        }
      ]
    },
    {
      "cell_type": "code",
      "source": [
        "#column names\n",
        "df1.columns"
      ],
      "metadata": {
        "colab": {
          "base_uri": "https://localhost:8080/"
        },
        "id": "NQvgvdaLwxUT",
        "outputId": "9f75e88c-d7b7-458d-8dda-2c2bfb11cb30"
      },
      "execution_count": null,
      "outputs": [
        {
          "output_type": "execute_result",
          "data": {
            "text/plain": [
              "Index(['Date', 'Rented Bike Count', 'Hour', 'Temperature(°C)', 'Humidity(%)',\n",
              "       'Wind speed (m/s)', 'Visibility (10m)', 'Dew point temperature(°C)',\n",
              "       'Solar Radiation (MJ/m2)', 'Rainfall(mm)', 'Snowfall (cm)', 'Seasons',\n",
              "       'Holiday', 'Functioning Day'],\n",
              "      dtype='object')"
            ]
          },
          "metadata": {},
          "execution_count": 13
        }
      ]
    },
    {
      "cell_type": "code",
      "source": [
        "import datetime\n",
        "from datetime import datetime\n",
        "\n",
        "now = datetime.now() \n",
        "date_total = now.strftime(\"%d/%m/%Y %H:%M\")\n",
        "df1['Month'] = now.strftime(\"%m\")\n",
        "df1['Year']= now.strftime(\"%Y\")\n",
        "\n",
        "df1['Day'] = now.strftime(\"%d\")\n",
        "\n"
      ],
      "metadata": {
        "id": "yW5KOh-NMIvq"
      },
      "execution_count": null,
      "outputs": []
    },
    {
      "cell_type": "code",
      "source": [
        "df1[['Hour']].T"
      ],
      "metadata": {
        "colab": {
          "base_uri": "https://localhost:8080/",
          "height": 110
        },
        "id": "Q6XsCRh8OZ-e",
        "outputId": "626a1d0d-4891-4fef-eaab-218b93329acf"
      },
      "execution_count": null,
      "outputs": [
        {
          "output_type": "execute_result",
          "data": {
            "text/plain": [
              "      0     1     2     3     4     5     6     7     8     9     ...  8750  \\\n",
              "Hour     0     1     2     3     4     5     6     7     8     9  ...    14   \n",
              "\n",
              "      8751  8752  8753  8754  8755  8756  8757  8758  8759  \n",
              "Hour    15    16    17    18    19    20    21    22    23  \n",
              "\n",
              "[1 rows x 8760 columns]"
            ],
            "text/html": [
              "\n",
              "  <div id=\"df-e8e51fa6-197c-479b-82c8-16c2135bee98\">\n",
              "    <div class=\"colab-df-container\">\n",
              "      <div>\n",
              "<style scoped>\n",
              "    .dataframe tbody tr th:only-of-type {\n",
              "        vertical-align: middle;\n",
              "    }\n",
              "\n",
              "    .dataframe tbody tr th {\n",
              "        vertical-align: top;\n",
              "    }\n",
              "\n",
              "    .dataframe thead th {\n",
              "        text-align: right;\n",
              "    }\n",
              "</style>\n",
              "<table border=\"1\" class=\"dataframe\">\n",
              "  <thead>\n",
              "    <tr style=\"text-align: right;\">\n",
              "      <th></th>\n",
              "      <th>0</th>\n",
              "      <th>1</th>\n",
              "      <th>2</th>\n",
              "      <th>3</th>\n",
              "      <th>4</th>\n",
              "      <th>5</th>\n",
              "      <th>6</th>\n",
              "      <th>7</th>\n",
              "      <th>8</th>\n",
              "      <th>9</th>\n",
              "      <th>...</th>\n",
              "      <th>8750</th>\n",
              "      <th>8751</th>\n",
              "      <th>8752</th>\n",
              "      <th>8753</th>\n",
              "      <th>8754</th>\n",
              "      <th>8755</th>\n",
              "      <th>8756</th>\n",
              "      <th>8757</th>\n",
              "      <th>8758</th>\n",
              "      <th>8759</th>\n",
              "    </tr>\n",
              "  </thead>\n",
              "  <tbody>\n",
              "    <tr>\n",
              "      <th>Hour</th>\n",
              "      <td>0</td>\n",
              "      <td>1</td>\n",
              "      <td>2</td>\n",
              "      <td>3</td>\n",
              "      <td>4</td>\n",
              "      <td>5</td>\n",
              "      <td>6</td>\n",
              "      <td>7</td>\n",
              "      <td>8</td>\n",
              "      <td>9</td>\n",
              "      <td>...</td>\n",
              "      <td>14</td>\n",
              "      <td>15</td>\n",
              "      <td>16</td>\n",
              "      <td>17</td>\n",
              "      <td>18</td>\n",
              "      <td>19</td>\n",
              "      <td>20</td>\n",
              "      <td>21</td>\n",
              "      <td>22</td>\n",
              "      <td>23</td>\n",
              "    </tr>\n",
              "  </tbody>\n",
              "</table>\n",
              "<p>1 rows × 8760 columns</p>\n",
              "</div>\n",
              "      <button class=\"colab-df-convert\" onclick=\"convertToInteractive('df-e8e51fa6-197c-479b-82c8-16c2135bee98')\"\n",
              "              title=\"Convert this dataframe to an interactive table.\"\n",
              "              style=\"display:none;\">\n",
              "        \n",
              "  <svg xmlns=\"http://www.w3.org/2000/svg\" height=\"24px\"viewBox=\"0 0 24 24\"\n",
              "       width=\"24px\">\n",
              "    <path d=\"M0 0h24v24H0V0z\" fill=\"none\"/>\n",
              "    <path d=\"M18.56 5.44l.94 2.06.94-2.06 2.06-.94-2.06-.94-.94-2.06-.94 2.06-2.06.94zm-11 1L8.5 8.5l.94-2.06 2.06-.94-2.06-.94L8.5 2.5l-.94 2.06-2.06.94zm10 10l.94 2.06.94-2.06 2.06-.94-2.06-.94-.94-2.06-.94 2.06-2.06.94z\"/><path d=\"M17.41 7.96l-1.37-1.37c-.4-.4-.92-.59-1.43-.59-.52 0-1.04.2-1.43.59L10.3 9.45l-7.72 7.72c-.78.78-.78 2.05 0 2.83L4 21.41c.39.39.9.59 1.41.59.51 0 1.02-.2 1.41-.59l7.78-7.78 2.81-2.81c.8-.78.8-2.07 0-2.86zM5.41 20L4 18.59l7.72-7.72 1.47 1.35L5.41 20z\"/>\n",
              "  </svg>\n",
              "      </button>\n",
              "      \n",
              "  <style>\n",
              "    .colab-df-container {\n",
              "      display:flex;\n",
              "      flex-wrap:wrap;\n",
              "      gap: 12px;\n",
              "    }\n",
              "\n",
              "    .colab-df-convert {\n",
              "      background-color: #E8F0FE;\n",
              "      border: none;\n",
              "      border-radius: 50%;\n",
              "      cursor: pointer;\n",
              "      display: none;\n",
              "      fill: #1967D2;\n",
              "      height: 32px;\n",
              "      padding: 0 0 0 0;\n",
              "      width: 32px;\n",
              "    }\n",
              "\n",
              "    .colab-df-convert:hover {\n",
              "      background-color: #E2EBFA;\n",
              "      box-shadow: 0px 1px 2px rgba(60, 64, 67, 0.3), 0px 1px 3px 1px rgba(60, 64, 67, 0.15);\n",
              "      fill: #174EA6;\n",
              "    }\n",
              "\n",
              "    [theme=dark] .colab-df-convert {\n",
              "      background-color: #3B4455;\n",
              "      fill: #D2E3FC;\n",
              "    }\n",
              "\n",
              "    [theme=dark] .colab-df-convert:hover {\n",
              "      background-color: #434B5C;\n",
              "      box-shadow: 0px 1px 3px 1px rgba(0, 0, 0, 0.15);\n",
              "      filter: drop-shadow(0px 1px 2px rgba(0, 0, 0, 0.3));\n",
              "      fill: #FFFFFF;\n",
              "    }\n",
              "  </style>\n",
              "\n",
              "      <script>\n",
              "        const buttonEl =\n",
              "          document.querySelector('#df-e8e51fa6-197c-479b-82c8-16c2135bee98 button.colab-df-convert');\n",
              "        buttonEl.style.display =\n",
              "          google.colab.kernel.accessAllowed ? 'block' : 'none';\n",
              "\n",
              "        async function convertToInteractive(key) {\n",
              "          const element = document.querySelector('#df-e8e51fa6-197c-479b-82c8-16c2135bee98');\n",
              "          const dataTable =\n",
              "            await google.colab.kernel.invokeFunction('convertToInteractive',\n",
              "                                                     [key], {});\n",
              "          if (!dataTable) return;\n",
              "\n",
              "          const docLinkHtml = 'Like what you see? Visit the ' +\n",
              "            '<a target=\"_blank\" href=https://colab.research.google.com/notebooks/data_table.ipynb>data table notebook</a>'\n",
              "            + ' to learn more about interactive tables.';\n",
              "          element.innerHTML = '';\n",
              "          dataTable['output_type'] = 'display_data';\n",
              "          await google.colab.output.renderOutput(dataTable, element);\n",
              "          const docLink = document.createElement('div');\n",
              "          docLink.innerHTML = docLinkHtml;\n",
              "          element.appendChild(docLink);\n",
              "        }\n",
              "      </script>\n",
              "    </div>\n",
              "  </div>\n",
              "  "
            ]
          },
          "metadata": {},
          "execution_count": 15
        }
      ]
    },
    {
      "cell_type": "code",
      "source": [
        "print(df1['Hour'].unique())"
      ],
      "metadata": {
        "colab": {
          "base_uri": "https://localhost:8080/"
        },
        "id": "PPo440WlNdZ5",
        "outputId": "2bbb21e1-de39-4099-90a5-b3a7d3f87d2f"
      },
      "execution_count": null,
      "outputs": [
        {
          "output_type": "stream",
          "name": "stdout",
          "text": [
            "[ 0  1  2  3  4  5  6  7  8  9 10 11 12 13 14 15 16 17 18 19 20 21 22 23]\n"
          ]
        }
      ]
    },
    {
      "cell_type": "markdown",
      "source": [
        "# Data Cleaning"
      ],
      "metadata": {
        "id": "sIdL61fb04DH"
      }
    },
    {
      "cell_type": "code",
      "source": [
        "#Checking duplicate rows\n",
        "df1.duplicated().value_counts()"
      ],
      "metadata": {
        "colab": {
          "base_uri": "https://localhost:8080/"
        },
        "id": "Z8ZdSdCo07ER",
        "outputId": "2e9a2cd4-5774-4700-aeb6-2343f9dc250a"
      },
      "execution_count": null,
      "outputs": [
        {
          "output_type": "execute_result",
          "data": {
            "text/plain": [
              "False    8760\n",
              "dtype: int64"
            ]
          },
          "metadata": {},
          "execution_count": 17
        }
      ]
    },
    {
      "cell_type": "markdown",
      "source": [
        "There are 0 true values above, therefore there are no dupliacte rows."
      ],
      "metadata": {
        "id": "AmMw03H31IlD"
      }
    },
    {
      "cell_type": "code",
      "source": [
        "#checking for Null Values\n",
        "#df1.isna().sum().sort_values(ascending=False)[:6].reset_index().rename(columns={'index':'Columns',0:'Null'})\n",
        "df1.isna().sum()"
      ],
      "metadata": {
        "colab": {
          "base_uri": "https://localhost:8080/"
        },
        "id": "Ofv9skix1HXd",
        "outputId": "f3d3acbe-9ab9-45d6-a921-81a06dd66bc7"
      },
      "execution_count": null,
      "outputs": [
        {
          "output_type": "execute_result",
          "data": {
            "text/plain": [
              "Date                         0\n",
              "Rented Bike Count            0\n",
              "Hour                         0\n",
              "Temperature(°C)              0\n",
              "Humidity(%)                  0\n",
              "Wind speed (m/s)             0\n",
              "Visibility (10m)             0\n",
              "Dew point temperature(°C)    0\n",
              "Solar Radiation (MJ/m2)      0\n",
              "Rainfall(mm)                 0\n",
              "Snowfall (cm)                0\n",
              "Seasons                      0\n",
              "Holiday                      0\n",
              "Functioning Day              0\n",
              "Month                        0\n",
              "Year                         0\n",
              "Day                          0\n",
              "dtype: int64"
            ]
          },
          "metadata": {},
          "execution_count": 18
        }
      ]
    },
    {
      "cell_type": "markdown",
      "source": [
        "So there are 0 null values in the data."
      ],
      "metadata": {
        "id": "9DMJKGs_3T8N"
      }
    },
    {
      "cell_type": "code",
      "source": [
        "df.T"
      ],
      "metadata": {
        "colab": {
          "base_uri": "https://localhost:8080/",
          "height": 669
        },
        "id": "u76Ich4m3bIF",
        "outputId": "038e7ed0-4981-4516-a829-e4b8262426dc"
      },
      "execution_count": null,
      "outputs": [
        {
          "output_type": "execute_result",
          "data": {
            "text/plain": [
              "                                 0           1           2           3     \\\n",
              "Date                       01/12/2017  01/12/2017  01/12/2017  01/12/2017   \n",
              "Rented Bike Count                 254         204         173         107   \n",
              "Hour                                0           1           2           3   \n",
              "Temperature(°C)                  -5.2        -5.5        -6.0        -6.2   \n",
              "Humidity(%)                        37          38          39          40   \n",
              "Wind speed (m/s)                  2.2         0.8         1.0         0.9   \n",
              "Visibility (10m)                 2000        2000        2000        2000   \n",
              "Dew point temperature(°C)       -17.6       -17.6       -17.7       -17.6   \n",
              "Solar Radiation (MJ/m2)           0.0         0.0         0.0         0.0   \n",
              "Rainfall(mm)                      0.0         0.0         0.0         0.0   \n",
              "Snowfall (cm)                     0.0         0.0         0.0         0.0   \n",
              "Seasons                        Winter      Winter      Winter      Winter   \n",
              "Holiday                    No Holiday  No Holiday  No Holiday  No Holiday   \n",
              "Functioning Day                   Yes         Yes         Yes         Yes   \n",
              "\n",
              "                                 4           5           6           7     \\\n",
              "Date                       01/12/2017  01/12/2017  01/12/2017  01/12/2017   \n",
              "Rented Bike Count                  78         100         181         460   \n",
              "Hour                                4           5           6           7   \n",
              "Temperature(°C)                  -6.0        -6.4        -6.6        -7.4   \n",
              "Humidity(%)                        36          37          35          38   \n",
              "Wind speed (m/s)                  2.3         1.5         1.3         0.9   \n",
              "Visibility (10m)                 2000        2000        2000        2000   \n",
              "Dew point temperature(°C)       -18.6       -18.7       -19.5       -19.3   \n",
              "Solar Radiation (MJ/m2)           0.0         0.0         0.0         0.0   \n",
              "Rainfall(mm)                      0.0         0.0         0.0         0.0   \n",
              "Snowfall (cm)                     0.0         0.0         0.0         0.0   \n",
              "Seasons                        Winter      Winter      Winter      Winter   \n",
              "Holiday                    No Holiday  No Holiday  No Holiday  No Holiday   \n",
              "Functioning Day                   Yes         Yes         Yes         Yes   \n",
              "\n",
              "                                 8           9     ...        8750  \\\n",
              "Date                       01/12/2017  01/12/2017  ...  30/11/2018   \n",
              "Rented Bike Count                 930         490  ...         761   \n",
              "Hour                                8           9  ...          14   \n",
              "Temperature(°C)                  -7.6        -6.5  ...         7.8   \n",
              "Humidity(%)                        37          27  ...          20   \n",
              "Wind speed (m/s)                  1.1         0.5  ...         2.2   \n",
              "Visibility (10m)                 2000        1928  ...        2000   \n",
              "Dew point temperature(°C)       -19.8       -22.4  ...       -13.8   \n",
              "Solar Radiation (MJ/m2)          0.01        0.23  ...        1.67   \n",
              "Rainfall(mm)                      0.0         0.0  ...         0.0   \n",
              "Snowfall (cm)                     0.0         0.0  ...         0.0   \n",
              "Seasons                        Winter      Winter  ...      Autumn   \n",
              "Holiday                    No Holiday  No Holiday  ...  No Holiday   \n",
              "Functioning Day                   Yes         Yes  ...         Yes   \n",
              "\n",
              "                                 8751        8752        8753        8754  \\\n",
              "Date                       30/11/2018  30/11/2018  30/11/2018  30/11/2018   \n",
              "Rented Bike Count                 768         837        1047        1384   \n",
              "Hour                               15          16          17          18   \n",
              "Temperature(°C)                   7.0         7.2         6.0         4.7   \n",
              "Humidity(%)                        20          23          29          34   \n",
              "Wind speed (m/s)                  3.3         1.5         2.1         1.9   \n",
              "Visibility (10m)                 1994        1945        1877        1661   \n",
              "Dew point temperature(°C)       -14.4       -12.6       -10.7        -9.8   \n",
              "Solar Radiation (MJ/m2)          1.21        0.72        0.23         0.0   \n",
              "Rainfall(mm)                      0.0         0.0         0.0         0.0   \n",
              "Snowfall (cm)                     0.0         0.0         0.0         0.0   \n",
              "Seasons                        Autumn      Autumn      Autumn      Autumn   \n",
              "Holiday                    No Holiday  No Holiday  No Holiday  No Holiday   \n",
              "Functioning Day                   Yes         Yes         Yes         Yes   \n",
              "\n",
              "                                 8755        8756        8757        8758  \\\n",
              "Date                       30/11/2018  30/11/2018  30/11/2018  30/11/2018   \n",
              "Rented Bike Count                1003         764         694         712   \n",
              "Hour                               19          20          21          22   \n",
              "Temperature(°C)                   4.2         3.4         2.6         2.1   \n",
              "Humidity(%)                        34          37          39          41   \n",
              "Wind speed (m/s)                  2.6         2.3         0.3         1.0   \n",
              "Visibility (10m)                 1894        2000        1968        1859   \n",
              "Dew point temperature(°C)       -10.3        -9.9        -9.9        -9.8   \n",
              "Solar Radiation (MJ/m2)           0.0         0.0         0.0         0.0   \n",
              "Rainfall(mm)                      0.0         0.0         0.0         0.0   \n",
              "Snowfall (cm)                     0.0         0.0         0.0         0.0   \n",
              "Seasons                        Autumn      Autumn      Autumn      Autumn   \n",
              "Holiday                    No Holiday  No Holiday  No Holiday  No Holiday   \n",
              "Functioning Day                   Yes         Yes         Yes         Yes   \n",
              "\n",
              "                                 8759  \n",
              "Date                       30/11/2018  \n",
              "Rented Bike Count                 584  \n",
              "Hour                               23  \n",
              "Temperature(°C)                   1.9  \n",
              "Humidity(%)                        43  \n",
              "Wind speed (m/s)                  1.3  \n",
              "Visibility (10m)                 1909  \n",
              "Dew point temperature(°C)        -9.3  \n",
              "Solar Radiation (MJ/m2)           0.0  \n",
              "Rainfall(mm)                      0.0  \n",
              "Snowfall (cm)                     0.0  \n",
              "Seasons                        Autumn  \n",
              "Holiday                    No Holiday  \n",
              "Functioning Day                   Yes  \n",
              "\n",
              "[14 rows x 8760 columns]"
            ],
            "text/html": [
              "\n",
              "  <div id=\"df-9e63af3b-3f9e-4a4c-8400-ca216f49e8fe\">\n",
              "    <div class=\"colab-df-container\">\n",
              "      <div>\n",
              "<style scoped>\n",
              "    .dataframe tbody tr th:only-of-type {\n",
              "        vertical-align: middle;\n",
              "    }\n",
              "\n",
              "    .dataframe tbody tr th {\n",
              "        vertical-align: top;\n",
              "    }\n",
              "\n",
              "    .dataframe thead th {\n",
              "        text-align: right;\n",
              "    }\n",
              "</style>\n",
              "<table border=\"1\" class=\"dataframe\">\n",
              "  <thead>\n",
              "    <tr style=\"text-align: right;\">\n",
              "      <th></th>\n",
              "      <th>0</th>\n",
              "      <th>1</th>\n",
              "      <th>2</th>\n",
              "      <th>3</th>\n",
              "      <th>4</th>\n",
              "      <th>5</th>\n",
              "      <th>6</th>\n",
              "      <th>7</th>\n",
              "      <th>8</th>\n",
              "      <th>9</th>\n",
              "      <th>...</th>\n",
              "      <th>8750</th>\n",
              "      <th>8751</th>\n",
              "      <th>8752</th>\n",
              "      <th>8753</th>\n",
              "      <th>8754</th>\n",
              "      <th>8755</th>\n",
              "      <th>8756</th>\n",
              "      <th>8757</th>\n",
              "      <th>8758</th>\n",
              "      <th>8759</th>\n",
              "    </tr>\n",
              "  </thead>\n",
              "  <tbody>\n",
              "    <tr>\n",
              "      <th>Date</th>\n",
              "      <td>01/12/2017</td>\n",
              "      <td>01/12/2017</td>\n",
              "      <td>01/12/2017</td>\n",
              "      <td>01/12/2017</td>\n",
              "      <td>01/12/2017</td>\n",
              "      <td>01/12/2017</td>\n",
              "      <td>01/12/2017</td>\n",
              "      <td>01/12/2017</td>\n",
              "      <td>01/12/2017</td>\n",
              "      <td>01/12/2017</td>\n",
              "      <td>...</td>\n",
              "      <td>30/11/2018</td>\n",
              "      <td>30/11/2018</td>\n",
              "      <td>30/11/2018</td>\n",
              "      <td>30/11/2018</td>\n",
              "      <td>30/11/2018</td>\n",
              "      <td>30/11/2018</td>\n",
              "      <td>30/11/2018</td>\n",
              "      <td>30/11/2018</td>\n",
              "      <td>30/11/2018</td>\n",
              "      <td>30/11/2018</td>\n",
              "    </tr>\n",
              "    <tr>\n",
              "      <th>Rented Bike Count</th>\n",
              "      <td>254</td>\n",
              "      <td>204</td>\n",
              "      <td>173</td>\n",
              "      <td>107</td>\n",
              "      <td>78</td>\n",
              "      <td>100</td>\n",
              "      <td>181</td>\n",
              "      <td>460</td>\n",
              "      <td>930</td>\n",
              "      <td>490</td>\n",
              "      <td>...</td>\n",
              "      <td>761</td>\n",
              "      <td>768</td>\n",
              "      <td>837</td>\n",
              "      <td>1047</td>\n",
              "      <td>1384</td>\n",
              "      <td>1003</td>\n",
              "      <td>764</td>\n",
              "      <td>694</td>\n",
              "      <td>712</td>\n",
              "      <td>584</td>\n",
              "    </tr>\n",
              "    <tr>\n",
              "      <th>Hour</th>\n",
              "      <td>0</td>\n",
              "      <td>1</td>\n",
              "      <td>2</td>\n",
              "      <td>3</td>\n",
              "      <td>4</td>\n",
              "      <td>5</td>\n",
              "      <td>6</td>\n",
              "      <td>7</td>\n",
              "      <td>8</td>\n",
              "      <td>9</td>\n",
              "      <td>...</td>\n",
              "      <td>14</td>\n",
              "      <td>15</td>\n",
              "      <td>16</td>\n",
              "      <td>17</td>\n",
              "      <td>18</td>\n",
              "      <td>19</td>\n",
              "      <td>20</td>\n",
              "      <td>21</td>\n",
              "      <td>22</td>\n",
              "      <td>23</td>\n",
              "    </tr>\n",
              "    <tr>\n",
              "      <th>Temperature(°C)</th>\n",
              "      <td>-5.2</td>\n",
              "      <td>-5.5</td>\n",
              "      <td>-6.0</td>\n",
              "      <td>-6.2</td>\n",
              "      <td>-6.0</td>\n",
              "      <td>-6.4</td>\n",
              "      <td>-6.6</td>\n",
              "      <td>-7.4</td>\n",
              "      <td>-7.6</td>\n",
              "      <td>-6.5</td>\n",
              "      <td>...</td>\n",
              "      <td>7.8</td>\n",
              "      <td>7.0</td>\n",
              "      <td>7.2</td>\n",
              "      <td>6.0</td>\n",
              "      <td>4.7</td>\n",
              "      <td>4.2</td>\n",
              "      <td>3.4</td>\n",
              "      <td>2.6</td>\n",
              "      <td>2.1</td>\n",
              "      <td>1.9</td>\n",
              "    </tr>\n",
              "    <tr>\n",
              "      <th>Humidity(%)</th>\n",
              "      <td>37</td>\n",
              "      <td>38</td>\n",
              "      <td>39</td>\n",
              "      <td>40</td>\n",
              "      <td>36</td>\n",
              "      <td>37</td>\n",
              "      <td>35</td>\n",
              "      <td>38</td>\n",
              "      <td>37</td>\n",
              "      <td>27</td>\n",
              "      <td>...</td>\n",
              "      <td>20</td>\n",
              "      <td>20</td>\n",
              "      <td>23</td>\n",
              "      <td>29</td>\n",
              "      <td>34</td>\n",
              "      <td>34</td>\n",
              "      <td>37</td>\n",
              "      <td>39</td>\n",
              "      <td>41</td>\n",
              "      <td>43</td>\n",
              "    </tr>\n",
              "    <tr>\n",
              "      <th>Wind speed (m/s)</th>\n",
              "      <td>2.2</td>\n",
              "      <td>0.8</td>\n",
              "      <td>1.0</td>\n",
              "      <td>0.9</td>\n",
              "      <td>2.3</td>\n",
              "      <td>1.5</td>\n",
              "      <td>1.3</td>\n",
              "      <td>0.9</td>\n",
              "      <td>1.1</td>\n",
              "      <td>0.5</td>\n",
              "      <td>...</td>\n",
              "      <td>2.2</td>\n",
              "      <td>3.3</td>\n",
              "      <td>1.5</td>\n",
              "      <td>2.1</td>\n",
              "      <td>1.9</td>\n",
              "      <td>2.6</td>\n",
              "      <td>2.3</td>\n",
              "      <td>0.3</td>\n",
              "      <td>1.0</td>\n",
              "      <td>1.3</td>\n",
              "    </tr>\n",
              "    <tr>\n",
              "      <th>Visibility (10m)</th>\n",
              "      <td>2000</td>\n",
              "      <td>2000</td>\n",
              "      <td>2000</td>\n",
              "      <td>2000</td>\n",
              "      <td>2000</td>\n",
              "      <td>2000</td>\n",
              "      <td>2000</td>\n",
              "      <td>2000</td>\n",
              "      <td>2000</td>\n",
              "      <td>1928</td>\n",
              "      <td>...</td>\n",
              "      <td>2000</td>\n",
              "      <td>1994</td>\n",
              "      <td>1945</td>\n",
              "      <td>1877</td>\n",
              "      <td>1661</td>\n",
              "      <td>1894</td>\n",
              "      <td>2000</td>\n",
              "      <td>1968</td>\n",
              "      <td>1859</td>\n",
              "      <td>1909</td>\n",
              "    </tr>\n",
              "    <tr>\n",
              "      <th>Dew point temperature(°C)</th>\n",
              "      <td>-17.6</td>\n",
              "      <td>-17.6</td>\n",
              "      <td>-17.7</td>\n",
              "      <td>-17.6</td>\n",
              "      <td>-18.6</td>\n",
              "      <td>-18.7</td>\n",
              "      <td>-19.5</td>\n",
              "      <td>-19.3</td>\n",
              "      <td>-19.8</td>\n",
              "      <td>-22.4</td>\n",
              "      <td>...</td>\n",
              "      <td>-13.8</td>\n",
              "      <td>-14.4</td>\n",
              "      <td>-12.6</td>\n",
              "      <td>-10.7</td>\n",
              "      <td>-9.8</td>\n",
              "      <td>-10.3</td>\n",
              "      <td>-9.9</td>\n",
              "      <td>-9.9</td>\n",
              "      <td>-9.8</td>\n",
              "      <td>-9.3</td>\n",
              "    </tr>\n",
              "    <tr>\n",
              "      <th>Solar Radiation (MJ/m2)</th>\n",
              "      <td>0.0</td>\n",
              "      <td>0.0</td>\n",
              "      <td>0.0</td>\n",
              "      <td>0.0</td>\n",
              "      <td>0.0</td>\n",
              "      <td>0.0</td>\n",
              "      <td>0.0</td>\n",
              "      <td>0.0</td>\n",
              "      <td>0.01</td>\n",
              "      <td>0.23</td>\n",
              "      <td>...</td>\n",
              "      <td>1.67</td>\n",
              "      <td>1.21</td>\n",
              "      <td>0.72</td>\n",
              "      <td>0.23</td>\n",
              "      <td>0.0</td>\n",
              "      <td>0.0</td>\n",
              "      <td>0.0</td>\n",
              "      <td>0.0</td>\n",
              "      <td>0.0</td>\n",
              "      <td>0.0</td>\n",
              "    </tr>\n",
              "    <tr>\n",
              "      <th>Rainfall(mm)</th>\n",
              "      <td>0.0</td>\n",
              "      <td>0.0</td>\n",
              "      <td>0.0</td>\n",
              "      <td>0.0</td>\n",
              "      <td>0.0</td>\n",
              "      <td>0.0</td>\n",
              "      <td>0.0</td>\n",
              "      <td>0.0</td>\n",
              "      <td>0.0</td>\n",
              "      <td>0.0</td>\n",
              "      <td>...</td>\n",
              "      <td>0.0</td>\n",
              "      <td>0.0</td>\n",
              "      <td>0.0</td>\n",
              "      <td>0.0</td>\n",
              "      <td>0.0</td>\n",
              "      <td>0.0</td>\n",
              "      <td>0.0</td>\n",
              "      <td>0.0</td>\n",
              "      <td>0.0</td>\n",
              "      <td>0.0</td>\n",
              "    </tr>\n",
              "    <tr>\n",
              "      <th>Snowfall (cm)</th>\n",
              "      <td>0.0</td>\n",
              "      <td>0.0</td>\n",
              "      <td>0.0</td>\n",
              "      <td>0.0</td>\n",
              "      <td>0.0</td>\n",
              "      <td>0.0</td>\n",
              "      <td>0.0</td>\n",
              "      <td>0.0</td>\n",
              "      <td>0.0</td>\n",
              "      <td>0.0</td>\n",
              "      <td>...</td>\n",
              "      <td>0.0</td>\n",
              "      <td>0.0</td>\n",
              "      <td>0.0</td>\n",
              "      <td>0.0</td>\n",
              "      <td>0.0</td>\n",
              "      <td>0.0</td>\n",
              "      <td>0.0</td>\n",
              "      <td>0.0</td>\n",
              "      <td>0.0</td>\n",
              "      <td>0.0</td>\n",
              "    </tr>\n",
              "    <tr>\n",
              "      <th>Seasons</th>\n",
              "      <td>Winter</td>\n",
              "      <td>Winter</td>\n",
              "      <td>Winter</td>\n",
              "      <td>Winter</td>\n",
              "      <td>Winter</td>\n",
              "      <td>Winter</td>\n",
              "      <td>Winter</td>\n",
              "      <td>Winter</td>\n",
              "      <td>Winter</td>\n",
              "      <td>Winter</td>\n",
              "      <td>...</td>\n",
              "      <td>Autumn</td>\n",
              "      <td>Autumn</td>\n",
              "      <td>Autumn</td>\n",
              "      <td>Autumn</td>\n",
              "      <td>Autumn</td>\n",
              "      <td>Autumn</td>\n",
              "      <td>Autumn</td>\n",
              "      <td>Autumn</td>\n",
              "      <td>Autumn</td>\n",
              "      <td>Autumn</td>\n",
              "    </tr>\n",
              "    <tr>\n",
              "      <th>Holiday</th>\n",
              "      <td>No Holiday</td>\n",
              "      <td>No Holiday</td>\n",
              "      <td>No Holiday</td>\n",
              "      <td>No Holiday</td>\n",
              "      <td>No Holiday</td>\n",
              "      <td>No Holiday</td>\n",
              "      <td>No Holiday</td>\n",
              "      <td>No Holiday</td>\n",
              "      <td>No Holiday</td>\n",
              "      <td>No Holiday</td>\n",
              "      <td>...</td>\n",
              "      <td>No Holiday</td>\n",
              "      <td>No Holiday</td>\n",
              "      <td>No Holiday</td>\n",
              "      <td>No Holiday</td>\n",
              "      <td>No Holiday</td>\n",
              "      <td>No Holiday</td>\n",
              "      <td>No Holiday</td>\n",
              "      <td>No Holiday</td>\n",
              "      <td>No Holiday</td>\n",
              "      <td>No Holiday</td>\n",
              "    </tr>\n",
              "    <tr>\n",
              "      <th>Functioning Day</th>\n",
              "      <td>Yes</td>\n",
              "      <td>Yes</td>\n",
              "      <td>Yes</td>\n",
              "      <td>Yes</td>\n",
              "      <td>Yes</td>\n",
              "      <td>Yes</td>\n",
              "      <td>Yes</td>\n",
              "      <td>Yes</td>\n",
              "      <td>Yes</td>\n",
              "      <td>Yes</td>\n",
              "      <td>...</td>\n",
              "      <td>Yes</td>\n",
              "      <td>Yes</td>\n",
              "      <td>Yes</td>\n",
              "      <td>Yes</td>\n",
              "      <td>Yes</td>\n",
              "      <td>Yes</td>\n",
              "      <td>Yes</td>\n",
              "      <td>Yes</td>\n",
              "      <td>Yes</td>\n",
              "      <td>Yes</td>\n",
              "    </tr>\n",
              "  </tbody>\n",
              "</table>\n",
              "<p>14 rows × 8760 columns</p>\n",
              "</div>\n",
              "      <button class=\"colab-df-convert\" onclick=\"convertToInteractive('df-9e63af3b-3f9e-4a4c-8400-ca216f49e8fe')\"\n",
              "              title=\"Convert this dataframe to an interactive table.\"\n",
              "              style=\"display:none;\">\n",
              "        \n",
              "  <svg xmlns=\"http://www.w3.org/2000/svg\" height=\"24px\"viewBox=\"0 0 24 24\"\n",
              "       width=\"24px\">\n",
              "    <path d=\"M0 0h24v24H0V0z\" fill=\"none\"/>\n",
              "    <path d=\"M18.56 5.44l.94 2.06.94-2.06 2.06-.94-2.06-.94-.94-2.06-.94 2.06-2.06.94zm-11 1L8.5 8.5l.94-2.06 2.06-.94-2.06-.94L8.5 2.5l-.94 2.06-2.06.94zm10 10l.94 2.06.94-2.06 2.06-.94-2.06-.94-.94-2.06-.94 2.06-2.06.94z\"/><path d=\"M17.41 7.96l-1.37-1.37c-.4-.4-.92-.59-1.43-.59-.52 0-1.04.2-1.43.59L10.3 9.45l-7.72 7.72c-.78.78-.78 2.05 0 2.83L4 21.41c.39.39.9.59 1.41.59.51 0 1.02-.2 1.41-.59l7.78-7.78 2.81-2.81c.8-.78.8-2.07 0-2.86zM5.41 20L4 18.59l7.72-7.72 1.47 1.35L5.41 20z\"/>\n",
              "  </svg>\n",
              "      </button>\n",
              "      \n",
              "  <style>\n",
              "    .colab-df-container {\n",
              "      display:flex;\n",
              "      flex-wrap:wrap;\n",
              "      gap: 12px;\n",
              "    }\n",
              "\n",
              "    .colab-df-convert {\n",
              "      background-color: #E8F0FE;\n",
              "      border: none;\n",
              "      border-radius: 50%;\n",
              "      cursor: pointer;\n",
              "      display: none;\n",
              "      fill: #1967D2;\n",
              "      height: 32px;\n",
              "      padding: 0 0 0 0;\n",
              "      width: 32px;\n",
              "    }\n",
              "\n",
              "    .colab-df-convert:hover {\n",
              "      background-color: #E2EBFA;\n",
              "      box-shadow: 0px 1px 2px rgba(60, 64, 67, 0.3), 0px 1px 3px 1px rgba(60, 64, 67, 0.15);\n",
              "      fill: #174EA6;\n",
              "    }\n",
              "\n",
              "    [theme=dark] .colab-df-convert {\n",
              "      background-color: #3B4455;\n",
              "      fill: #D2E3FC;\n",
              "    }\n",
              "\n",
              "    [theme=dark] .colab-df-convert:hover {\n",
              "      background-color: #434B5C;\n",
              "      box-shadow: 0px 1px 3px 1px rgba(0, 0, 0, 0.15);\n",
              "      filter: drop-shadow(0px 1px 2px rgba(0, 0, 0, 0.3));\n",
              "      fill: #FFFFFF;\n",
              "    }\n",
              "  </style>\n",
              "\n",
              "      <script>\n",
              "        const buttonEl =\n",
              "          document.querySelector('#df-9e63af3b-3f9e-4a4c-8400-ca216f49e8fe button.colab-df-convert');\n",
              "        buttonEl.style.display =\n",
              "          google.colab.kernel.accessAllowed ? 'block' : 'none';\n",
              "\n",
              "        async function convertToInteractive(key) {\n",
              "          const element = document.querySelector('#df-9e63af3b-3f9e-4a4c-8400-ca216f49e8fe');\n",
              "          const dataTable =\n",
              "            await google.colab.kernel.invokeFunction('convertToInteractive',\n",
              "                                                     [key], {});\n",
              "          if (!dataTable) return;\n",
              "\n",
              "          const docLinkHtml = 'Like what you see? Visit the ' +\n",
              "            '<a target=\"_blank\" href=https://colab.research.google.com/notebooks/data_table.ipynb>data table notebook</a>'\n",
              "            + ' to learn more about interactive tables.';\n",
              "          element.innerHTML = '';\n",
              "          dataTable['output_type'] = 'display_data';\n",
              "          await google.colab.output.renderOutput(dataTable, element);\n",
              "          const docLink = document.createElement('div');\n",
              "          docLink.innerHTML = docLinkHtml;\n",
              "          element.appendChild(docLink);\n",
              "        }\n",
              "      </script>\n",
              "    </div>\n",
              "  </div>\n",
              "  "
            ]
          },
          "metadata": {},
          "execution_count": 19
        }
      ]
    },
    {
      "cell_type": "code",
      "source": [
        "df1.columns"
      ],
      "metadata": {
        "colab": {
          "base_uri": "https://localhost:8080/"
        },
        "id": "9n4n0eMU4MKd",
        "outputId": "a1c78c15-f09a-45c9-d1ab-687065310d4d"
      },
      "execution_count": null,
      "outputs": [
        {
          "output_type": "execute_result",
          "data": {
            "text/plain": [
              "Index(['Date', 'Rented Bike Count', 'Hour', 'Temperature(°C)', 'Humidity(%)',\n",
              "       'Wind speed (m/s)', 'Visibility (10m)', 'Dew point temperature(°C)',\n",
              "       'Solar Radiation (MJ/m2)', 'Rainfall(mm)', 'Snowfall (cm)', 'Seasons',\n",
              "       'Holiday', 'Functioning Day', 'Month', 'Year', 'Day'],\n",
              "      dtype='object')"
            ]
          },
          "metadata": {},
          "execution_count": 20
        }
      ]
    },
    {
      "cell_type": "code",
      "source": [
        "df1.info()"
      ],
      "metadata": {
        "colab": {
          "base_uri": "https://localhost:8080/"
        },
        "id": "EJvN-DZKZxJc",
        "outputId": "eaa40baa-df30-431c-fe98-c83ca449f917"
      },
      "execution_count": null,
      "outputs": [
        {
          "output_type": "stream",
          "name": "stdout",
          "text": [
            "<class 'pandas.core.frame.DataFrame'>\n",
            "RangeIndex: 8760 entries, 0 to 8759\n",
            "Data columns (total 17 columns):\n",
            " #   Column                     Non-Null Count  Dtype  \n",
            "---  ------                     --------------  -----  \n",
            " 0   Date                       8760 non-null   object \n",
            " 1   Rented Bike Count          8760 non-null   int64  \n",
            " 2   Hour                       8760 non-null   int64  \n",
            " 3   Temperature(°C)            8760 non-null   float64\n",
            " 4   Humidity(%)                8760 non-null   int64  \n",
            " 5   Wind speed (m/s)           8760 non-null   float64\n",
            " 6   Visibility (10m)           8760 non-null   int64  \n",
            " 7   Dew point temperature(°C)  8760 non-null   float64\n",
            " 8   Solar Radiation (MJ/m2)    8760 non-null   float64\n",
            " 9   Rainfall(mm)               8760 non-null   float64\n",
            " 10  Snowfall (cm)              8760 non-null   float64\n",
            " 11  Seasons                    8760 non-null   object \n",
            " 12  Holiday                    8760 non-null   object \n",
            " 13  Functioning Day            8760 non-null   object \n",
            " 14  Month                      8760 non-null   object \n",
            " 15  Year                       8760 non-null   object \n",
            " 16  Day                        8760 non-null   object \n",
            "dtypes: float64(6), int64(4), object(7)\n",
            "memory usage: 1.1+ MB\n"
          ]
        }
      ]
    },
    {
      "cell_type": "code",
      "source": [
        "df1.nunique()"
      ],
      "metadata": {
        "colab": {
          "base_uri": "https://localhost:8080/"
        },
        "id": "dmBpc3K2Q82b",
        "outputId": "7dc02c04-a2cd-4e4d-e15d-3f2633c15a2f"
      },
      "execution_count": null,
      "outputs": [
        {
          "output_type": "execute_result",
          "data": {
            "text/plain": [
              "Date                          365\n",
              "Rented Bike Count            2166\n",
              "Hour                           24\n",
              "Temperature(°C)               546\n",
              "Humidity(%)                    90\n",
              "Wind speed (m/s)               65\n",
              "Visibility (10m)             1789\n",
              "Dew point temperature(°C)     556\n",
              "Solar Radiation (MJ/m2)       345\n",
              "Rainfall(mm)                   61\n",
              "Snowfall (cm)                  51\n",
              "Seasons                         4\n",
              "Holiday                         2\n",
              "Functioning Day                 2\n",
              "Month                           1\n",
              "Year                            1\n",
              "Day                             1\n",
              "dtype: int64"
            ]
          },
          "metadata": {},
          "execution_count": 22
        }
      ]
    },
    {
      "cell_type": "code",
      "source": [
        "print(df1['Holiday'].unique(), \n",
        "df1['Functioning Day'].unique(),\n",
        "df1['Seasons'].unique(),\n",
        ")"
      ],
      "metadata": {
        "colab": {
          "base_uri": "https://localhost:8080/"
        },
        "id": "8U4pMRmIRn3O",
        "outputId": "55fe5420-50da-45cc-d311-0df9781e45aa"
      },
      "execution_count": null,
      "outputs": [
        {
          "output_type": "stream",
          "name": "stdout",
          "text": [
            "['No Holiday' 'Holiday'] ['Yes' 'No'] ['Winter' 'Spring' 'Summer' 'Autumn']\n"
          ]
        }
      ]
    },
    {
      "cell_type": "markdown",
      "source": [
        "# **Exploratory Data Analysis**"
      ],
      "metadata": {
        "id": "uguNgUMiTkJr"
      }
    },
    {
      "cell_type": "markdown",
      "source": [
        "## Univariate Analysis"
      ],
      "metadata": {
        "id": "7gtFXTy5T8wn"
      }
    },
    {
      "cell_type": "code",
      "source": [
        "df.columns"
      ],
      "metadata": {
        "colab": {
          "base_uri": "https://localhost:8080/"
        },
        "id": "cHEM4AR8Va5U",
        "outputId": "b2d56789-10ec-4c0c-99b3-3eb68f7a9cca"
      },
      "execution_count": null,
      "outputs": [
        {
          "output_type": "execute_result",
          "data": {
            "text/plain": [
              "Index(['Date', 'Rented Bike Count', 'Hour', 'Temperature(°C)', 'Humidity(%)',\n",
              "       'Wind speed (m/s)', 'Visibility (10m)', 'Dew point temperature(°C)',\n",
              "       'Solar Radiation (MJ/m2)', 'Rainfall(mm)', 'Snowfall (cm)', 'Seasons',\n",
              "       'Holiday', 'Functioning Day'],\n",
              "      dtype='object')"
            ]
          },
          "metadata": {},
          "execution_count": 24
        }
      ]
    },
    {
      "cell_type": "code",
      "source": [
        "# Dependent variable 'Price'\n",
        "plt.figure(figsize=(7,7))\n",
        "sns.distplot(df1['Rented Bike Count'],color=\"b\")"
      ],
      "metadata": {
        "colab": {
          "base_uri": "https://localhost:8080/",
          "height": 459
        },
        "id": "qdqjAgORS0Pt",
        "outputId": "3bb19711-120e-40cd-b608-08b77486bd37"
      },
      "execution_count": null,
      "outputs": [
        {
          "output_type": "execute_result",
          "data": {
            "text/plain": [
              "<matplotlib.axes._subplots.AxesSubplot at 0x7f7278893850>"
            ]
          },
          "metadata": {},
          "execution_count": 25
        },
        {
          "output_type": "display_data",
          "data": {
            "text/plain": [
              "<Figure size 504x504 with 1 Axes>"
            ],
            "image/png": "[encoded data removed]"
          },
          "metadata": {
            "needs_background": "light"
          }
        }
      ]
    },
    {
      "cell_type": "code",
      "source": [
        "#Checking the no. of 0 in the Rented Bike Count column\n",
        "len(df1[df1['Rented Bike Count'].map(lambda x: x==0)])"
      ],
      "metadata": {
        "colab": {
          "base_uri": "https://localhost:8080/"
        },
        "id": "wCZQyLVadGiB",
        "outputId": "71a9b77a-9497-4d78-feee-cd8cbe3eb86a"
      },
      "execution_count": null,
      "outputs": [
        {
          "output_type": "execute_result",
          "data": {
            "text/plain": [
              "295"
            ]
          },
          "metadata": {},
          "execution_count": 26
        }
      ]
    },
    {
      "cell_type": "code",
      "source": [
        "count1 = list(np.log10(df1['Rented Bike Count']).unique())\n",
        "count1.sort()\n",
        "print(count1)"
      ],
      "metadata": {
        "colab": {
          "base_uri": "https://localhost:8080/"
        },
        "id": "klxnHPvoaj7c",
        "outputId": "23eaefc9-ae4a-4205-de8b-fcd3e2e8a8d5"
      },
      "execution_count": null,
      "outputs": [
        {
          "output_type": "stream",
          "name": "stdout",
          "text": [
            "[-inf, 0.3010299956639812, 0.47712125471966244, 0.6020599913279624, 0.6989700043360189, 0.7781512503836436, 0.8450980400142568, 0.9030899869919435, 0.9542425094393249, 1.0, 1.041392685158225, 1.0791812460476249, 1.1139433523068367, 1.146128035678238, 1.1760912590556813, 1.2041199826559248, 1.2304489213782739, 1.255272505103306, 1.2787536009528289, 1.3010299956639813, 1.3222192947339193, 1.3424226808222062, 1.3617278360175928, 1.380211241711606, 1.3979400086720377, 1.414973347970818, 1.4313637641589874, 1.4471580313422192, 1.462397997898956, 1.4771212547196624, 1.4913616938342726, 1.505149978319906, 1.5185139398778875, 1.5314789170422551, 1.5440680443502757, 1.5563025007672873, 1.568201724066995, 1.5797835966168101, 1.591064607026499, 1.6020599913279625, 1.6127838567197355, 1.6232492903979006, 1.6334684555795866, 1.6434526764861874, 1.6532125137753437, 1.662757831681574, 1.6720978579357175, 1.6812412373755872, 1.6901960800285136, 1.6989700043360187, 1.7075701760979363, 1.7160033436347992, 1.7242758696007892, 1.7323937598229686, 1.7403626894942439, 1.7481880270062005, 1.7558748556724915, 1.7634279935629373, 1.7708520116421442, 1.7781512503836436, 1.7853298350107671, 1.792391689498254, 1.7993405494535817, 1.806179973983887, 1.8129133566428555, 1.8195439355418688, 1.8260748027008264, 1.8325089127062364, 1.8388490907372552, 1.845098040014257, 1.8512583487190752, 1.8573324964312685, 1.863322860120456, 1.8692317197309762, 1.8750612633917, 1.8808135922807914, 1.8864907251724818, 1.8920946026904804, 1.8976270912904414, 1.9030899869919435, 1.9084850188786497, 1.9138138523837167, 1.919078092376074, 1.9242792860618816, 1.9294189257142929, 1.9344984512435677, 1.9395192526186185, 1.9444826721501687, 1.9493900066449128, 1.9542425094393248, 1.9590413923210936, 1.9637878273455553, 1.968482948553935, 1.9731278535996986, 1.9777236052888478, 1.9822712330395684, 1.9867717342662448, 1.9912260756924949, 1.99563519459755, 2.0, 2.0043213737826426, 2.0086001717619175, 2.012837224705172, 2.0170333392987803, 2.0211892990699383, 2.0253058652647704, 2.0293837776852097, 2.03342375548695, 2.037426497940624, 2.041392685158225, 2.0453229787866576, 2.0492180226701815, 2.05307844348342, 2.0569048513364727, 2.060697840353612, 2.0644579892269186, 2.0681858617461617, 2.0718820073061255, 2.075546961392531, 2.0791812460476247, 2.08278537031645, 2.0863598306747484, 2.089905111439398, 2.093421685162235, 2.0969100130080562, 2.100370545117563, 2.103803720955957, 2.1072099696478683, 2.110589710299249, 2.113943352306837, 2.1172712956557644, 2.12057393120585, 2.123851640967086, 2.1271047983648077, 2.130333768495006, 2.1335389083702174, 2.1367205671564067, 2.1398790864012365, 2.143014800254095, 2.146128035678238, 2.1492191126553797, 2.1522883443830563, 2.155336037465062, 2.1583624920952498, 2.161368002234975, 2.164352855784437, 2.167317334748176, 2.1702617153949575, 2.173186268412274, 2.1760912590556813, 2.1789769472931693, 2.1818435879447726, 2.184691430817599, 2.187520720836463, 2.1903316981702914, 2.1931245983544616, 2.1958996524092336, 2.1986570869544226, 2.2013971243204513, 2.204119982655925, 2.2068258760318495, 2.2095150145426308, 2.2121876044039577, 2.214843848047698, 2.2174839442139063, 2.220108088040055, 2.2227164711475833, 2.225309281725863, 2.2278867046136734, 2.230448921378274, 2.2329961103921536, 2.2355284469075487, 2.2380461031287955, 2.2405492482825995, 2.2430380486862944, 2.24551266781415, 2.2479732663618064, 2.250420002308894, 2.2528530309798933, 2.255272505103306, 2.2576785748691846, 2.2600713879850747, 2.2624510897304293, 2.2648178230095364, 2.2671717284030137, 2.2695129442179165, 2.271841606536499, 2.27415784926368, 2.2764618041732443, 2.278753600952829, 2.2810333672477277, 2.2833012287035497, 2.285557309007774, 2.287801729930226, 2.290034611362518, 2.292256071356476, 2.294466226161593, 2.296665190261531, 2.298853076409707, 2.3010299956639813, 2.303196057420489, 2.305351369446624, 2.307496037913213, 2.3096301674258988, 2.311753861055754, 2.3138672203691533, 2.315970345456918, 2.3180633349627615, 2.320146286111054, 2.322219294733919, 2.3242824552976926, 2.3263358609287517, 2.3283796034387376, 2.330413773349191, 2.3324384599156054, 2.3344537511509307, 2.3364597338485296, 2.3384564936046046, 2.3404441148401185, 2.342422680822206, 2.3443922736851106, 2.346352974450639, 2.3483048630481607, 2.3502480183341627, 2.3521825181113627, 2.3541084391474008, 2.3560258571931225, 2.357934847000454, 2.359835482339888, 2.361727836017593, 2.3636119798921444, 2.3654879848909, 2.367355921026019, 2.369215857410143, 2.3710678622717363, 2.3729120029701067, 2.374748346010104, 2.376576957056512, 2.3783979009481375, 2.380211241711606, 2.3820170425748683, 2.383815365980431, 2.385606273598312, 2.3873898263387296, 2.3891660843645326, 2.3909351071033793, 2.392696953259666, 2.3944516808262164, 2.3961993470957363, 2.3979400086720375, 2.399673721481038, 2.401400540781544, 2.403120521175818, 2.404833716619938, 2.406540180433955, 2.4082399653118496, 2.4099331233312946, 2.41161970596323, 2.413299764081252, 2.4149733479708178, 2.416640507338281, 2.4183012913197452, 2.419955748489758, 2.4216039268698313, 2.423245873936808, 2.424881636631067, 2.4265112613645754, 2.428134794028789, 2.429752280002408, 2.4313637641589874, 2.432969290874406, 2.4345689040341987, 2.436162647040756, 2.437750562820388, 2.439332693830263, 2.4409090820652177, 2.4424797690644486, 2.444044795918076, 2.4456042032735974, 2.4471580313422194, 2.44870631990508, 2.450249108319361, 2.45178643552429, 2.4533183400470375, 2.45484486000851, 2.456366033129043, 2.4578818967339924, 2.459392487759231, 2.4608978427565478, 2.462397997898956, 2.4638929889859074, 2.4653828514484184, 2.4668676203541096, 2.4683473304121573, 2.469822015978163, 2.4712917110589387, 2.4727564493172123, 2.4742162640762553, 2.4756711883244296, 2.4771212547196626, 2.478566495593843, 2.4800069429571505, 2.481442628502305, 2.482873583608754, 2.484299839346786, 2.48572142648158, 2.4871383754771865, 2.4885507165004443, 2.4899584794248346, 2.4913616938342726, 2.4927603890268375, 2.494154594018443, 2.4955443375464483, 2.496929648073215, 2.4983105537896004, 2.499687082618404, 2.5010592622177517, 2.5024271199844326, 2.503790683057181, 2.505149978319906, 2.506505032404872, 2.507855871695831, 2.509202522331103, 2.510545010206612, 2.5118833609788744, 2.513217600067939, 2.514547752660286, 2.515873843711679, 2.5171958979499744, 2.5185139398778875, 2.519827993775719, 2.5211380837040362, 2.5224442335063197, 2.5237464668115646, 2.525044807036845, 2.526339277389844, 2.5276299008713385, 2.5289167002776547, 2.530199698203082, 2.531478917042255, 2.5327543789924976, 2.534026106056135, 2.5352941200427703, 2.53655844257153, 2.537819095073274, 2.5390760987927767, 2.5403294747908736, 2.5415792439465807, 2.5428254269591797, 2.5440680443502757, 2.545307116465824, 2.546542663478131, 2.5477747053878224, 2.5490032620257876, 2.550228353055094, 2.5514499979728753, 2.552668216112193, 2.5538830266438746, 2.5550944485783194, 2.5563025007672873, 2.5575072019056577, 2.558708570533166, 2.5599066250361124, 2.561101383649056, 2.5622928644564746, 2.5634810853944106, 2.5646660642520893, 2.5658478186735176, 2.56702636615906, 2.568201724066995, 2.569373909615046, 2.5705429398818973, 2.571708831808688, 2.5728716022004803, 2.574031267727719, 2.575187844927661, 2.576341350205793, 2.577491799837225, 2.578639209968072, 2.57978359661681, 2.5809249756756194, 2.582063362911709, 2.583198773968623, 2.584331224367531, 2.5854607295085006, 2.586587304671755, 2.5877109650189114, 2.5888317255942073, 2.5899496013257077, 2.591064607026499, 2.5921767573958667, 2.593286067020457, 2.5943925503754266, 2.595496221825574, 2.59659709562646, 2.597695185925512, 2.598790506763115, 2.5998830720736876, 2.6009728956867484, 2.6020599913279625, 2.603144372620182, 2.60422605308447, 2.6053050461411096, 2.606381365110605, 2.6074550232146687, 2.6085260335771943, 2.60959440922522, 2.61066016308988, 2.611723308007342, 2.6127838567197355, 2.6138418218760693, 2.6148972160331345, 2.615950051656401, 2.617000341120899, 2.6180480967120925, 2.6190933306267428, 2.6201360549737576, 2.621176281775035, 2.622214022966295, 2.6232492903979003, 2.6242820958356683, 2.625312450961674, 2.6263403673750423, 2.6273658565927325, 2.6283889300503116, 2.629409599102719, 2.630427875025024, 2.6314437690131722, 2.632457292184724, 2.6334684555795866, 2.6344772701607315, 2.635483746814912, 2.6364878963533656, 2.637489729512511, 2.6384892569546374, 2.639486489268586, 2.640481436970422, 2.6414741105040993, 2.6424645202421213, 2.6434526764861874, 2.6444385894678386, 2.645422269349092, 2.6464037262230695, 2.6473829701146196, 2.6483600109809315, 2.649334858712142, 2.6503075231319366, 2.651278013998144, 2.6522463410033232, 2.6532125137753435, 2.6541765418779604, 2.655138434811382, 2.656098202012832, 2.6570558528571038, 2.6580113966571126, 2.6589648426644352, 2.6599162000698504, 2.660865478003869, 2.661812685537261, 2.6627578316815743, 2.663700925389648, 2.6646419755561257, 2.6655809910179533, 2.6665179805548807, 2.667452952889954, 2.66838591669, 2.6693168805661123, 2.670245853074124, 2.6711728427150834, 2.6720978579357175, 2.673020907128896, 2.6748611407378116, 2.6757783416740852, 2.6766936096248664, 2.677606952720493, 2.678518379040114, 2.6794278966121188, 2.680335513414563, 2.681241237375587, 2.682145076373832, 2.6830470382388496, 2.683947130751512, 2.6848453616444123, 2.6857417386022635, 2.6866362692622934, 2.6875289612146345, 2.6884198220027105, 2.6893088591236203, 2.690196080028514, 2.6910814921229687, 2.6919651027673606, 2.69284691927723, 2.693726948923647, 2.694605198933569, 2.6954816764901977, 2.6963563887333324, 2.6972293427597176, 2.6981005456233897, 2.6989700043360187, 2.699837725867246, 2.7007037171450192, 2.7015679850559273, 2.7024305364455254, 2.7032913781186614, 2.7041505168397992, 2.705007959333336, 2.7058637122839193, 2.7067177823367587, 2.7075701760979363, 2.708420900134713, 2.709269960975831, 2.7101173651118162, 2.710963118995276, 2.711807229041191, 2.7126497016272113, 2.7134905430939424, 2.714329759745233, 2.7151673578484576, 2.716003343634799, 2.7168377232995247, 2.717670503002262, 2.7193312869837265, 2.720159303405957, 2.7209857441537393, 2.7218106152125467, 2.722633922533812, 2.7234556720351857, 2.724275869600789, 2.725094521081469, 2.7259116322950483, 2.7267272090265724, 2.727541257028556, 2.7283537820212285, 2.72916478969277, 2.7299742856995555, 2.7307822756663893, 2.7315887651867388, 2.7323937598229686, 2.7331972651065692, 2.733999286538387, 2.734799829588847, 2.73559889969818, 2.7363965022766426, 2.7371926427047373, 2.737987326333431, 2.738780558484369, 2.739572344450092, 2.7403626894942437, 2.741151598851785, 2.741939077729199, 2.7427251313046983, 2.74350976472843, 2.7442929831226763, 2.7450747915820575, 2.745855195173729, 2.7466341989375787, 2.747411807886423, 2.7481880270062002, 2.748962861256161, 2.749736315569061, 2.7505083948513462, 2.751279103983342, 2.7520484478194387, 2.7528164311882715, 2.7535830588929064, 2.754348335711019, 2.7551122663950713, 2.7558748556724915, 2.756636108245848, 2.7573960287930244, 2.75815462196739, 2.7589118923979736, 2.7596678446896306, 2.760422483423212, 2.761927838420529, 2.762678563727436, 2.7634279935629373, 2.7641761323903307, 2.7649229846498886, 2.765668554759014, 2.7664128471123997, 2.7671558660821804, 2.767897616018091, 2.7686381012476144, 2.7693773260761385, 2.7701152947871015, 2.7708520116421442, 2.7715874808812555, 2.77232170672292, 2.7730546933642626, 2.7737864449811935, 2.7745169657285498, 2.7752462597402365, 2.775974331129369, 2.776701183988411, 2.7781512503836434, 2.7795964912578244, 2.780317312140151, 2.7810369386211318, 2.781755374652469, 2.782472624166286, 2.783903579272735, 2.784617292632875, 2.785329835010767, 2.786041210242554, 2.7867514221455614, 2.787460474518415, 2.788168371141168, 2.788875115775417, 2.7895807121644256, 2.7902851640332416, 2.790988475088816, 2.791690649020118, 2.792391689498254, 2.79309160017658, 2.7937903846908188, 2.7944880466591697, 2.795184589682424, 2.7958800173440754, 2.7965743332104296, 2.7972675408307164, 2.797959643737196, 2.798650645445269, 2.7993405494535817, 2.8000293592441343, 2.800717078282385, 2.801403710017355, 2.8020892578817325, 2.8027737252919755, 2.803457115648414, 2.8041394323353503, 2.8048206787211623, 2.8055008581584002, 2.806179973983887, 2.8068580295188172, 2.807535028068853, 2.808210972924222, 2.808885867359812, 2.8095597146352675, 2.8102325179950842, 2.8109042806687006, 2.8115750058705933, 2.812244696800369, 2.8129133566428557, 2.8135809885681917, 2.81424759573192, 2.814913181275074, 2.815577748324267, 2.816241299991783, 2.8169038393756605, 2.8175653695597807, 2.8182258936139557, 2.8188854145940097, 2.8195439355418688, 2.82020145948564, 2.8208579894397, 2.821513528404773, 2.8221680793680175, 2.8228216453031045, 2.823474229170301, 2.824125833916549, 2.824776462475546, 2.8254261177678233, 2.8260748027008264, 2.826722520168992, 2.8273692730538253, 2.828015064223977, 2.82865989653532, 2.829303772831025, 2.829946695941636, 2.8305886686851442, 2.8312296938670634, 2.8318697742805017, 2.832508912706236, 2.833147111912785, 2.833784374656479, 2.8344207036815323, 2.835056101720116, 2.8356905714924254, 2.8363241157067516, 2.8369567370595505, 2.837588438235511, 2.8382192219076257, 2.838849090737255, 2.8394780473741985, 2.840106094456758, 2.841359470454855, 2.8419848045901137, 2.842609239610562, 2.8432327780980096, 2.843855422623161, 2.8444771757456815, 2.845098040014257, 2.8457180179666586, 2.846337112129805, 2.846955325019824, 2.847572659142112, 2.848189116991399, 2.8488047010518036, 2.8494194137968996, 2.850033257689769, 2.8506462351830666, 2.8512583487190755, 2.851869600729766, 2.8524799936368566, 2.8530895298518657, 2.8536982117761744, 2.8543060418010806, 2.8549130223078554, 2.8555191556678, 2.8561244442423, 2.8567288903828825, 2.8573324964312685, 2.857935264719429, 2.858537197569639, 2.859138297294531, 2.859738566197147, 2.8603380065709936, 2.8609366207000937, 2.8615344108590377, 2.862131379313037, 2.8627275283179747, 2.863322860120456, 2.8639173769578603, 2.864511081058392, 2.8651039746411278, 2.8656960599160706, 2.8662873390841948, 2.866877814337499, 2.8674674878590514, 2.8686444383948255, 2.8692317197309762, 2.869818207979328, 2.870403905279027, 2.8709888137605755, 2.8715729355458786, 2.8721562727482928, 2.8727388274726686, 2.873320601815399, 2.8739015978644615, 2.8744818176994666, 2.8750612633917, 2.8756399370041685, 2.876217840591642, 2.8767949762007006, 2.877371345869774, 2.8779469516291885, 2.8785217955012063, 2.8790958795000727, 2.8796692056320534, 2.88024177589548, 2.8808135922807914, 2.8813846567705728, 2.8819549713396007, 2.8825245379548803, 2.8830933585756897, 2.884228769632604, 2.8847953639489807, 2.885361220031512, 2.885926339801431, 2.886490725172482, 2.8870543780509568, 2.887617300335736, 2.888179493918325, 2.8887409606828927, 2.88930170250631, 2.8898617212581885, 2.890421018800914, 2.890979596989689, 2.8915374576725643, 2.8920946026904804, 2.8926510338773004, 2.893206753059848, 2.8937617620579434, 2.8943160626844384, 2.8948696567452523, 2.895422546039408, 2.8959747323590648, 2.8965262174895554, 2.89707700320942, 2.8976270912904414, 2.8981764834976764, 2.8987251815894934, 2.8992731873176036, 2.8998205024270964, 2.9003671286564705, 2.900913067737669, 2.9014583213961123, 2.9020028913507296, 2.902546779313991, 2.9030899869919438, 2.9036325160842376, 2.9041743682841634, 2.904715545278681, 2.905256048748451, 2.9057958803678687, 2.906335041805091, 2.90687353472207, 2.907411360774586, 2.9079485216122722, 2.9084850188786495, 2.909020854211156, 2.909556029241175, 2.910090545594068, 2.910624404889201, 2.9111576087399764, 2.9116901587538613, 2.9122220565324155, 2.912753303671323, 2.9132839017604186, 2.9138138523837167, 2.9143431571194407, 2.9148718175400505, 2.9159272116971158, 2.916453948549925, 2.916980047320382, 2.9175055095525466, 2.9180303367848803, 2.9185545305502734, 2.9190780923760737, 2.919601023784111, 2.920123326290724, 2.9206450014067875, 2.921166050637739, 2.921686475483602, 2.9222062774390163, 2.92272545799326, 2.9232440186302764, 2.9237619608287004, 2.9242792860618816, 2.924795995797912, 2.9253120914996495, 2.9258275746247424, 2.926342446625655, 2.926856708949692, 2.9273703630390235, 2.9278834103307068, 2.9283958522567137, 2.928907690243953, 2.929418925714293, 2.929929560084588, 2.9304395947667, 2.930949031167523, 2.931457870689005, 2.931966114728173, 2.932473764677153, 2.932980821923198, 2.9334872878487053, 2.9339931638312424, 2.934498451243568, 2.935003151453655, 2.9355072658247128, 2.9360107957152097, 2.936513742478893, 2.9370161074648142, 2.937517892017347, 2.9380190974762104, 2.938519725176492, 2.9390197764486663, 2.9395192526186187, 2.9400181550076634, 2.940516484932567, 2.9410142437055695, 2.941511432634403, 2.942008053022313, 2.9425041061680806, 2.9429995933660407, 2.9434945159061026, 2.9444826721501687, 2.944975908412048, 2.94546858513182, 2.9459607035775686, 2.946452265013073, 2.9469432706978256, 2.9474337218870508, 2.9479236198317262, 2.948412965778601, 2.9489017609702137, 2.949390006644913, 2.949877704036875, 2.950364854376123, 2.9508514588885464, 2.951337518795918, 2.951823035315912, 2.9523080096621253, 2.952792443044092, 2.9532763366673045, 2.9537596917332287, 2.9542425094393248, 2.954724790979063, 2.9552065375419416, 2.9556877503135057, 2.9561684304753633, 2.9566485792052033, 2.957128197676813, 2.957607287060095, 2.958085848521085, 2.9585638832219674, 2.9590413923210934, 2.9595183769729982, 2.959994838328416, 2.960470777534299, 2.9609461957338317, 2.9614210940664485, 2.9618954736678504, 2.962369335670021, 2.9628426812012423, 2.9633155113861114, 2.963787827345555, 2.964259630196849, 2.9647309210536292, 2.965201701025912, 2.9656719712201065, 2.9661417327390325, 2.9666109866819346, 2.967079734144497, 2.967547976218862, 2.968015713993642, 2.9684829485539352, 2.9689496809813427, 2.9694159123539814, 2.9698816437465, 2.9703468762300935, 2.9708116108725178, 2.971275848738105, 2.971739590887778, 2.9722028383790646, 2.972665592266111, 2.9731278535996988, 2.973589623427257, 2.9740509027928774, 2.9745116927373285, 2.974971994298069, 2.975431808509263, 2.975891136401793, 2.9763499790032735, 2.976808337338066, 2.977266212427293, 2.9777236052888476, 2.978180516937414, 2.9786369483844743, 2.979092900638326, 2.979548374704095, 2.9800033715837464, 2.9804578922761, 2.9809119377768436, 2.9813655090785445, 2.9818186071706636, 2.9822712330395684, 2.9827233876685453, 2.983175072037813, 2.9836262871245345, 2.984077033902831, 2.9845273133437926, 2.9849771264154934, 2.9854264740830017, 2.9858753573083936, 2.9863237770507656, 2.9867717342662448, 2.9872192299080047, 2.9876662649262746, 2.988112840268352, 2.9885589568786157, 2.989004615698537, 2.9894498176666917, 2.989894563718773, 2.9903388547876015, 2.9907826918031377, 2.991226075692495, 2.9916690073799486, 2.99211148778695, 2.9925535178321354, 2.9929950984313414, 2.9934362304976116, 2.9938769149412114, 2.9943171526696366, 2.9947569445876283, 2.9951962915971793, 2.9956351945975497, 2.9960736544852753, 2.9965116721541785, 2.996949248495381, 2.997386384397313, 2.9978230807457256, 2.998259338423699, 2.998695158311656, 2.999130541287371, 2.9995654882259823, 3.0, 3.000434077479319, 3.000867721531227, 3.001300933020418, 3.0017337128090005, 3.002166061756508, 3.0025979807199086, 3.003029470553618, 3.0034605321095067, 3.0038911662369108, 3.0043213737826426, 3.004751155591001, 3.0051805125037805, 3.0056094453602804, 3.0060379549973173, 3.0064660422492318, 3.0068937079479006, 3.0073209529227447, 3.00774777800074, 3.0081741840064264, 3.0086001717619175, 3.0090257420869104, 3.009450895798694, 3.00987563371216, 3.010299956639812, 3.010723865391773, 3.0111473607757975, 3.0115704435972783, 3.011993114659257, 3.012415374762433, 3.012837224705172, 3.0132586652835167, 3.0136796972911926, 3.0141003215196207, 3.0145205387579237, 3.0149403497929366, 3.0153597554092144, 3.015778756389041, 3.016197353512439, 3.016615547557177, 3.0170333392987803, 3.017450729510536, 3.0178677189635055, 3.0187004986662433, 3.019116290447073, 3.0195316845312554, 3.0199466816788423, 3.020775488193558, 3.0211892990699383, 3.021602716028242, 3.02201573981772, 3.0224283711854865, 3.022840610876528, 3.0232524596337114, 3.0236639181977933, 3.024074987307426, 3.024485667699167, 3.024895960107485, 3.0253058652647704, 3.025715383901341, 3.0261245167454502, 3.0265332645232967, 3.0269416279590295, 3.0273496077747564, 3.0277572046905536, 3.0281644194244697, 3.0285712526925375, 3.028977705208778, 3.0293837776852097, 3.029789470831856, 3.030194785356751, 3.030599721965951, 3.0310042813635367, 3.031408464251624, 3.0318122713303706, 3.0322157032979815, 3.03261876085072, 3.0330214446829107, 3.03342375548695, 3.0342272607705505, 3.0346284566253203, 3.0350292822023683, 3.0354297381845483, 3.035829825252828, 3.0362295440862948, 3.036628895362161, 3.037027879755775, 3.037824750588342, 3.0382226383687185, 3.038620161949703, 3.039017321997412, 3.0394141191761372, 3.0398105541483504, 3.0402066275747113, 3.0409976924234905, 3.041392685158225, 3.041787318971752, 3.042181594515766, 3.0425755124401905, 3.0429690733931802, 3.0433622780211294, 3.0437551269686796, 3.044147620878723, 3.044539760392411, 3.04493154614916, 3.0453229787866576, 3.0457140589408676, 3.0461047872460387, 3.0464951643347082, 3.04688519083771, 3.0472748673841794, 3.04766419460156, 3.048053173115609, 3.0484418035504044, 3.04883008652835, 3.0492180226701815, 3.049605612594973, 3.0499928569201424, 3.050379756261458, 3.0507663112330423, 3.0511525224473814, 3.0515383905153275, 3.0519239160461065, 3.0523090996473234, 3.052693941924968, 3.05307844348342, 3.053462604925455, 3.0538464268522527, 3.0542299098633974, 3.0546130545568877, 3.0549958615291417, 3.055378331375, 3.0557604646877348, 3.056142262059052, 3.0565237240791006, 3.0572856444182146, 3.0576661039098294, 3.0580462303952816, 3.058426024457005, 3.0588054866759067, 3.059184617631371, 3.0595634179012676, 3.059941888061955, 3.060320028688285, 3.060697840353612, 3.0610753236297916, 3.061452479087193, 3.061829307294699, 3.0622058088197126, 3.062581984228163, 3.0629578340845103, 3.0633333589517497, 3.0637085593914173, 3.0644579892269186, 3.064832219738574, 3.065206128054312, 3.0655797147284485, 3.06595298031387, 3.0663259253620376, 3.0666985504229953, 3.0670708560453703, 3.0674428427763805, 3.0678145111618402, 3.0681858617461617, 3.068556895072363, 3.0692980121155293, 3.0696680969115957, 3.070037866607755, 3.0704073217401198, 3.0707764628434346, 3.0711452904510828, 3.071513805095089, 3.0718820073061255, 3.072249897613515, 3.0726174765452368, 3.0729847446279304, 3.073351702386901, 3.0737183503461227, 3.074084689028244, 3.074450718954591, 3.074816440645175, 3.0751818546186915, 3.0755469613925306, 3.0759117614827773, 3.076276255404218, 3.076640443670342, 3.0770043267933502, 3.0773679052841567, 3.077731179652392, 3.0780941504064105, 3.0784568180532927, 3.0788191830988487, 3.0791812460476247, 3.079543007402906, 3.079904467666721, 3.0802656273398448, 3.0806264869218056, 3.080987046910887, 3.0813473078041325, 3.081707270097349, 3.082066934285113, 3.0824263008607717, 3.0827853703164503, 3.0831441431430524, 3.0835026198302673, 3.083860800866573, 3.084576277934331, 3.084933574936716, 3.085290578230065, 3.0856472882968564, 3.0860037056183818, 3.0863598306747484, 3.0867156639448825, 3.0870712059065353, 3.0874264570362855, 3.087781417809542, 3.0881360887005513, 3.0884904701823963, 3.0888445627270045, 3.089198366805149, 3.089551882886454, 3.089905111439398, 3.090258052931316, 3.090610707828407, 3.0909630765957314, 3.091315159697223, 3.0916669575956846, 3.092018470752797, 3.0923696996291206, 3.0927206446840994, 3.0930713063760633, 3.093421685162235, 3.09377178149873, 3.0941215958405612, 3.094471128641645, 3.0948203803548, 3.095518042323151, 3.0958664534785427, 3.0962145853464054, 3.0965624383741357, 3.0969100130080562, 3.09725730969342, 3.097604328874411, 3.09795107099415, 3.0982975364946976, 3.098643725817057, 3.0989896394011773, 3.0993352776859577, 3.0996806411092503, 3.1000257301078626, 3.100370545117563, 3.1007150865730817, 3.101403350555331, 3.1024337056813365, 3.1027766148834415, 3.1031192535457137, 3.103461622094705, 3.103803720955957, 3.104145550554008, 3.104487111312395, 3.1048284036536553, 3.1051694279993316, 3.1055101847699738, 3.1058506743851435, 3.1061908972634154, 3.1065308538223815, 3.106870544478654, 3.1072099696478683, 3.1075491297446862, 3.1082266563749283, 3.1085650237328344, 3.1089031276673134, 3.109240968588203, 3.1095785469043866, 3.1099158630237933, 3.110252917353403, 3.110589710299249, 3.1109262422664203, 3.1112625136590655, 3.111598524880394, 3.1119342763326814, 3.1122697684172707, 3.1126050015345745, 3.11293997608408, 3.1132746924643504, 3.113943352306837, 3.1142772965615864, 3.114610984232173, 3.1149444157125847, 3.1152775913959014, 3.1156105116742996, 3.115943176939055, 3.116275587580544, 3.1166077439882485, 3.116939646550756, 3.1172712956557644, 3.117602691690084, 3.1179338350396413, 3.118264726089479, 3.118595365223762, 3.1189257528257768, 3.1192558892779365, 3.119585774961784, 3.119915410257991, 3.1202447955463652, 3.12057393120585, 3.1209028176145273, 3.1212314551496214, 3.1215598441875008, 3.121887985103681, 3.1222158782728267, 3.1231980750319988, 3.123524980942732, 3.123851640967086, 3.124178055474675, 3.1245042248342823, 3.1248301494138593, 3.12515582958053, 3.125481265700594, 3.125806458139527, 3.1261314072619846, 3.1271047983648077, 3.1277525158329733, 3.1280760126687155, 3.1283992687178066, 3.1290450598879582, 3.129367595722986, 3.1300119496719043, 3.130333768495006, 3.130655349022031, 3.130976691605617, 3.131297796597623, 3.1316186643491255, 3.1319392952104246, 3.1322596895310446, 3.132579847659737, 3.132899769944483, 3.1332194567324945, 3.1335389083702174, 3.1341771075767664, 3.1344958558346736, 3.13481437032046, 3.1351326513767748, 3.1354506993455136, 3.1357685145678222, 3.1370374547895126, 3.137354111370733, 3.137670537236755, 3.137986732723532, 3.1383026981662816, 3.1389339402569236, 3.13956426617585, 3.1398790864012365, 3.1401936785786315, 3.1405080430381798, 3.141136090120739, 3.1414497734004674, 3.141763230275788, 3.1420764610732848, 3.142389466118836, 3.1427022457376155, 3.143014800254095, 3.143327129992046, 3.1439511164239633, 3.144262773761991, 3.144574207609616, 3.144885418287142, 3.1455071714096627, 3.1458177144918276, 3.146128035678238, 3.1464381352857744, 3.14674801363064, 3.1473671077937864, 3.147985320683805, 3.1482940974347455, 3.1486026548060932, 3.1489109931093564, 3.149527013754348, 3.149834696715785, 3.1501421618485588, 3.1504494094608804, 3.150756439860309, 3.15106325335375, 3.1513698502474603, 3.151676230847048, 3.1522883443830567, 3.15259407792747, 3.1528995963937474, 3.153204900084284, 3.1535099893008374, 3.153814864344529, 3.154119525515847, 3.154423973114647, 3.1550322287909704, 3.155336037465062, 3.1559430179718366, 3.1562461903973444, 3.1565491513317814, 3.156851901070011, 3.1571544399062814, 3.157456768134226, 3.1577588860468637, 3.158060793936605, 3.1583624920952498, 3.1586639808139894, 3.15896526038341, 3.1595671932336202, 3.1598678470925665, 3.160168292958512, 3.1604685311190375, 3.1607685618611283, 3.1610683854711747, 3.161368002234975, 3.161966616364075, 3.162862993321926, 3.1631613749770184, 3.16345955176999, 3.163757523981956, 3.1640552918934515, 3.164352855784437, 3.1646502159342966, 3.1649473726218416, 3.1652443261253107, 3.165541076722373, 3.1658376246901283, 3.166133970305109, 3.166430113843283, 3.166726055580052, 3.1670217957902564, 3.167317334748176, 3.16761267272753, 3.16790781000148, 3.168202746842631, 3.1684974835230326, 3.1687920203141817, 3.1693804953119495, 3.1696744340588068, 3.1699681739968923, 3.1702617153949575, 3.170848203643309, 3.1711411510283822, 3.171726453653231, 3.1720188094245563, 3.172310968521954, 3.17260293120986, 3.1728946977521764, 3.173186268412274, 3.1734776434529945, 3.17376882313665, 3.1740598077250253, 3.17435059747938, 3.1746411926604483, 3.1749315935284423, 3.1752218003430523, 3.175511813363448, 3.1758016328482794, 3.1760912590556813, 3.1763806922432702, 3.17666993266815, 3.176958980586908, 3.1775364999298623, 3.178113252314632, 3.1792644643390253, 3.1795517911651876, 3.179838928023187, 3.180125875164054, 3.1806992012960347, 3.1809855807867304, 3.1815577738627865, 3.182129214052998, 3.182414652434554, 3.182699903336043, 3.1829849670035815, 3.1832698436828046, 3.1835545336188615, 3.1838390370564214, 3.184123354239671, 3.1844074854123203, 3.184691430817599, 3.184975190698261, 3.1852587652965854, 3.185542154854375, 3.185825359612962, 3.1861083798132053, 3.186391215695493, 3.1866738674997452, 3.1869563354654122, 3.187520720836463, 3.188084373714938, 3.188365926063148, 3.188647295999717, 3.189209489582306, 3.1894903136993675, 3.189770956346874, 3.1903316981702914, 3.190611797813605, 3.1908917169221698, 3.1911714557285586, 3.1914510144648953, 3.1920095926536702, 3.1922886125681202, 3.1925674533365456, 3.192846115188842, 3.1931245983544616, 3.1934029030624176, 3.1936810295412816, 3.193958978019187, 3.194514341882467, 3.1947917577219247, 3.1950689964685903, 3.1953460583484197, 3.1956229435869368, 3.1961761850399735, 3.196728722623287, 3.197280558125619, 3.197831693328903, 3.1981069988734014, 3.1983821300082944, 3.1986570869544226, 3.198931869932209, 3.1992064791616577, 3.199480914862356, 3.2000292665537704, 3.2005769267548483, 3.2008504980910777, 3.2011238972073794, 3.2013971243204513, 3.2016701796465816, 3.20194306340165, 3.2022157758011316, 3.2024883170600935, 3.2027606873931997, 3.2030328870147105, 3.203304916138483, 3.2038484637462346, 3.204119982655925, 3.2043913319193, 3.204662511748219, 3.204933522354145, 3.2052043639481447, 3.205475036740891, 3.2060158767633444, 3.2062860444124324, 3.207095540419218, 3.2073650374690716, 3.2076343673889616, 3.2079035303860515, 3.2081725266671217, 3.208441356438567, 3.2089785172762535, 3.2095150145426308, 3.2100508498751372, 3.2105860249051563, 3.2111205412580492, 3.2116544005531824, 3.2119210843085093, 3.2121876044039577, 3.2127201544178425, 3.2132520521963968, 3.2135177569963047, 3.2137832993353044, 3.2143138974243994, 3.214578953570499, 3.214843848047698, 3.215108581053093, 3.215373152783422, 3.215901813204032, 3.216429830876251, 3.2166935991697545, 3.216957207361097, 3.217220655644519, 3.2177470732627937, 3.218010042984363, 3.2182728535714475, 3.218535505216528, 3.2187979981117376, 3.219060332448861, 3.219322508419337, 3.2198463860243605, 3.220108088040055, 3.220631019448092, 3.2208922492195193, 3.2211533219547053, 3.2214142378423385, 3.2216749970707688, 3.22219604630172, 3.2224563366792465, 3.2229764498933915, 3.2232362731029975, 3.2237554536572413, 3.224014811372864, 3.2245330626060857, 3.2247919564926812, 3.225050696138049, 3.225309281725863, 3.225567713439471, 3.2258259914618934, 3.226084115975824, 3.226342087163631, 3.2265999052073573, 3.2268575702887237, 3.2273724422896364, 3.2278867046136734, 3.228400358703005, 3.2286569581089353, 3.229169702539101, 3.229425847920695, 3.229681842317676, 3.229937685907934, 3.230193378869046, 3.230448921378274, 3.230959555748569, 3.231214647962601, 3.2314695904306814, 3.2317243833285163, 3.231979026831504, 3.2322335211147335, 3.232487866352986, 3.232742062720737, 3.2329961103921536, 3.2332500095411003, 3.2335037603411343, 3.2337573629655103, 3.2340108175871793, 3.2347702951609163, 3.2352758766870524, 3.2355284469075487, 3.2357808703275603, 3.2362852774480286, 3.237040791379191, 3.237292337567459, 3.2375437381428744, 3.2377949932739227, 3.2380461031287955, 3.238297067875394, 3.238547887681328, 3.2397998184470986, 3.2400497721126476, 3.2405492482825995, 3.240798771117331, 3.2412973871099933, 3.2415464805965484, 3.241795431295199, 3.2422929049829308, 3.2427898094786767, 3.243286146083446, 3.243534101832062, 3.243781916093795, 3.2440295890300215, 3.245265839457461, 3.24551266781415, 3.245759355967277, 3.246005904076029, 3.246252312299322, 3.246498580795801, 3.247236549506764, 3.2477278329097232, 3.248463717551032, 3.2487087356009177, 3.249198357391113, 3.249442961442582, 3.2496874278053016, 3.250175948083925, 3.250420002308894, 3.2506639194632436, 3.250907699700856, 3.2511513431753545, 3.251638220448212, 3.2518814545525276, 3.252124552505644, 3.2523675144598987, 3.252610340567373, 3.2528530309798933, 3.2530955858490316, 3.2533380053261065, 3.2543063323312857, 3.2545480771089736, 3.25478968739721, 3.2550311633455515, 3.2555137128195333, 3.256236533205923, 3.256477206241677, 3.256717745977487, 3.256958152560932, 3.2571984261393445, 3.2579184503140586, 3.2581581933407944, 3.258397804095509, 3.2586372827240764, 3.258876629372131, 3.2595938788859486, 3.2598326990634834, 3.2600713879850747, 3.26030994579492, 3.2605483726369795, 3.2607866686549762, 3.2610248339923973, 3.2615007731982804, 3.2617385473525378, 3.2619761913978125, 3.2629254693318317, 3.2631624649622166, 3.263399331334002, 3.263636068588108, 3.2638726768652235, 3.2641091563058082, 3.2643455070500926, 3.2645817292380777, 3.2648178230095364, 3.2650537885040145, 3.265996370495079, 3.266231696689893, 3.2664668954402414, 3.2667019668840878, 3.2669369111591733, 3.2671717284030137, 3.267406418752904, 3.2678754193188975, 3.268577971882843, 3.2688119037397803, 3.269512944217916, 3.2697463731307668, 3.2702128548962426, 3.2706788361447066, 3.2711443179490782, 3.2713768718940743, 3.271609301378832, 3.271841606536499, 3.2723058444020863, 3.2730012720637376, 3.273464272621346, 3.273695587930092, 3.2739267801005254, 3.274388795550379, 3.274619619091238, 3.2748503200166645, 3.2753113545418118, 3.2755416884013098, 3.2757719001649312, 3.27600198996205, 3.2762319579218335, 3.2764618041732443, 3.27669152884504, 3.276921132065774, 3.277150613963797, 3.2778383330020473, 3.278296208091274, 3.2785249647370174, 3.278753600952829, 3.279210512601395, 3.2794387882870204, 3.2796669440484556, 3.279894980011638, 3.2801228963023075, 3.280350693046006, 3.280805928393667, 3.2810333672477277, 3.281260687055013, 3.2814878879400813, 3.2821687783046416, 3.2823955047425257, 3.2826221128780624, 3.282848602834645, 3.2833012287035497, 3.2835273648616936, 3.2837533833325265, 3.28397928423848, 3.284205067701794, 3.285107029566812, 3.2853322276438846, 3.285557309007774, 3.285782273779395, 3.2860071220794747, 3.286231854028553, 3.286456469746983, 3.28668096935493, 3.286905352972375, 3.287129620719111, 3.287577809078705, 3.287801729930226, 3.2880255353883627, 3.288249225571986, 3.2884728005997825, 3.288696260590256, 3.2889196056617265, 3.289142835932333, 3.2893659515200318, 3.2895889525425965, 3.2898118391176214, 3.290034611362518, 3.2902572693945182, 3.2911467617318855, 3.291368850451583, 3.291812687467119, 3.2920344359947364, 3.292477593667784, 3.2933625547114453, 3.2940250940953226, 3.2942457161381182, 3.294466226161593, 3.2946866242794433, 3.2949069106051923, 3.295567099962479, 3.295786940251609, 3.2962262872611605, 3.296445794206396, 3.296665190261531, 3.2973227142053028, 3.297760511099134, 3.2979792441593623, 3.298197867109815, 3.2988530764097064, 3.2990712600274095, 3.2995072987004876, 3.2997251539756367, 3.299942900022767, 3.3001605369513523, 3.3003780648707024, 3.3008127941181167, 3.3010299956639813, 3.3012470886362113, 3.3014640731432996, 3.3016809492935764, 3.302114376956201, 3.3027637084729817, 3.303412070596742, 3.30362797638389, 3.3038437748886547, 3.3040594662175993, 3.3044905277734875, 3.3047058982127653, 3.3049211619008916, 3.305136318943639, 3.305351369446624, 3.305566313515304, 3.3057811512549824, 3.3059958827708047, 3.3062105081677613, 3.3064250275506875, 3.3066394410242617, 3.307067950661298, 3.307282047033346, 3.3079237036118814, 3.3081373786380386, 3.3083509485867255, 3.3085644135612386, 3.3087777736647213, 3.30941722577814, 3.3096301674258988, 3.3098430047160705, 3.3102683666324477, 3.3104808914626753, 3.3106933123433606, 3.3109056293761414, 3.3111178426625054, 3.3113299523037933, 3.3119656603683665, 3.312811826212088, 3.313023110323238, 3.313234291694724, 3.313445370426414, 3.3136563466180315, 3.3138672203691533, 3.3144992279731516, 3.314709692955174, 3.31492005599242, 3.315130317183602, 3.315550534421905, 3.3157604906657347, 3.315970345456918, 3.3163897510731952, 3.316808752053022, 3.3180633349627615, 3.318272080211627, 3.3184807251745174, 3.3188977146274867, 3.3195224490654542, 3.3197304943302246, 3.3201462861110542, 3.3203540328176717, 3.3205616801952367, 3.3209766773428235, 3.321391278311689, 3.3215984304653436, 3.3218054838575393, 3.3220124385824006, 3.322219294733919, 3.3224260524059526, 3.322839272686321, 3.3230457354817013, 3.323870606540509, 3.3244882333076564, 3.3246939138617746, 3.3248994970523134, 3.3251049829714074, 3.325310371711061, 3.325925955771466, 3.3267453795653217, 3.326949994165999, 3.327767489902729, 3.3279716236230104, 3.3281756614383227, 3.3283796034387376, 3.328583449714202, 3.329194415088451, 3.329397879361043, 3.330413773349191, 3.330819466495837, 3.3310221710418286, 3.331427296520743, 3.3316297176299323, 3.331832044436249, 3.3322364154914434, 3.3324384599156054, 3.3330440298234874, 3.3332456989619628, 3.3334472744967503, 3.334252642334231, 3.3346547668832414, 3.3348556896172914, 3.3350565194390915, 3.3352572564345317, 3.3356584522893016, 3.335858911319818, 3.336259552014193, 3.3364597338485296, 3.3366598234544202, 3.3370597263205246, 3.3372595397502756, 3.337459261290656, 3.3376588910261424, 3.3378584290410944, 3.3382572302462554, 3.338854746252323, 3.339053735709139, 3.339650157613684, 3.340047317661393, 3.3402457615679317, 3.3404441148401185, 3.3406423775607053, 3.3412366232386925, 3.3420276880874717, 3.342422680822206, 3.342620042553348, 3.342817314635733, 3.343802333161655, 3.344785122632661, 3.344981413927258, 3.345177616542704, 3.3453737305590883, 3.3469394626989906, 3.34713478291002, 3.3473300153169503, 3.347720217034038, 3.348694190265541, 3.34908316877959, 3.3492775274679554, 3.3494717992143856, 3.34966598409663, 3.3498600821923312, 3.3502480183341627, 3.350441856535061, 3.3506356082589543, 3.351216345339342, 3.351409751925439, 3.3517963068970236, 3.35237549500052, 3.3525683861793087, 3.3527611917238307, 3.3529539117100877, 3.3531465462139796, 3.3533390953113047, 3.353916230920363, 3.3541084391474008, 3.35430056234536, 3.3544926005894364, 3.354876422516234, 3.3552599055273786, 3.3554515201265174, 3.355643050220869, 3.3560258571931225, 3.3564083270389813, 3.356599435724971, 3.356790460351716, 3.3571722577230334, 3.3575537197430814, 3.3581252852766488, 3.358315640082196, 3.3585059114902354, 3.359076226059263, 3.3592661646067485, 3.3594560201209864, 3.359645792674543, 3.359835482339888, 3.361160995195026, 3.361727836017593, 3.362670929725667, 3.3630475945210936, 3.3634239329171765, 3.3636119798921444, 3.3639878297484915, 3.3641756327706194, 3.3643633546157306, 3.364926033789976, 3.3651134316275773, 3.3654879848909, 3.3658622154025553, 3.3666097103924297, 3.3669829759778507, 3.367169488534681, 3.367355921026019, 3.3675422735205767, 3.3679147387937527, 3.3681008517093516, 3.368658712392227, 3.3688445068258215, 3.3690302218091532, 3.3703280077795106, 3.3705130895985924, 3.370698092575577, 3.370883016777606, 3.3712526291249394, 3.371437317404101, 3.3716219271760215, 3.371990911464915, 3.3723595825243238, 3.3727279408855955, 3.373279893277496, 3.3736474722092176, 3.3738311450738303, 3.374198257929083, 3.374381698050882, 3.374565060722765, 3.374748346010104, 3.375114684692225, 3.3756636139608855, 3.3760291817281805, 3.376211850282673, 3.3763944420372662, 3.377124042346456, 3.3778524190067545, 3.378579576115775, 3.3787611753163733, 3.379668034033654, 3.37984917876283, 3.380211241711606, 3.3803921600570273, 3.3805730030668872, 3.3807537708039, 3.3809344633307017, 3.3811150807098507, 3.3820170425748683, 3.382917135087531, 3.3830969299490943, 3.3836358683618797, 3.384174138807033, 3.3854275148051305, 3.385606273598312, 3.3857849588433355, 3.385963570600697, 3.386498965550653, 3.3866772839608377, 3.3872118003137306, 3.3873898263387296, 3.387567779417189, 3.3879234669734366, 3.388278863459639, 3.3891660843645326, 3.389343311252078, 3.3898745583909853, 3.3900514964589874, 3.3902283624691303, 3.3909351071033793, 3.392345155361204, 3.393399695293102, 3.3935752032695876, 3.39375064034808, 3.3942765267678214, 3.394626764272209, 3.395675785269936, 3.3960248966085933, 3.3963737275365067, 3.3967222785037734, 3.397070549959409, 3.397418542351348, 3.39776625612645, 3.3988077302032647, 3.399327532158679, 3.400365273349939, 3.400537989391946, 3.401055725771844, 3.401228167498113, 3.40226138245468, 3.402777069610347, 3.4038066105474227, 3.4075608494863627, 3.4077307280263356, 3.407900540142635, 3.410608542568368, 3.4111144185509046, 3.4114513421379375, 3.4139699717480614, 3.414639146737009, 3.4153072922255676, 3.4169731726030363, 3.4171394097273255, 3.417471693203293, 3.417969642214737, 3.419625360887743, 3.420120848085703, 3.4202858849419178, 3.4207806195485655, 3.420945405921972, 3.4211101297934343, 3.4216039268698313, 3.423081958297231, 3.423245873936808, 3.42422807069598, 3.425044874551389, 3.4255342204982635, 3.430075055551939, 3.431524584187451, 3.433929765608464, 3.436480695009495, 3.4379090355394983, 3.4424797690644486, 3.443888546777372, 3.445136968713304, 3.4452927694259716, 3.4466924663715273, 3.448242412634439, 3.4485517392015783, 3.4488608456074408, 3.4510184521554574, 3.4511721575125396, 3.45178643552429, 3.452706226511029, 3.455910240382743, 3.4583356259919475, 3.4599952560473914, 3.4610480916706576, 3.4632956099620027, 3.464638559095033, 3.4647875196459372, 3.4670158184384356, 3.47158505418519, 3.4720246977002813, 3.474798818800631, 3.4794313371977363, 3.4869968884318228, 3.4885507165004443, 3.4896772916636984, 3.493179120682515, 3.4940153747571436, 3.4945719842301988, 3.4955443375464483, 3.497758718287268, 3.498861688992884, 3.499687082618404, 3.5005109105263372, 3.501333178645566, 3.5046067706419537, 3.5079907248196913, 3.5081255360831993, 3.508798965403905, 3.510276844417355, 3.511214701136388, 3.5120169694961265, 3.5126843962171637, 3.5154764413823756, 3.5182506513085, 3.519696767159853, 3.5269850685599957, 3.5289167002776547, 3.529430354366986, 3.53198955141255, 3.533772058384718, 3.5509617522981762]\n"
          ]
        }
      ]
    },
    {
      "cell_type": "code",
      "source": [
        "\n",
        "# Dependent variable 'Rented Bike Count'\n",
        "\n",
        "plt.figure(figsize=(7,7))\n",
        "sns.distplot(np.log10(df1['Rented Bike Count']+0.001),color=\"b\")"
      ],
      "metadata": {
        "colab": {
          "base_uri": "https://localhost:8080/",
          "height": 459
        },
        "id": "UApsbP2_Vwki",
        "outputId": "59ee5058-93be-4719-89cd-3ea60d42f6df"
      },
      "execution_count": null,
      "outputs": [
        {
          "output_type": "execute_result",
          "data": {
            "text/plain": [
              "<matplotlib.axes._subplots.AxesSubplot at 0x7f7278ce5910>"
            ]
          },
          "metadata": {},
          "execution_count": 28
        },
        {
          "output_type": "display_data",
          "data": {
            "text/plain": [
              "<Figure size 504x504 with 1 Axes>"
            ],
            "image/png": "[encoded data removed]"
          },
          "metadata": {
            "needs_background": "light"
          }
        }
      ]
    },
    {
      "cell_type": "code",
      "source": [
        "#Square root transformation of Dependent variable 'Rented Bike Count'\n",
        "\n",
        "plt.figure(figsize=(7,7))\n",
        "sns.distplot(np.sqrt(df1['Rented Bike Count']+0.001),color=\"b\")"
      ],
      "metadata": {
        "colab": {
          "base_uri": "https://localhost:8080/",
          "height": 459
        },
        "id": "OPlRbNZiydlH",
        "outputId": "1e930927-78aa-4997-fc19-389b0e1aa857"
      },
      "execution_count": null,
      "outputs": [
        {
          "output_type": "execute_result",
          "data": {
            "text/plain": [
              "<matplotlib.axes._subplots.AxesSubplot at 0x7f7278dc2710>"
            ]
          },
          "metadata": {},
          "execution_count": 29
        },
        {
          "output_type": "display_data",
          "data": {
            "text/plain": [
              "<Figure size 504x504 with 1 Axes>"
            ],
            "image/png": "[encoded data removed]"
          },
          "metadata": {
            "needs_background": "light"
          }
        }
      ]
    },
    {
      "cell_type": "code",
      "source": [
        "numeric_features = df.describe().columns\n",
        "numeric_features"
      ],
      "metadata": {
        "colab": {
          "base_uri": "https://localhost:8080/"
        },
        "id": "1CzGonK06jiX",
        "outputId": "7d58a19c-4ec3-4e1f-ca00-b03cf650d3a6"
      },
      "execution_count": null,
      "outputs": [
        {
          "output_type": "execute_result",
          "data": {
            "text/plain": [
              "Index(['Rented Bike Count', 'Hour', 'Temperature(°C)', 'Humidity(%)',\n",
              "       'Wind speed (m/s)', 'Visibility (10m)', 'Dew point temperature(°C)',\n",
              "       'Solar Radiation (MJ/m2)', 'Rainfall(mm)', 'Snowfall (cm)'],\n",
              "      dtype='object')"
            ]
          },
          "metadata": {},
          "execution_count": 30
        }
      ]
    },
    {
      "cell_type": "code",
      "source": [
        "\n",
        "# plot a bar plot for each numerical feature count (except car_ID)\n",
        "\n",
        "for col in numeric_features[1:]:\n",
        "    fig = plt.figure(figsize=(9, 6))\n",
        "    ax = fig.gca()\n",
        "    feature = df1[col]\n",
        "    feature.hist(bins=50, ax = ax)\n",
        "    ax.axvline(feature.mean(), color='magenta', linestyle='dashed', linewidth=2)\n",
        "    ax.axvline(feature.median(), color='cyan', linestyle='dashed', linewidth=2)    \n",
        "    ax.set_title(col)\n",
        "plt.show()"
      ],
      "metadata": {
        "colab": {
          "base_uri": "https://localhost:8080/",
          "height": 1000
        },
        "id": "JrBFdmKm6wOj",
        "outputId": "a5f7b322-2c84-457c-bd11-85885c1a58d8"
      },
      "execution_count": null,
      "outputs": [
        {
          "output_type": "display_data",
          "data": {
            "text/plain": [
              "<Figure size 648x432 with 1 Axes>"
            ],
            "image/png": "[encoded data removed]"
          },
          "metadata": {
            "needs_background": "light"
          }
        },
        {
          "output_type": "display_data",
          "data": {
            "text/plain": [
              "<Figure size 648x432 with 1 Axes>"
            ],
            "image/png": "[encoded data removed]"
          },
          "metadata": {
            "needs_background": "light"
          }
        },
        {
          "output_type": "display_data",
          "data": {
            "text/plain": [
              "<Figure size 648x432 with 1 Axes>"
            ],
            "image/png": "[encoded data removed]"
          },
          "metadata": {
            "needs_background": "light"
          }
        },
        {
          "output_type": "display_data",
          "data": {
            "text/plain": [
              "<Figure size 648x432 with 1 Axes>"
            ],
            "image/png": "[encoded data removed]"
          },
          "metadata": {
            "needs_background": "light"
          }
        },
        {
          "output_type": "display_data",
          "data": {
            "text/plain": [
              "<Figure size 648x432 with 1 Axes>"
            ],
            "image/png": "[encoded data removed]"
          },
          "metadata": {
            "needs_background": "light"
          }
        },
        {
          "output_type": "display_data",
          "data": {
            "text/plain": [
              "<Figure size 648x432 with 1 Axes>"
            ],
            "image/png": "[encoded data removed]"
          },
          "metadata": {
            "needs_background": "light"
          }
        },
        {
          "output_type": "display_data",
          "data": {
            "text/plain": [
              "<Figure size 648x432 with 1 Axes>"
            ],
            "image/png": "[encoded data removed]"
          },
          "metadata": {
            "needs_background": "light"
          }
        },
        {
          "output_type": "display_data",
          "data": {
            "text/plain": [
              "<Figure size 648x432 with 1 Axes>"
            ],
            "image/png": "[encoded data removed]"
          },
          "metadata": {
            "needs_background": "light"
          }
        },
        {
          "output_type": "display_data",
          "data": {
            "text/plain": [
              "<Figure size 648x432 with 1 Axes>"
            ],
            "image/png": "[encoded data removed]"
          },
          "metadata": {
            "needs_background": "light"
          }
        }
      ]
    },
    {
      "cell_type": "markdown",
      "source": [],
      "metadata": {
        "id": "6ObVANKHCyB8"
      }
    },
    {
      "cell_type": "markdown",
      "source": [
        "### Bivariate Analysis"
      ],
      "metadata": {
        "id": "cE0vnXnTC2e2"
      }
    },
    {
      "cell_type": "code",
      "source": [
        "for col in numeric_features[1:-1]:\n",
        "    fig = plt.figure(figsize=(9, 6))\n",
        "    ax = fig.gca()\n",
        "    feature = df[col]\n",
        "    label = df1['Rented Bike Count']\n",
        "    correlation = feature.corr(label)\n",
        "    plt.scatter(x=feature, y=label)\n",
        "    plt.xlabel(col)\n",
        "    plt.ylabel('Rented Bike Count')\n",
        "    ax.set_title('Rented Bike Count vs ' + col + '- correlation: ' + str(correlation))\n",
        "    z = np.polyfit(df1[col], df1['Rented Bike Count'], 1)\n",
        "    y_hat = np.poly1d(z)(df1[col])\n",
        "\n",
        "    plt.plot(df1[col], y_hat, \"r--\", lw=1)\n",
        "\n",
        "plt.show()"
      ],
      "metadata": {
        "colab": {
          "base_uri": "https://localhost:8080/",
          "height": 1000
        },
        "id": "Ls8_rlPhCyr3",
        "outputId": "2a740b45-ce01-4bee-a92b-ce3fc8112aed"
      },
      "execution_count": null,
      "outputs": [
        {
          "output_type": "display_data",
          "data": {
            "text/plain": [
              "<Figure size 648x432 with 1 Axes>"
            ],
            "image/png": "[encoded data removed]"
          },
          "metadata": {
            "needs_background": "light"
          }
        },
        {
          "output_type": "display_data",
          "data": {
            "text/plain": [
              "<Figure size 648x432 with 1 Axes>"
            ],
            "image/png": "[encoded data removed]"
          },
          "metadata": {
            "needs_background": "light"
          }
        },
        {
          "output_type": "display_data",
          "data": {
            "text/plain": [
              "<Figure size 648x432 with 1 Axes>"
            ],
            "image/png": "[encoded data removed]"
          },
          "metadata": {
            "needs_background": "light"
          }
        },
        {
          "output_type": "display_data",
          "data": {
            "text/plain": [
              "<Figure size 648x432 with 1 Axes>"
            ],
            "image/png": "[encoded data removed]"
          },
          "metadata": {
            "needs_background": "light"
          }
        },
        {
          "output_type": "display_data",
          "data": {
            "text/plain": [
              "<Figure size 648x432 with 1 Axes>"
            ],
            "image/png": "[encoded data removed]"
          },
          "metadata": {
            "needs_background": "light"
          }
        },
        {
          "output_type": "display_data",
          "data": {
            "text/plain": [
              "<Figure size 648x432 with 1 Axes>"
            ],
            "image/png": "[encoded data removed]"
          },
          "metadata": {
            "needs_background": "light"
          }
        },
        {
          "output_type": "display_data",
          "data": {
            "text/plain": [
              "<Figure size 648x432 with 1 Axes>"
            ],
            "image/png": "[encoded data removed]"
          },
          "metadata": {
            "needs_background": "light"
          }
        },
        {
          "output_type": "display_data",
          "data": {
            "text/plain": [
              "<Figure size 648x432 with 1 Axes>"
            ],
            "image/png": "[encoded data removed]"
          },
          "metadata": {
            "needs_background": "light"
          }
        }
      ]
    },
    {
      "cell_type": "markdown",
      "source": [
        "Tempratue and hour column are highly corelated to our Target Column"
      ],
      "metadata": {
        "id": "Q5Jre4TcDw8H"
      }
    },
    {
      "cell_type": "markdown",
      "source": [
        "# Multivariate Analysis"
      ],
      "metadata": {
        "id": "6r2yc41MD6Ox"
      }
    },
    {
      "cell_type": "code",
      "source": [
        "## Correlation\n",
        "plt.figure(figsize=(15,8))\n",
        "correlation = df.corr()\n",
        "sns.heatmap(abs(correlation), annot=True, cmap='coolwarm')"
      ],
      "metadata": {
        "colab": {
          "base_uri": "https://localhost:8080/",
          "height": 630
        },
        "id": "T6aZDWf0EFFQ",
        "outputId": "f4c3c193-b597-4bb0-f66e-dc3d5c9e2d15"
      },
      "execution_count": null,
      "outputs": [
        {
          "output_type": "execute_result",
          "data": {
            "text/plain": [
              "<matplotlib.axes._subplots.AxesSubplot at 0x7f7275e6b110>"
            ]
          },
          "metadata": {},
          "execution_count": 34
        },
        {
          "output_type": "display_data",
          "data": {
            "text/plain": [
              "<Figure size 1080x576 with 2 Axes>"
            ],
            "image/png": "[encoded data removed]"
          },
          "metadata": {
            "needs_background": "light"
          }
        }
      ]
    },
    {
      "cell_type": "markdown",
      "source": [
        "Temprature and Dew point Temp are highly corelated"
      ],
      "metadata": {
        "id": "1T23FBLPGcLe"
      }
    },
    {
      "cell_type": "markdown",
      "source": [
        "TRY1"
      ],
      "metadata": {
        "id": "1w4BQT5bJW8d"
      }
    },
    {
      "cell_type": "code",
      "source": [
        "#Multicollinearity\n",
        "from statsmodels.stats.outliers_influence import variance_inflation_factor\n",
        "def calc_vif(X):\n",
        "\n",
        "    # Calculating VIF\n",
        "    vif = pd.DataFrame()\n",
        "    vif[\"variables\"] = X.columns\n",
        "    vif[\"VIF\"] = [variance_inflation_factor(X.values, i) for i in range(X.shape[1])]\n",
        "\n",
        "    return(vif)"
      ],
      "metadata": {
        "id": "wNt-5aY_GXpi"
      },
      "execution_count": null,
      "outputs": []
    },
    {
      "cell_type": "code",
      "source": [
        "df1.columns"
      ],
      "metadata": {
        "colab": {
          "base_uri": "https://localhost:8080/"
        },
        "id": "9jugtT8bQzul",
        "outputId": "c5871176-a84d-4e7b-ae5d-3092c915232d"
      },
      "execution_count": null,
      "outputs": [
        {
          "output_type": "execute_result",
          "data": {
            "text/plain": [
              "Index(['Date', 'Rented Bike Count', 'Hour', 'Temperature(°C)', 'Humidity(%)',\n",
              "       'Wind speed (m/s)', 'Visibility (10m)', 'Dew point temperature(°C)',\n",
              "       'Solar Radiation (MJ/m2)', 'Rainfall(mm)', 'Snowfall (cm)', 'Seasons',\n",
              "       'Holiday', 'Functioning Day', 'Month', 'Year', 'Day'],\n",
              "      dtype='object')"
            ]
          },
          "metadata": {},
          "execution_count": 36
        }
      ]
    },
    {
      "cell_type": "markdown",
      "source": [],
      "metadata": {
        "id": "yHIDP6bCQcLv"
      }
    },
    {
      "cell_type": "code",
      "source": [
        "calc_vif(df1[[i for i in df1.describe().columns if i not in ['Date','Rented Bike Count']]])"
      ],
      "metadata": {
        "colab": {
          "base_uri": "https://localhost:8080/",
          "height": 332
        },
        "id": "8L60LXOLQnl-",
        "outputId": "db94a3c5-3fac-4990-dceb-758ab0abbb4b"
      },
      "execution_count": null,
      "outputs": [
        {
          "output_type": "execute_result",
          "data": {
            "text/plain": [
              "                   variables        VIF\n",
              "0                       Hour   4.418242\n",
              "1            Temperature(°C)  33.385256\n",
              "2                Humidity(%)   5.371996\n",
              "3           Wind speed (m/s)   4.805364\n",
              "4           Visibility (10m)   9.085977\n",
              "5  Dew point temperature(°C)  17.126199\n",
              "6    Solar Radiation (MJ/m2)   2.881590\n",
              "7               Rainfall(mm)   1.081567\n",
              "8              Snowfall (cm)   1.120833"
            ],
            "text/html": [
              "\n",
              "  <div id=\"df-fa80e674-14fb-4ee0-ac38-6e777a709f5d\">\n",
              "    <div class=\"colab-df-container\">\n",
              "      <div>\n",
              "<style scoped>\n",
              "    .dataframe tbody tr th:only-of-type {\n",
              "        vertical-align: middle;\n",
              "    }\n",
              "\n",
              "    .dataframe tbody tr th {\n",
              "        vertical-align: top;\n",
              "    }\n",
              "\n",
              "    .dataframe thead th {\n",
              "        text-align: right;\n",
              "    }\n",
              "</style>\n",
              "<table border=\"1\" class=\"dataframe\">\n",
              "  <thead>\n",
              "    <tr style=\"text-align: right;\">\n",
              "      <th></th>\n",
              "      <th>variables</th>\n",
              "      <th>VIF</th>\n",
              "    </tr>\n",
              "  </thead>\n",
              "  <tbody>\n",
              "    <tr>\n",
              "      <th>0</th>\n",
              "      <td>Hour</td>\n",
              "      <td>4.418242</td>\n",
              "    </tr>\n",
              "    <tr>\n",
              "      <th>1</th>\n",
              "      <td>Temperature(°C)</td>\n",
              "      <td>33.385256</td>\n",
              "    </tr>\n",
              "    <tr>\n",
              "      <th>2</th>\n",
              "      <td>Humidity(%)</td>\n",
              "      <td>5.371996</td>\n",
              "    </tr>\n",
              "    <tr>\n",
              "      <th>3</th>\n",
              "      <td>Wind speed (m/s)</td>\n",
              "      <td>4.805364</td>\n",
              "    </tr>\n",
              "    <tr>\n",
              "      <th>4</th>\n",
              "      <td>Visibility (10m)</td>\n",
              "      <td>9.085977</td>\n",
              "    </tr>\n",
              "    <tr>\n",
              "      <th>5</th>\n",
              "      <td>Dew point temperature(°C)</td>\n",
              "      <td>17.126199</td>\n",
              "    </tr>\n",
              "    <tr>\n",
              "      <th>6</th>\n",
              "      <td>Solar Radiation (MJ/m2)</td>\n",
              "      <td>2.881590</td>\n",
              "    </tr>\n",
              "    <tr>\n",
              "      <th>7</th>\n",
              "      <td>Rainfall(mm)</td>\n",
              "      <td>1.081567</td>\n",
              "    </tr>\n",
              "    <tr>\n",
              "      <th>8</th>\n",
              "      <td>Snowfall (cm)</td>\n",
              "      <td>1.120833</td>\n",
              "    </tr>\n",
              "  </tbody>\n",
              "</table>\n",
              "</div>\n",
              "      <button class=\"colab-df-convert\" onclick=\"convertToInteractive('df-fa80e674-14fb-4ee0-ac38-6e777a709f5d')\"\n",
              "              title=\"Convert this dataframe to an interactive table.\"\n",
              "              style=\"display:none;\">\n",
              "        \n",
              "  <svg xmlns=\"http://www.w3.org/2000/svg\" height=\"24px\"viewBox=\"0 0 24 24\"\n",
              "       width=\"24px\">\n",
              "    <path d=\"M0 0h24v24H0V0z\" fill=\"none\"/>\n",
              "    <path d=\"M18.56 5.44l.94 2.06.94-2.06 2.06-.94-2.06-.94-.94-2.06-.94 2.06-2.06.94zm-11 1L8.5 8.5l.94-2.06 2.06-.94-2.06-.94L8.5 2.5l-.94 2.06-2.06.94zm10 10l.94 2.06.94-2.06 2.06-.94-2.06-.94-.94-2.06-.94 2.06-2.06.94z\"/><path d=\"M17.41 7.96l-1.37-1.37c-.4-.4-.92-.59-1.43-.59-.52 0-1.04.2-1.43.59L10.3 9.45l-7.72 7.72c-.78.78-.78 2.05 0 2.83L4 21.41c.39.39.9.59 1.41.59.51 0 1.02-.2 1.41-.59l7.78-7.78 2.81-2.81c.8-.78.8-2.07 0-2.86zM5.41 20L4 18.59l7.72-7.72 1.47 1.35L5.41 20z\"/>\n",
              "  </svg>\n",
              "      </button>\n",
              "      \n",
              "  <style>\n",
              "    .colab-df-container {\n",
              "      display:flex;\n",
              "      flex-wrap:wrap;\n",
              "      gap: 12px;\n",
              "    }\n",
              "\n",
              "    .colab-df-convert {\n",
              "      background-color: #E8F0FE;\n",
              "      border: none;\n",
              "      border-radius: 50%;\n",
              "      cursor: pointer;\n",
              "      display: none;\n",
              "      fill: #1967D2;\n",
              "      height: 32px;\n",
              "      padding: 0 0 0 0;\n",
              "      width: 32px;\n",
              "    }\n",
              "\n",
              "    .colab-df-convert:hover {\n",
              "      background-color: #E2EBFA;\n",
              "      box-shadow: 0px 1px 2px rgba(60, 64, 67, 0.3), 0px 1px 3px 1px rgba(60, 64, 67, 0.15);\n",
              "      fill: #174EA6;\n",
              "    }\n",
              "\n",
              "    [theme=dark] .colab-df-convert {\n",
              "      background-color: #3B4455;\n",
              "      fill: #D2E3FC;\n",
              "    }\n",
              "\n",
              "    [theme=dark] .colab-df-convert:hover {\n",
              "      background-color: #434B5C;\n",
              "      box-shadow: 0px 1px 3px 1px rgba(0, 0, 0, 0.15);\n",
              "      filter: drop-shadow(0px 1px 2px rgba(0, 0, 0, 0.3));\n",
              "      fill: #FFFFFF;\n",
              "    }\n",
              "  </style>\n",
              "\n",
              "      <script>\n",
              "        const buttonEl =\n",
              "          document.querySelector('#df-fa80e674-14fb-4ee0-ac38-6e777a709f5d button.colab-df-convert');\n",
              "        buttonEl.style.display =\n",
              "          google.colab.kernel.accessAllowed ? 'block' : 'none';\n",
              "\n",
              "        async function convertToInteractive(key) {\n",
              "          const element = document.querySelector('#df-fa80e674-14fb-4ee0-ac38-6e777a709f5d');\n",
              "          const dataTable =\n",
              "            await google.colab.kernel.invokeFunction('convertToInteractive',\n",
              "                                                     [key], {});\n",
              "          if (!dataTable) return;\n",
              "\n",
              "          const docLinkHtml = 'Like what you see? Visit the ' +\n",
              "            '<a target=\"_blank\" href=https://colab.research.google.com/notebooks/data_table.ipynb>data table notebook</a>'\n",
              "            + ' to learn more about interactive tables.';\n",
              "          element.innerHTML = '';\n",
              "          dataTable['output_type'] = 'display_data';\n",
              "          await google.colab.output.renderOutput(dataTable, element);\n",
              "          const docLink = document.createElement('div');\n",
              "          docLink.innerHTML = docLinkHtml;\n",
              "          element.appendChild(docLink);\n",
              "        }\n",
              "      </script>\n",
              "    </div>\n",
              "  </div>\n",
              "  "
            ]
          },
          "metadata": {},
          "execution_count": 37
        }
      ]
    },
    {
      "cell_type": "code",
      "source": [
        "calc_vif(df1[[i for i in df1.describe().columns if i not in ['Date','Rented Bike Count', 'Dew point temperature(°C)']]])"
      ],
      "metadata": {
        "colab": {
          "base_uri": "https://localhost:8080/",
          "height": 300
        },
        "id": "OUrTm3j2RItm",
        "outputId": "348eed62-9c96-438e-8e93-6eb17672e360"
      },
      "execution_count": null,
      "outputs": [
        {
          "output_type": "execute_result",
          "data": {
            "text/plain": [
              "                 variables       VIF\n",
              "0                     Hour  3.921832\n",
              "1          Temperature(°C)  3.228318\n",
              "2              Humidity(%)  4.868221\n",
              "3         Wind speed (m/s)  4.608625\n",
              "4         Visibility (10m)  4.710170\n",
              "5  Solar Radiation (MJ/m2)  2.246791\n",
              "6             Rainfall(mm)  1.079158\n",
              "7            Snowfall (cm)  1.120579"
            ],
            "text/html": [
              "\n",
              "  <div id=\"df-6315158f-83b0-4964-8c00-8aab3bb258ad\">\n",
              "    <div class=\"colab-df-container\">\n",
              "      <div>\n",
              "<style scoped>\n",
              "    .dataframe tbody tr th:only-of-type {\n",
              "        vertical-align: middle;\n",
              "    }\n",
              "\n",
              "    .dataframe tbody tr th {\n",
              "        vertical-align: top;\n",
              "    }\n",
              "\n",
              "    .dataframe thead th {\n",
              "        text-align: right;\n",
              "    }\n",
              "</style>\n",
              "<table border=\"1\" class=\"dataframe\">\n",
              "  <thead>\n",
              "    <tr style=\"text-align: right;\">\n",
              "      <th></th>\n",
              "      <th>variables</th>\n",
              "      <th>VIF</th>\n",
              "    </tr>\n",
              "  </thead>\n",
              "  <tbody>\n",
              "    <tr>\n",
              "      <th>0</th>\n",
              "      <td>Hour</td>\n",
              "      <td>3.921832</td>\n",
              "    </tr>\n",
              "    <tr>\n",
              "      <th>1</th>\n",
              "      <td>Temperature(°C)</td>\n",
              "      <td>3.228318</td>\n",
              "    </tr>\n",
              "    <tr>\n",
              "      <th>2</th>\n",
              "      <td>Humidity(%)</td>\n",
              "      <td>4.868221</td>\n",
              "    </tr>\n",
              "    <tr>\n",
              "      <th>3</th>\n",
              "      <td>Wind speed (m/s)</td>\n",
              "      <td>4.608625</td>\n",
              "    </tr>\n",
              "    <tr>\n",
              "      <th>4</th>\n",
              "      <td>Visibility (10m)</td>\n",
              "      <td>4.710170</td>\n",
              "    </tr>\n",
              "    <tr>\n",
              "      <th>5</th>\n",
              "      <td>Solar Radiation (MJ/m2)</td>\n",
              "      <td>2.246791</td>\n",
              "    </tr>\n",
              "    <tr>\n",
              "      <th>6</th>\n",
              "      <td>Rainfall(mm)</td>\n",
              "      <td>1.079158</td>\n",
              "    </tr>\n",
              "    <tr>\n",
              "      <th>7</th>\n",
              "      <td>Snowfall (cm)</td>\n",
              "      <td>1.120579</td>\n",
              "    </tr>\n",
              "  </tbody>\n",
              "</table>\n",
              "</div>\n",
              "      <button class=\"colab-df-convert\" onclick=\"convertToInteractive('df-6315158f-83b0-4964-8c00-8aab3bb258ad')\"\n",
              "              title=\"Convert this dataframe to an interactive table.\"\n",
              "              style=\"display:none;\">\n",
              "        \n",
              "  <svg xmlns=\"http://www.w3.org/2000/svg\" height=\"24px\"viewBox=\"0 0 24 24\"\n",
              "       width=\"24px\">\n",
              "    <path d=\"M0 0h24v24H0V0z\" fill=\"none\"/>\n",
              "    <path d=\"M18.56 5.44l.94 2.06.94-2.06 2.06-.94-2.06-.94-.94-2.06-.94 2.06-2.06.94zm-11 1L8.5 8.5l.94-2.06 2.06-.94-2.06-.94L8.5 2.5l-.94 2.06-2.06.94zm10 10l.94 2.06.94-2.06 2.06-.94-2.06-.94-.94-2.06-.94 2.06-2.06.94z\"/><path d=\"M17.41 7.96l-1.37-1.37c-.4-.4-.92-.59-1.43-.59-.52 0-1.04.2-1.43.59L10.3 9.45l-7.72 7.72c-.78.78-.78 2.05 0 2.83L4 21.41c.39.39.9.59 1.41.59.51 0 1.02-.2 1.41-.59l7.78-7.78 2.81-2.81c.8-.78.8-2.07 0-2.86zM5.41 20L4 18.59l7.72-7.72 1.47 1.35L5.41 20z\"/>\n",
              "  </svg>\n",
              "      </button>\n",
              "      \n",
              "  <style>\n",
              "    .colab-df-container {\n",
              "      display:flex;\n",
              "      flex-wrap:wrap;\n",
              "      gap: 12px;\n",
              "    }\n",
              "\n",
              "    .colab-df-convert {\n",
              "      background-color: #E8F0FE;\n",
              "      border: none;\n",
              "      border-radius: 50%;\n",
              "      cursor: pointer;\n",
              "      display: none;\n",
              "      fill: #1967D2;\n",
              "      height: 32px;\n",
              "      padding: 0 0 0 0;\n",
              "      width: 32px;\n",
              "    }\n",
              "\n",
              "    .colab-df-convert:hover {\n",
              "      background-color: #E2EBFA;\n",
              "      box-shadow: 0px 1px 2px rgba(60, 64, 67, 0.3), 0px 1px 3px 1px rgba(60, 64, 67, 0.15);\n",
              "      fill: #174EA6;\n",
              "    }\n",
              "\n",
              "    [theme=dark] .colab-df-convert {\n",
              "      background-color: #3B4455;\n",
              "      fill: #D2E3FC;\n",
              "    }\n",
              "\n",
              "    [theme=dark] .colab-df-convert:hover {\n",
              "      background-color: #434B5C;\n",
              "      box-shadow: 0px 1px 3px 1px rgba(0, 0, 0, 0.15);\n",
              "      filter: drop-shadow(0px 1px 2px rgba(0, 0, 0, 0.3));\n",
              "      fill: #FFFFFF;\n",
              "    }\n",
              "  </style>\n",
              "\n",
              "      <script>\n",
              "        const buttonEl =\n",
              "          document.querySelector('#df-6315158f-83b0-4964-8c00-8aab3bb258ad button.colab-df-convert');\n",
              "        buttonEl.style.display =\n",
              "          google.colab.kernel.accessAllowed ? 'block' : 'none';\n",
              "\n",
              "        async function convertToInteractive(key) {\n",
              "          const element = document.querySelector('#df-6315158f-83b0-4964-8c00-8aab3bb258ad');\n",
              "          const dataTable =\n",
              "            await google.colab.kernel.invokeFunction('convertToInteractive',\n",
              "                                                     [key], {});\n",
              "          if (!dataTable) return;\n",
              "\n",
              "          const docLinkHtml = 'Like what you see? Visit the ' +\n",
              "            '<a target=\"_blank\" href=https://colab.research.google.com/notebooks/data_table.ipynb>data table notebook</a>'\n",
              "            + ' to learn more about interactive tables.';\n",
              "          element.innerHTML = '';\n",
              "          dataTable['output_type'] = 'display_data';\n",
              "          await google.colab.output.renderOutput(dataTable, element);\n",
              "          const docLink = document.createElement('div');\n",
              "          docLink.innerHTML = docLinkHtml;\n",
              "          element.appendChild(docLink);\n",
              "        }\n",
              "      </script>\n",
              "    </div>\n",
              "  </div>\n",
              "  "
            ]
          },
          "metadata": {},
          "execution_count": 38
        }
      ]
    },
    {
      "cell_type": "code",
      "source": [
        "df1= df1.drop(['Dew point temperature(°C)'],axis=1)"
      ],
      "metadata": {
        "id": "dw5CkUloYlrE"
      },
      "execution_count": null,
      "outputs": []
    },
    {
      "cell_type": "markdown",
      "source": [
        "# Categorical Features"
      ],
      "metadata": {
        "id": "zQ76jTKXbklU"
      }
    },
    {
      "cell_type": "markdown",
      "source": [
        "We have extracted day date and month from 'Date' column so we can drop the date column"
      ],
      "metadata": {
        "id": "RK0kROWOf02V"
      }
    },
    {
      "cell_type": "code",
      "source": [
        "#Dropping date columns\n",
        "df1 = df1.drop(['Date'], axis=1)"
      ],
      "metadata": {
        "id": "z-YNrj1kftB7"
      },
      "execution_count": null,
      "outputs": []
    },
    {
      "cell_type": "code",
      "source": [
        "categorical_features_info = df1.describe(include=['object','category'])"
      ],
      "metadata": {
        "id": "c55PcrEYbkH2"
      },
      "execution_count": null,
      "outputs": []
    },
    {
      "cell_type": "code",
      "source": [
        "categorical_columns =  list(df1.select_dtypes(['object', 'category']))\n",
        "categorical_features = pd.Index(categorical_columns)\n",
        "categorical_features"
      ],
      "metadata": {
        "colab": {
          "base_uri": "https://localhost:8080/"
        },
        "id": "qfZss1INeDgQ",
        "outputId": "960d5865-6e56-47bb-c034-264ff4cecb65"
      },
      "execution_count": null,
      "outputs": [
        {
          "output_type": "execute_result",
          "data": {
            "text/plain": [
              "Index(['Seasons', 'Holiday', 'Functioning Day', 'Month', 'Year', 'Day'], dtype='object')"
            ]
          },
          "metadata": {},
          "execution_count": 42
        }
      ]
    },
    {
      "cell_type": "code",
      "source": [
        "categorical_features_info\n"
      ],
      "metadata": {
        "colab": {
          "base_uri": "https://localhost:8080/",
          "height": 175
        },
        "id": "1sQAdi9nbjOx",
        "outputId": "b18afde4-13f4-494f-ec57-28631a31ae1e"
      },
      "execution_count": null,
      "outputs": [
        {
          "output_type": "execute_result",
          "data": {
            "text/plain": [
              "       Seasons     Holiday Functioning Day Month  Year   Day\n",
              "count     8760        8760            8760  8760  8760  8760\n",
              "unique       4           2               2     1     1     1\n",
              "top     Spring  No Holiday             Yes    10  2022    06\n",
              "freq      2208        8328            8465  8760  8760  8760"
            ],
            "text/html": [
              "\n",
              "  <div id=\"df-f5794293-98bc-48f2-8e00-85463bef45dc\">\n",
              "    <div class=\"colab-df-container\">\n",
              "      <div>\n",
              "<style scoped>\n",
              "    .dataframe tbody tr th:only-of-type {\n",
              "        vertical-align: middle;\n",
              "    }\n",
              "\n",
              "    .dataframe tbody tr th {\n",
              "        vertical-align: top;\n",
              "    }\n",
              "\n",
              "    .dataframe thead th {\n",
              "        text-align: right;\n",
              "    }\n",
              "</style>\n",
              "<table border=\"1\" class=\"dataframe\">\n",
              "  <thead>\n",
              "    <tr style=\"text-align: right;\">\n",
              "      <th></th>\n",
              "      <th>Seasons</th>\n",
              "      <th>Holiday</th>\n",
              "      <th>Functioning Day</th>\n",
              "      <th>Month</th>\n",
              "      <th>Year</th>\n",
              "      <th>Day</th>\n",
              "    </tr>\n",
              "  </thead>\n",
              "  <tbody>\n",
              "    <tr>\n",
              "      <th>count</th>\n",
              "      <td>8760</td>\n",
              "      <td>8760</td>\n",
              "      <td>8760</td>\n",
              "      <td>8760</td>\n",
              "      <td>8760</td>\n",
              "      <td>8760</td>\n",
              "    </tr>\n",
              "    <tr>\n",
              "      <th>unique</th>\n",
              "      <td>4</td>\n",
              "      <td>2</td>\n",
              "      <td>2</td>\n",
              "      <td>1</td>\n",
              "      <td>1</td>\n",
              "      <td>1</td>\n",
              "    </tr>\n",
              "    <tr>\n",
              "      <th>top</th>\n",
              "      <td>Spring</td>\n",
              "      <td>No Holiday</td>\n",
              "      <td>Yes</td>\n",
              "      <td>10</td>\n",
              "      <td>2022</td>\n",
              "      <td>06</td>\n",
              "    </tr>\n",
              "    <tr>\n",
              "      <th>freq</th>\n",
              "      <td>2208</td>\n",
              "      <td>8328</td>\n",
              "      <td>8465</td>\n",
              "      <td>8760</td>\n",
              "      <td>8760</td>\n",
              "      <td>8760</td>\n",
              "    </tr>\n",
              "  </tbody>\n",
              "</table>\n",
              "</div>\n",
              "      <button class=\"colab-df-convert\" onclick=\"convertToInteractive('df-f5794293-98bc-48f2-8e00-85463bef45dc')\"\n",
              "              title=\"Convert this dataframe to an interactive table.\"\n",
              "              style=\"display:none;\">\n",
              "        \n",
              "  <svg xmlns=\"http://www.w3.org/2000/svg\" height=\"24px\"viewBox=\"0 0 24 24\"\n",
              "       width=\"24px\">\n",
              "    <path d=\"M0 0h24v24H0V0z\" fill=\"none\"/>\n",
              "    <path d=\"M18.56 5.44l.94 2.06.94-2.06 2.06-.94-2.06-.94-.94-2.06-.94 2.06-2.06.94zm-11 1L8.5 8.5l.94-2.06 2.06-.94-2.06-.94L8.5 2.5l-.94 2.06-2.06.94zm10 10l.94 2.06.94-2.06 2.06-.94-2.06-.94-.94-2.06-.94 2.06-2.06.94z\"/><path d=\"M17.41 7.96l-1.37-1.37c-.4-.4-.92-.59-1.43-.59-.52 0-1.04.2-1.43.59L10.3 9.45l-7.72 7.72c-.78.78-.78 2.05 0 2.83L4 21.41c.39.39.9.59 1.41.59.51 0 1.02-.2 1.41-.59l7.78-7.78 2.81-2.81c.8-.78.8-2.07 0-2.86zM5.41 20L4 18.59l7.72-7.72 1.47 1.35L5.41 20z\"/>\n",
              "  </svg>\n",
              "      </button>\n",
              "      \n",
              "  <style>\n",
              "    .colab-df-container {\n",
              "      display:flex;\n",
              "      flex-wrap:wrap;\n",
              "      gap: 12px;\n",
              "    }\n",
              "\n",
              "    .colab-df-convert {\n",
              "      background-color: #E8F0FE;\n",
              "      border: none;\n",
              "      border-radius: 50%;\n",
              "      cursor: pointer;\n",
              "      display: none;\n",
              "      fill: #1967D2;\n",
              "      height: 32px;\n",
              "      padding: 0 0 0 0;\n",
              "      width: 32px;\n",
              "    }\n",
              "\n",
              "    .colab-df-convert:hover {\n",
              "      background-color: #E2EBFA;\n",
              "      box-shadow: 0px 1px 2px rgba(60, 64, 67, 0.3), 0px 1px 3px 1px rgba(60, 64, 67, 0.15);\n",
              "      fill: #174EA6;\n",
              "    }\n",
              "\n",
              "    [theme=dark] .colab-df-convert {\n",
              "      background-color: #3B4455;\n",
              "      fill: #D2E3FC;\n",
              "    }\n",
              "\n",
              "    [theme=dark] .colab-df-convert:hover {\n",
              "      background-color: #434B5C;\n",
              "      box-shadow: 0px 1px 3px 1px rgba(0, 0, 0, 0.15);\n",
              "      filter: drop-shadow(0px 1px 2px rgba(0, 0, 0, 0.3));\n",
              "      fill: #FFFFFF;\n",
              "    }\n",
              "  </style>\n",
              "\n",
              "      <script>\n",
              "        const buttonEl =\n",
              "          document.querySelector('#df-f5794293-98bc-48f2-8e00-85463bef45dc button.colab-df-convert');\n",
              "        buttonEl.style.display =\n",
              "          google.colab.kernel.accessAllowed ? 'block' : 'none';\n",
              "\n",
              "        async function convertToInteractive(key) {\n",
              "          const element = document.querySelector('#df-f5794293-98bc-48f2-8e00-85463bef45dc');\n",
              "          const dataTable =\n",
              "            await google.colab.kernel.invokeFunction('convertToInteractive',\n",
              "                                                     [key], {});\n",
              "          if (!dataTable) return;\n",
              "\n",
              "          const docLinkHtml = 'Like what you see? Visit the ' +\n",
              "            '<a target=\"_blank\" href=https://colab.research.google.com/notebooks/data_table.ipynb>data table notebook</a>'\n",
              "            + ' to learn more about interactive tables.';\n",
              "          element.innerHTML = '';\n",
              "          dataTable['output_type'] = 'display_data';\n",
              "          await google.colab.output.renderOutput(dataTable, element);\n",
              "          const docLink = document.createElement('div');\n",
              "          docLink.innerHTML = docLinkHtml;\n",
              "          element.appendChild(docLink);\n",
              "        }\n",
              "      </script>\n",
              "    </div>\n",
              "  </div>\n",
              "  "
            ]
          },
          "metadata": {},
          "execution_count": 43
        }
      ]
    },
    {
      "cell_type": "code",
      "source": [
        "categorical_features"
      ],
      "metadata": {
        "colab": {
          "base_uri": "https://localhost:8080/"
        },
        "id": "SfNg4vDRZK3R",
        "outputId": "31579c8f-f8d1-4ec7-9e59-2ab39d7d825b"
      },
      "execution_count": null,
      "outputs": [
        {
          "output_type": "execute_result",
          "data": {
            "text/plain": [
              "Index(['Seasons', 'Holiday', 'Functioning Day', 'Month', 'Year', 'Day'], dtype='object')"
            ]
          },
          "metadata": {},
          "execution_count": 44
        }
      ]
    },
    {
      "cell_type": "code",
      "source": [
        "df['Holiday'].unique()"
      ],
      "metadata": {
        "colab": {
          "base_uri": "https://localhost:8080/"
        },
        "id": "dSBt8JoYhGZH",
        "outputId": "a729f2cb-c785-41c6-870b-0da0f1226fdd"
      },
      "execution_count": null,
      "outputs": [
        {
          "output_type": "execute_result",
          "data": {
            "text/plain": [
              "array(['No Holiday', 'Holiday'], dtype=object)"
            ]
          },
          "metadata": {},
          "execution_count": 45
        }
      ]
    },
    {
      "cell_type": "code",
      "source": [
        "df1_seasons = pd.get_dummies(df['Seasons'])\n",
        "df1_holiday = pd.get_dummies(df['Holiday'])\n",
        "df1_functioningday = pd.get_dummies(df['Functioning Day'])"
      ],
      "metadata": {
        "id": "OkLQO3_EV6R-"
      },
      "execution_count": null,
      "outputs": []
    },
    {
      "cell_type": "code",
      "source": [
        "# Visulizing through Count pot\n",
        "plt.figure(figsize=(10,8))\n",
        "sns.countplot(x=df1['Holiday'])"
      ],
      "metadata": {
        "colab": {
          "base_uri": "https://localhost:8080/",
          "height": 514
        },
        "id": "DbU76GwahdC6",
        "outputId": "99c76fe7-bc85-48f7-cb42-ce585bd0bae5"
      },
      "execution_count": null,
      "outputs": [
        {
          "output_type": "execute_result",
          "data": {
            "text/plain": [
              "<matplotlib.axes._subplots.AxesSubplot at 0x7f7279362690>"
            ]
          },
          "metadata": {},
          "execution_count": 46
        },
        {
          "output_type": "display_data",
          "data": {
            "text/plain": [
              "<Figure size 720x576 with 1 Axes>"
            ],
            "image/png": "[encoded data removed]"
          },
          "metadata": {
            "needs_background": "light"
          }
        }
      ]
    },
    {
      "cell_type": "markdown",
      "source": [
        "Bike Count according to Holiday"
      ],
      "metadata": {
        "id": "VkOFZrN6iibK"
      }
    },
    {
      "cell_type": "code",
      "source": [
        "plt.figure(figsize=(20, 6))\n",
        "\n",
        "df_autox = pd.DataFrame(df1.groupby(['Holiday'])['Rented Bike Count'].mean().sort_values(ascending = False))\n",
        "df_autox.plot.bar()\n",
        "plt.title('Holiday vs Average Rented Bike Count')\n",
        "plt.show()"
      ],
      "metadata": {
        "colab": {
          "base_uri": "https://localhost:8080/",
          "height": 357
        },
        "id": "BXEe8WolltQT",
        "outputId": "fba93c4c-31a1-4a53-feac-38d4a6f9f8ae"
      },
      "execution_count": null,
      "outputs": [
        {
          "output_type": "display_data",
          "data": {
            "text/plain": [
              "<Figure size 1440x432 with 0 Axes>"
            ]
          },
          "metadata": {}
        },
        {
          "output_type": "display_data",
          "data": {
            "text/plain": [
              "<Figure size 432x288 with 1 Axes>"
            ],
            "image/png": "[encoded data removed]"
          },
          "metadata": {
            "needs_background": "light"
          }
        }
      ]
    },
    {
      "cell_type": "markdown",
      "source": [
        "More Rented Bikes are Required on the working days"
      ],
      "metadata": {
        "id": "RzwzqKwCmg7I"
      }
    },
    {
      "cell_type": "code",
      "source": [
        "df1['Month'].unique()"
      ],
      "metadata": {
        "colab": {
          "base_uri": "https://localhost:8080/"
        },
        "id": "bOCgkYHnGpBg",
        "outputId": "25413caa-565c-4c46-c3d6-363269dfb0f2"
      },
      "execution_count": null,
      "outputs": [
        {
          "output_type": "execute_result",
          "data": {
            "text/plain": [
              "array(['10'], dtype=object)"
            ]
          },
          "metadata": {},
          "execution_count": 48
        }
      ]
    },
    {
      "cell_type": "code",
      "source": [
        "plt.figure(figsize=(20, 6))\n",
        "\n",
        "df_autox = pd.DataFrame(df1.groupby(['Month'])['Rented Bike Count'].mean().sort_values(ascending = False))\n",
        "df_autox.plot.bar()\n",
        "plt.title('Holiday vs Average Rented Bike Count')\n",
        "plt.show()"
      ],
      "metadata": {
        "colab": {
          "base_uri": "https://localhost:8080/",
          "height": 315
        },
        "id": "EKPgRBMvGJM8",
        "outputId": "cf1e0ef9-851f-4aa3-cdb8-86e96e1c106c"
      },
      "execution_count": null,
      "outputs": [
        {
          "output_type": "display_data",
          "data": {
            "text/plain": [
              "<Figure size 1440x432 with 0 Axes>"
            ]
          },
          "metadata": {}
        },
        {
          "output_type": "display_data",
          "data": {
            "text/plain": [
              "<Figure size 432x288 with 1 Axes>"
            ],
            "image/png": "[encoded data removed]"
          },
          "metadata": {
            "needs_background": "light"
          }
        }
      ]
    },
    {
      "cell_type": "code",
      "source": [
        "# group by hotel)\n",
        "group_by_holiday=df1.groupby('Holiday')['Rented Bike Count'].mean().sort_values(ascending = False)"
      ],
      "metadata": {
        "id": "iOjE4S7lkt71"
      },
      "execution_count": null,
      "outputs": []
    },
    {
      "cell_type": "code",
      "source": [
        "df1.columns\n"
      ],
      "metadata": {
        "colab": {
          "base_uri": "https://localhost:8080/"
        },
        "id": "-fW3ghXITgeX",
        "outputId": "dcabaa4b-a949-42a9-a0df-94ad99fe9eab"
      },
      "execution_count": null,
      "outputs": [
        {
          "output_type": "execute_result",
          "data": {
            "text/plain": [
              "Index(['Rented Bike Count', 'Hour', 'Temperature(°C)', 'Humidity(%)',\n",
              "       'Wind speed (m/s)', 'Visibility (10m)', 'Solar Radiation (MJ/m2)',\n",
              "       'Rainfall(mm)', 'Snowfall (cm)', 'Seasons', 'Holiday',\n",
              "       'Functioning Day', 'Month', 'Year', 'Day'],\n",
              "      dtype='object')"
            ]
          },
          "metadata": {},
          "execution_count": 52
        }
      ]
    },
    {
      "cell_type": "markdown",
      "source": [],
      "metadata": {
        "id": "ns_SKJ3OCo3Y"
      }
    },
    {
      "cell_type": "code",
      "source": [
        "#Assign the value in X and Y\n",
        "X = df1.drop(columns=['Rented Bike Count'], axis=1)\n",
        "y = np.sqrt(df1['Rented Bike Count'])"
      ],
      "metadata": {
        "id": "OZ0VrhzHCn90"
      },
      "execution_count": null,
      "outputs": []
    },
    {
      "cell_type": "code",
      "source": [
        "X.head()"
      ],
      "metadata": {
        "colab": {
          "base_uri": "https://localhost:8080/",
          "height": 392
        },
        "id": "RIimmqjVCkAq",
        "outputId": "c9e16a61-73d9-4f66-c5c9-e7343691176a"
      },
      "execution_count": null,
      "outputs": [
        {
          "output_type": "execute_result",
          "data": {
            "text/plain": [
              "   Hour  Temperature(°C)  Humidity(%)  Wind speed (m/s)  Visibility (10m)  \\\n",
              "0     0             -5.2           37               2.2              2000   \n",
              "1     1             -5.5           38               0.8              2000   \n",
              "2     2             -6.0           39               1.0              2000   \n",
              "3     3             -6.2           40               0.9              2000   \n",
              "4     4             -6.0           36               2.3              2000   \n",
              "\n",
              "   Solar Radiation (MJ/m2)  Rainfall(mm)  Snowfall (cm) Seasons     Holiday  \\\n",
              "0                      0.0           0.0            0.0  Winter  No Holiday   \n",
              "1                      0.0           0.0            0.0  Winter  No Holiday   \n",
              "2                      0.0           0.0            0.0  Winter  No Holiday   \n",
              "3                      0.0           0.0            0.0  Winter  No Holiday   \n",
              "4                      0.0           0.0            0.0  Winter  No Holiday   \n",
              "\n",
              "  Functioning Day Month  Year Day  \n",
              "0             Yes    10  2022  06  \n",
              "1             Yes    10  2022  06  \n",
              "2             Yes    10  2022  06  \n",
              "3             Yes    10  2022  06  \n",
              "4             Yes    10  2022  06  "
            ],
            "text/html": [
              "\n",
              "  <div id=\"df-e89671a4-ff1d-4f30-b75b-699861b6674a\">\n",
              "    <div class=\"colab-df-container\">\n",
              "      <div>\n",
              "<style scoped>\n",
              "    .dataframe tbody tr th:only-of-type {\n",
              "        vertical-align: middle;\n",
              "    }\n",
              "\n",
              "    .dataframe tbody tr th {\n",
              "        vertical-align: top;\n",
              "    }\n",
              "\n",
              "    .dataframe thead th {\n",
              "        text-align: right;\n",
              "    }\n",
              "</style>\n",
              "<table border=\"1\" class=\"dataframe\">\n",
              "  <thead>\n",
              "    <tr style=\"text-align: right;\">\n",
              "      <th></th>\n",
              "      <th>Hour</th>\n",
              "      <th>Temperature(°C)</th>\n",
              "      <th>Humidity(%)</th>\n",
              "      <th>Wind speed (m/s)</th>\n",
              "      <th>Visibility (10m)</th>\n",
              "      <th>Solar Radiation (MJ/m2)</th>\n",
              "      <th>Rainfall(mm)</th>\n",
              "      <th>Snowfall (cm)</th>\n",
              "      <th>Seasons</th>\n",
              "      <th>Holiday</th>\n",
              "      <th>Functioning Day</th>\n",
              "      <th>Month</th>\n",
              "      <th>Year</th>\n",
              "      <th>Day</th>\n",
              "    </tr>\n",
              "  </thead>\n",
              "  <tbody>\n",
              "    <tr>\n",
              "      <th>0</th>\n",
              "      <td>0</td>\n",
              "      <td>-5.2</td>\n",
              "      <td>37</td>\n",
              "      <td>2.2</td>\n",
              "      <td>2000</td>\n",
              "      <td>0.0</td>\n",
              "      <td>0.0</td>\n",
              "      <td>0.0</td>\n",
              "      <td>Winter</td>\n",
              "      <td>No Holiday</td>\n",
              "      <td>Yes</td>\n",
              "      <td>10</td>\n",
              "      <td>2022</td>\n",
              "      <td>06</td>\n",
              "    </tr>\n",
              "    <tr>\n",
              "      <th>1</th>\n",
              "      <td>1</td>\n",
              "      <td>-5.5</td>\n",
              "      <td>38</td>\n",
              "      <td>0.8</td>\n",
              "      <td>2000</td>\n",
              "      <td>0.0</td>\n",
              "      <td>0.0</td>\n",
              "      <td>0.0</td>\n",
              "      <td>Winter</td>\n",
              "      <td>No Holiday</td>\n",
              "      <td>Yes</td>\n",
              "      <td>10</td>\n",
              "      <td>2022</td>\n",
              "      <td>06</td>\n",
              "    </tr>\n",
              "    <tr>\n",
              "      <th>2</th>\n",
              "      <td>2</td>\n",
              "      <td>-6.0</td>\n",
              "      <td>39</td>\n",
              "      <td>1.0</td>\n",
              "      <td>2000</td>\n",
              "      <td>0.0</td>\n",
              "      <td>0.0</td>\n",
              "      <td>0.0</td>\n",
              "      <td>Winter</td>\n",
              "      <td>No Holiday</td>\n",
              "      <td>Yes</td>\n",
              "      <td>10</td>\n",
              "      <td>2022</td>\n",
              "      <td>06</td>\n",
              "    </tr>\n",
              "    <tr>\n",
              "      <th>3</th>\n",
              "      <td>3</td>\n",
              "      <td>-6.2</td>\n",
              "      <td>40</td>\n",
              "      <td>0.9</td>\n",
              "      <td>2000</td>\n",
              "      <td>0.0</td>\n",
              "      <td>0.0</td>\n",
              "      <td>0.0</td>\n",
              "      <td>Winter</td>\n",
              "      <td>No Holiday</td>\n",
              "      <td>Yes</td>\n",
              "      <td>10</td>\n",
              "      <td>2022</td>\n",
              "      <td>06</td>\n",
              "    </tr>\n",
              "    <tr>\n",
              "      <th>4</th>\n",
              "      <td>4</td>\n",
              "      <td>-6.0</td>\n",
              "      <td>36</td>\n",
              "      <td>2.3</td>\n",
              "      <td>2000</td>\n",
              "      <td>0.0</td>\n",
              "      <td>0.0</td>\n",
              "      <td>0.0</td>\n",
              "      <td>Winter</td>\n",
              "      <td>No Holiday</td>\n",
              "      <td>Yes</td>\n",
              "      <td>10</td>\n",
              "      <td>2022</td>\n",
              "      <td>06</td>\n",
              "    </tr>\n",
              "  </tbody>\n",
              "</table>\n",
              "</div>\n",
              "      <button class=\"colab-df-convert\" onclick=\"convertToInteractive('df-e89671a4-ff1d-4f30-b75b-699861b6674a')\"\n",
              "              title=\"Convert this dataframe to an interactive table.\"\n",
              "              style=\"display:none;\">\n",
              "        \n",
              "  <svg xmlns=\"http://www.w3.org/2000/svg\" height=\"24px\"viewBox=\"0 0 24 24\"\n",
              "       width=\"24px\">\n",
              "    <path d=\"M0 0h24v24H0V0z\" fill=\"none\"/>\n",
              "    <path d=\"M18.56 5.44l.94 2.06.94-2.06 2.06-.94-2.06-.94-.94-2.06-.94 2.06-2.06.94zm-11 1L8.5 8.5l.94-2.06 2.06-.94-2.06-.94L8.5 2.5l-.94 2.06-2.06.94zm10 10l.94 2.06.94-2.06 2.06-.94-2.06-.94-.94-2.06-.94 2.06-2.06.94z\"/><path d=\"M17.41 7.96l-1.37-1.37c-.4-.4-.92-.59-1.43-.59-.52 0-1.04.2-1.43.59L10.3 9.45l-7.72 7.72c-.78.78-.78 2.05 0 2.83L4 21.41c.39.39.9.59 1.41.59.51 0 1.02-.2 1.41-.59l7.78-7.78 2.81-2.81c.8-.78.8-2.07 0-2.86zM5.41 20L4 18.59l7.72-7.72 1.47 1.35L5.41 20z\"/>\n",
              "  </svg>\n",
              "      </button>\n",
              "      \n",
              "  <style>\n",
              "    .colab-df-container {\n",
              "      display:flex;\n",
              "      flex-wrap:wrap;\n",
              "      gap: 12px;\n",
              "    }\n",
              "\n",
              "    .colab-df-convert {\n",
              "      background-color: #E8F0FE;\n",
              "      border: none;\n",
              "      border-radius: 50%;\n",
              "      cursor: pointer;\n",
              "      display: none;\n",
              "      fill: #1967D2;\n",
              "      height: 32px;\n",
              "      padding: 0 0 0 0;\n",
              "      width: 32px;\n",
              "    }\n",
              "\n",
              "    .colab-df-convert:hover {\n",
              "      background-color: #E2EBFA;\n",
              "      box-shadow: 0px 1px 2px rgba(60, 64, 67, 0.3), 0px 1px 3px 1px rgba(60, 64, 67, 0.15);\n",
              "      fill: #174EA6;\n",
              "    }\n",
              "\n",
              "    [theme=dark] .colab-df-convert {\n",
              "      background-color: #3B4455;\n",
              "      fill: #D2E3FC;\n",
              "    }\n",
              "\n",
              "    [theme=dark] .colab-df-convert:hover {\n",
              "      background-color: #434B5C;\n",
              "      box-shadow: 0px 1px 3px 1px rgba(0, 0, 0, 0.15);\n",
              "      filter: drop-shadow(0px 1px 2px rgba(0, 0, 0, 0.3));\n",
              "      fill: #FFFFFF;\n",
              "    }\n",
              "  </style>\n",
              "\n",
              "      <script>\n",
              "        const buttonEl =\n",
              "          document.querySelector('#df-e89671a4-ff1d-4f30-b75b-699861b6674a button.colab-df-convert');\n",
              "        buttonEl.style.display =\n",
              "          google.colab.kernel.accessAllowed ? 'block' : 'none';\n",
              "\n",
              "        async function convertToInteractive(key) {\n",
              "          const element = document.querySelector('#df-e89671a4-ff1d-4f30-b75b-699861b6674a');\n",
              "          const dataTable =\n",
              "            await google.colab.kernel.invokeFunction('convertToInteractive',\n",
              "                                                     [key], {});\n",
              "          if (!dataTable) return;\n",
              "\n",
              "          const docLinkHtml = 'Like what you see? Visit the ' +\n",
              "            '<a target=\"_blank\" href=https://colab.research.google.com/notebooks/data_table.ipynb>data table notebook</a>'\n",
              "            + ' to learn more about interactive tables.';\n",
              "          element.innerHTML = '';\n",
              "          dataTable['output_type'] = 'display_data';\n",
              "          await google.colab.output.renderOutput(dataTable, element);\n",
              "          const docLink = document.createElement('div');\n",
              "          docLink.innerHTML = docLinkHtml;\n",
              "          element.appendChild(docLink);\n",
              "        }\n",
              "      </script>\n",
              "    </div>\n",
              "  </div>\n",
              "  "
            ]
          },
          "metadata": {},
          "execution_count": 54
        }
      ]
    },
    {
      "cell_type": "code",
      "source": [
        "y.head()"
      ],
      "metadata": {
        "colab": {
          "base_uri": "https://localhost:8080/"
        },
        "id": "9TYO_eMXTxuO",
        "outputId": "289d7380-473a-45d7-87f2-61546af18016"
      },
      "execution_count": null,
      "outputs": [
        {
          "output_type": "execute_result",
          "data": {
            "text/plain": [
              "0    15.937377\n",
              "1    14.282857\n",
              "2    13.152946\n",
              "3    10.344080\n",
              "4     8.831761\n",
              "Name: Rented Bike Count, dtype: float64"
            ]
          },
          "metadata": {},
          "execution_count": 55
        }
      ]
    },
    {
      "cell_type": "code",
      "source": [
        "#Creat test and train data\n",
        "from sklearn.model_selection import train_test_split\n",
        "X_train, X_test, y_train, y_test = train_test_split(X,y, test_size=0.25, random_state=0)\n",
        "print(X_train.shape)\n",
        "print(X_test.shape)"
      ],
      "metadata": {
        "colab": {
          "base_uri": "https://localhost:8080/"
        },
        "id": "az5zIkPWT0-1",
        "outputId": "4bfda638-86c4-4176-d832-d638825b14a5"
      },
      "execution_count": null,
      "outputs": [
        {
          "output_type": "stream",
          "name": "stdout",
          "text": [
            "(6570, 14)\n",
            "(2190, 14)\n"
          ]
        }
      ]
    },
    {
      "cell_type": "code",
      "source": [
        "df1.describe().columns"
      ],
      "metadata": {
        "colab": {
          "base_uri": "https://localhost:8080/"
        },
        "id": "oZII4kGlT_c2",
        "outputId": "f337d218-0057-411f-913c-5749ece61ca9"
      },
      "execution_count": null,
      "outputs": [
        {
          "output_type": "execute_result",
          "data": {
            "text/plain": [
              "Index(['Rented Bike Count', 'Hour', 'Temperature(°C)', 'Humidity(%)',\n",
              "       'Wind speed (m/s)', 'Visibility (10m)', 'Solar Radiation (MJ/m2)',\n",
              "       'Rainfall(mm)', 'Snowfall (cm)'],\n",
              "      dtype='object')"
            ]
          },
          "metadata": {},
          "execution_count": 58
        }
      ]
    },
    {
      "cell_type": "markdown",
      "source": [
        "# 1. Linear Regression"
      ],
      "metadata": {
        "id": "-Yn6opqzUJYx"
      }
    },
    {
      "cell_type": "code",
      "source": [
        "#import the packages\n",
        "from sklearn.linear_model import LinearRegression\n",
        "reg= LinearRegression().fit(X_train, y_train)"
      ],
      "metadata": {
        "colab": {
          "base_uri": "https://localhost:8080/",
          "height": 345
        },
        "id": "k5T-JZuaUId8",
        "outputId": "8ee06103-4627-4b7e-dbb0-fefb56cb95ad"
      },
      "execution_count": null,
      "outputs": [
        {
          "output_type": "error",
          "ename": "ValueError",
          "evalue": "ignored",
          "traceback": [
            "\u001b[0;31m---------------------------------------------------------------------------\u001b[0m",
            "\u001b[0;31mValueError\u001b[0m                                Traceback (most recent call last)",
            "\u001b[0;32m<ipython-input-59-801a2b8b6f97>\u001b[0m in \u001b[0;36m<module>\u001b[0;34m\u001b[0m\n\u001b[1;32m      1\u001b[0m \u001b[0;31m#import the packages\u001b[0m\u001b[0;34m\u001b[0m\u001b[0;34m\u001b[0m\u001b[0;34m\u001b[0m\u001b[0m\n\u001b[1;32m      2\u001b[0m \u001b[0;32mfrom\u001b[0m \u001b[0msklearn\u001b[0m\u001b[0;34m.\u001b[0m\u001b[0mlinear_model\u001b[0m \u001b[0;32mimport\u001b[0m \u001b[0mLinearRegression\u001b[0m\u001b[0;34m\u001b[0m\u001b[0;34m\u001b[0m\u001b[0m\n\u001b[0;32m----> 3\u001b[0;31m \u001b[0mreg\u001b[0m\u001b[0;34m=\u001b[0m \u001b[0mLinearRegression\u001b[0m\u001b[0;34m(\u001b[0m\u001b[0;34m)\u001b[0m\u001b[0;34m.\u001b[0m\u001b[0mfit\u001b[0m\u001b[0;34m(\u001b[0m\u001b[0mX_train\u001b[0m\u001b[0;34m,\u001b[0m \u001b[0my_train\u001b[0m\u001b[0;34m)\u001b[0m\u001b[0;34m\u001b[0m\u001b[0;34m\u001b[0m\u001b[0m\n\u001b[0m",
            "\u001b[0;32m/usr/local/lib/python3.7/dist-packages/sklearn/linear_model/_base.py\u001b[0m in \u001b[0;36mfit\u001b[0;34m(self, X, y, sample_weight)\u001b[0m\n\u001b[1;32m    661\u001b[0m \u001b[0;34m\u001b[0m\u001b[0m\n\u001b[1;32m    662\u001b[0m         X, y = self._validate_data(\n\u001b[0;32m--> 663\u001b[0;31m             \u001b[0mX\u001b[0m\u001b[0;34m,\u001b[0m \u001b[0my\u001b[0m\u001b[0;34m,\u001b[0m \u001b[0maccept_sparse\u001b[0m\u001b[0;34m=\u001b[0m\u001b[0maccept_sparse\u001b[0m\u001b[0;34m,\u001b[0m \u001b[0my_numeric\u001b[0m\u001b[0;34m=\u001b[0m\u001b[0;32mTrue\u001b[0m\u001b[0;34m,\u001b[0m \u001b[0mmulti_output\u001b[0m\u001b[0;34m=\u001b[0m\u001b[0;32mTrue\u001b[0m\u001b[0;34m\u001b[0m\u001b[0;34m\u001b[0m\u001b[0m\n\u001b[0m\u001b[1;32m    664\u001b[0m         )\n\u001b[1;32m    665\u001b[0m \u001b[0;34m\u001b[0m\u001b[0m\n",
            "\u001b[0;32m/usr/local/lib/python3.7/dist-packages/sklearn/base.py\u001b[0m in \u001b[0;36m_validate_data\u001b[0;34m(self, X, y, reset, validate_separately, **check_params)\u001b[0m\n\u001b[1;32m    579\u001b[0m                 \u001b[0my\u001b[0m \u001b[0;34m=\u001b[0m \u001b[0mcheck_array\u001b[0m\u001b[0;34m(\u001b[0m\u001b[0my\u001b[0m\u001b[0;34m,\u001b[0m \u001b[0;34m**\u001b[0m\u001b[0mcheck_y_params\u001b[0m\u001b[0;34m)\u001b[0m\u001b[0;34m\u001b[0m\u001b[0;34m\u001b[0m\u001b[0m\n\u001b[1;32m    580\u001b[0m             \u001b[0;32melse\u001b[0m\u001b[0;34m:\u001b[0m\u001b[0;34m\u001b[0m\u001b[0;34m\u001b[0m\u001b[0m\n\u001b[0;32m--> 581\u001b[0;31m                 \u001b[0mX\u001b[0m\u001b[0;34m,\u001b[0m \u001b[0my\u001b[0m \u001b[0;34m=\u001b[0m \u001b[0mcheck_X_y\u001b[0m\u001b[0;34m(\u001b[0m\u001b[0mX\u001b[0m\u001b[0;34m,\u001b[0m \u001b[0my\u001b[0m\u001b[0;34m,\u001b[0m \u001b[0;34m**\u001b[0m\u001b[0mcheck_params\u001b[0m\u001b[0;34m)\u001b[0m\u001b[0;34m\u001b[0m\u001b[0;34m\u001b[0m\u001b[0m\n\u001b[0m\u001b[1;32m    582\u001b[0m             \u001b[0mout\u001b[0m \u001b[0;34m=\u001b[0m \u001b[0mX\u001b[0m\u001b[0;34m,\u001b[0m \u001b[0my\u001b[0m\u001b[0;34m\u001b[0m\u001b[0;34m\u001b[0m\u001b[0m\n\u001b[1;32m    583\u001b[0m \u001b[0;34m\u001b[0m\u001b[0m\n",
            "\u001b[0;32m/usr/local/lib/python3.7/dist-packages/sklearn/utils/validation.py\u001b[0m in \u001b[0;36mcheck_X_y\u001b[0;34m(X, y, accept_sparse, accept_large_sparse, dtype, order, copy, force_all_finite, ensure_2d, allow_nd, multi_output, ensure_min_samples, ensure_min_features, y_numeric, estimator)\u001b[0m\n\u001b[1;32m    974\u001b[0m         \u001b[0mensure_min_samples\u001b[0m\u001b[0;34m=\u001b[0m\u001b[0mensure_min_samples\u001b[0m\u001b[0;34m,\u001b[0m\u001b[0;34m\u001b[0m\u001b[0;34m\u001b[0m\u001b[0m\n\u001b[1;32m    975\u001b[0m         \u001b[0mensure_min_features\u001b[0m\u001b[0;34m=\u001b[0m\u001b[0mensure_min_features\u001b[0m\u001b[0;34m,\u001b[0m\u001b[0;34m\u001b[0m\u001b[0;34m\u001b[0m\u001b[0m\n\u001b[0;32m--> 976\u001b[0;31m         \u001b[0mestimator\u001b[0m\u001b[0;34m=\u001b[0m\u001b[0mestimator\u001b[0m\u001b[0;34m,\u001b[0m\u001b[0;34m\u001b[0m\u001b[0;34m\u001b[0m\u001b[0m\n\u001b[0m\u001b[1;32m    977\u001b[0m     )\n\u001b[1;32m    978\u001b[0m \u001b[0;34m\u001b[0m\u001b[0m\n",
            "\u001b[0;32m/usr/local/lib/python3.7/dist-packages/sklearn/utils/validation.py\u001b[0m in \u001b[0;36mcheck_array\u001b[0;34m(array, accept_sparse, accept_large_sparse, dtype, order, copy, force_all_finite, ensure_2d, allow_nd, ensure_min_samples, ensure_min_features, estimator)\u001b[0m\n\u001b[1;32m    744\u001b[0m                     \u001b[0marray\u001b[0m \u001b[0;34m=\u001b[0m \u001b[0marray\u001b[0m\u001b[0;34m.\u001b[0m\u001b[0mastype\u001b[0m\u001b[0;34m(\u001b[0m\u001b[0mdtype\u001b[0m\u001b[0;34m,\u001b[0m \u001b[0mcasting\u001b[0m\u001b[0;34m=\u001b[0m\u001b[0;34m\"unsafe\"\u001b[0m\u001b[0;34m,\u001b[0m \u001b[0mcopy\u001b[0m\u001b[0;34m=\u001b[0m\u001b[0;32mFalse\u001b[0m\u001b[0;34m)\u001b[0m\u001b[0;34m\u001b[0m\u001b[0;34m\u001b[0m\u001b[0m\n\u001b[1;32m    745\u001b[0m                 \u001b[0;32melse\u001b[0m\u001b[0;34m:\u001b[0m\u001b[0;34m\u001b[0m\u001b[0;34m\u001b[0m\u001b[0m\n\u001b[0;32m--> 746\u001b[0;31m                     \u001b[0marray\u001b[0m \u001b[0;34m=\u001b[0m \u001b[0mnp\u001b[0m\u001b[0;34m.\u001b[0m\u001b[0masarray\u001b[0m\u001b[0;34m(\u001b[0m\u001b[0marray\u001b[0m\u001b[0;34m,\u001b[0m \u001b[0morder\u001b[0m\u001b[0;34m=\u001b[0m\u001b[0morder\u001b[0m\u001b[0;34m,\u001b[0m \u001b[0mdtype\u001b[0m\u001b[0;34m=\u001b[0m\u001b[0mdtype\u001b[0m\u001b[0;34m)\u001b[0m\u001b[0;34m\u001b[0m\u001b[0;34m\u001b[0m\u001b[0m\n\u001b[0m\u001b[1;32m    747\u001b[0m             \u001b[0;32mexcept\u001b[0m \u001b[0mComplexWarning\u001b[0m \u001b[0;32mas\u001b[0m \u001b[0mcomplex_warning\u001b[0m\u001b[0;34m:\u001b[0m\u001b[0;34m\u001b[0m\u001b[0;34m\u001b[0m\u001b[0m\n\u001b[1;32m    748\u001b[0m                 raise ValueError(\n",
            "\u001b[0;32m/usr/local/lib/python3.7/dist-packages/pandas/core/generic.py\u001b[0m in \u001b[0;36m__array__\u001b[0;34m(self, dtype)\u001b[0m\n\u001b[1;32m   1991\u001b[0m \u001b[0;34m\u001b[0m\u001b[0m\n\u001b[1;32m   1992\u001b[0m     \u001b[0;32mdef\u001b[0m \u001b[0m__array__\u001b[0m\u001b[0;34m(\u001b[0m\u001b[0mself\u001b[0m\u001b[0;34m,\u001b[0m \u001b[0mdtype\u001b[0m\u001b[0;34m:\u001b[0m \u001b[0mNpDtype\u001b[0m \u001b[0;34m|\u001b[0m \u001b[0;32mNone\u001b[0m \u001b[0;34m=\u001b[0m \u001b[0;32mNone\u001b[0m\u001b[0;34m)\u001b[0m \u001b[0;34m->\u001b[0m \u001b[0mnp\u001b[0m\u001b[0;34m.\u001b[0m\u001b[0mndarray\u001b[0m\u001b[0;34m:\u001b[0m\u001b[0;34m\u001b[0m\u001b[0;34m\u001b[0m\u001b[0m\n\u001b[0;32m-> 1993\u001b[0;31m         \u001b[0;32mreturn\u001b[0m \u001b[0mnp\u001b[0m\u001b[0;34m.\u001b[0m\u001b[0masarray\u001b[0m\u001b[0;34m(\u001b[0m\u001b[0mself\u001b[0m\u001b[0;34m.\u001b[0m\u001b[0m_values\u001b[0m\u001b[0;34m,\u001b[0m \u001b[0mdtype\u001b[0m\u001b[0;34m=\u001b[0m\u001b[0mdtype\u001b[0m\u001b[0;34m)\u001b[0m\u001b[0;34m\u001b[0m\u001b[0;34m\u001b[0m\u001b[0m\n\u001b[0m\u001b[1;32m   1994\u001b[0m \u001b[0;34m\u001b[0m\u001b[0m\n\u001b[1;32m   1995\u001b[0m     def __array_wrap__(\n",
            "\u001b[0;31mValueError\u001b[0m: could not convert string to float: 'Autumn'"
          ]
        }
      ]
    }
  ]
}